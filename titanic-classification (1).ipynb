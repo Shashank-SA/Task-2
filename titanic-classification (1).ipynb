{
  "metadata": {
    "kernelspec": {
      "name": "python",
      "display_name": "Python (Pyodide)",
      "language": "python"
    },
    "language_info": {
      "codemirror_mode": {
        "name": "python",
        "version": 3
      },
      "file_extension": ".py",
      "mimetype": "text/x-python",
      "name": "python",
      "nbconvert_exporter": "python",
      "pygments_lexer": "ipython3",
      "version": "3.8"
    },
    "papermill": {
      "default_parameters": {},
      "duration": 20.278374,
      "end_time": "2021-12-23T08:40:05.684689",
      "environment_variables": {},
      "exception": null,
      "input_path": "__notebook__.ipynb",
      "output_path": "__notebook__.ipynb",
      "parameters": {},
      "start_time": "2021-12-23T08:39:45.406315",
      "version": "2.3.3"
    }
  },
  "nbformat_minor": 5,
  "nbformat": 4,
  "cells": [
    {
      "id": "785c83d5",
      "cell_type": "code",
      "source": "data= pd.read_csv(\"/kaggle/input/titanic/train.csv\")",
      "metadata": {
        "execution": {
          "iopub.execute_input": "2021-12-23T08:39:55.579512Z",
          "iopub.status.busy": "2021-12-23T08:39:55.578899Z",
          "iopub.status.idle": "2021-12-23T08:39:55.599277Z",
          "shell.execute_reply": "2021-12-23T08:39:55.599823Z",
          "shell.execute_reply.started": "2021-12-23T08:37:36.523344Z"
        },
        "papermill": {
          "duration": 0.066924,
          "end_time": "2021-12-23T08:39:55.599998",
          "exception": false,
          "start_time": "2021-12-23T08:39:55.533074",
          "status": "completed"
        },
        "tags": []
      },
      "outputs": [],
      "execution_count": 2
    },
    {
      "id": "958b0774",
      "cell_type": "code",
      "source": "data",
      "metadata": {
        "execution": {
          "iopub.execute_input": "2021-12-23T08:39:55.694324Z",
          "iopub.status.busy": "2021-12-23T08:39:55.693658Z",
          "iopub.status.idle": "2021-12-23T08:39:55.726212Z",
          "shell.execute_reply": "2021-12-23T08:39:55.726727Z",
          "shell.execute_reply.started": "2021-12-23T08:37:36.542756Z"
        },
        "papermill": {
          "duration": 0.081895,
          "end_time": "2021-12-23T08:39:55.726903",
          "exception": false,
          "start_time": "2021-12-23T08:39:55.645008",
          "status": "completed"
        },
        "tags": []
      },
      "outputs": [
        {
          "data": {
            "text/html": [
              "<div>\n",
              "<style scoped>\n",
              "    .dataframe tbody tr th:only-of-type {\n",
              "        vertical-align: middle;\n",
              "    }\n",
              "\n",
              "    .dataframe tbody tr th {\n",
              "        vertical-align: top;\n",
              "    }\n",
              "\n",
              "    .dataframe thead th {\n",
              "        text-align: right;\n",
              "    }\n",
              "</style>\n",
              "<table border=\"1\" class=\"dataframe\">\n",
              "  <thead>\n",
              "    <tr style=\"text-align: right;\">\n",
              "      <th></th>\n",
              "      <th>PassengerId</th>\n",
              "      <th>Survived</th>\n",
              "      <th>Pclass</th>\n",
              "      <th>Name</th>\n",
              "      <th>Sex</th>\n",
              "      <th>Age</th>\n",
              "      <th>SibSp</th>\n",
              "      <th>Parch</th>\n",
              "      <th>Ticket</th>\n",
              "      <th>Fare</th>\n",
              "      <th>Cabin</th>\n",
              "      <th>Embarked</th>\n",
              "    </tr>\n",
              "  </thead>\n",
              "  <tbody>\n",
              "    <tr>\n",
              "      <th>0</th>\n",
              "      <td>1</td>\n",
              "      <td>0</td>\n",
              "      <td>3</td>\n",
              "      <td>Braund, Mr. Owen Harris</td>\n",
              "      <td>male</td>\n",
              "      <td>22.0</td>\n",
              "      <td>1</td>\n",
              "      <td>0</td>\n",
              "      <td>A/5 21171</td>\n",
              "      <td>7.2500</td>\n",
              "      <td>NaN</td>\n",
              "      <td>S</td>\n",
              "    </tr>\n",
              "    <tr>\n",
              "      <th>1</th>\n",
              "      <td>2</td>\n",
              "      <td>1</td>\n",
              "      <td>1</td>\n",
              "      <td>Cumings, Mrs. John Bradley (Florence Briggs Th...</td>\n",
              "      <td>female</td>\n",
              "      <td>38.0</td>\n",
              "      <td>1</td>\n",
              "      <td>0</td>\n",
              "      <td>PC 17599</td>\n",
              "      <td>71.2833</td>\n",
              "      <td>C85</td>\n",
              "      <td>C</td>\n",
              "    </tr>\n",
              "    <tr>\n",
              "      <th>2</th>\n",
              "      <td>3</td>\n",
              "      <td>1</td>\n",
              "      <td>3</td>\n",
              "      <td>Heikkinen, Miss. Laina</td>\n",
              "      <td>female</td>\n",
              "      <td>26.0</td>\n",
              "      <td>0</td>\n",
              "      <td>0</td>\n",
              "      <td>STON/O2. 3101282</td>\n",
              "      <td>7.9250</td>\n",
              "      <td>NaN</td>\n",
              "      <td>S</td>\n",
              "    </tr>\n",
              "    <tr>\n",
              "      <th>3</th>\n",
              "      <td>4</td>\n",
              "      <td>1</td>\n",
              "      <td>1</td>\n",
              "      <td>Futrelle, Mrs. Jacques Heath (Lily May Peel)</td>\n",
              "      <td>female</td>\n",
              "      <td>35.0</td>\n",
              "      <td>1</td>\n",
              "      <td>0</td>\n",
              "      <td>113803</td>\n",
              "      <td>53.1000</td>\n",
              "      <td>C123</td>\n",
              "      <td>S</td>\n",
              "    </tr>\n",
              "    <tr>\n",
              "      <th>4</th>\n",
              "      <td>5</td>\n",
              "      <td>0</td>\n",
              "      <td>3</td>\n",
              "      <td>Allen, Mr. William Henry</td>\n",
              "      <td>male</td>\n",
              "      <td>35.0</td>\n",
              "      <td>0</td>\n",
              "      <td>0</td>\n",
              "      <td>373450</td>\n",
              "      <td>8.0500</td>\n",
              "      <td>NaN</td>\n",
              "      <td>S</td>\n",
              "    </tr>\n",
              "    <tr>\n",
              "      <th>...</th>\n",
              "      <td>...</td>\n",
              "      <td>...</td>\n",
              "      <td>...</td>\n",
              "      <td>...</td>\n",
              "      <td>...</td>\n",
              "      <td>...</td>\n",
              "      <td>...</td>\n",
              "      <td>...</td>\n",
              "      <td>...</td>\n",
              "      <td>...</td>\n",
              "      <td>...</td>\n",
              "      <td>...</td>\n",
              "    </tr>\n",
              "    <tr>\n",
              "      <th>886</th>\n",
              "      <td>887</td>\n",
              "      <td>0</td>\n",
              "      <td>2</td>\n",
              "      <td>Montvila, Rev. Juozas</td>\n",
              "      <td>male</td>\n",
              "      <td>27.0</td>\n",
              "      <td>0</td>\n",
              "      <td>0</td>\n",
              "      <td>211536</td>\n",
              "      <td>13.0000</td>\n",
              "      <td>NaN</td>\n",
              "      <td>S</td>\n",
              "    </tr>\n",
              "    <tr>\n",
              "      <th>887</th>\n",
              "      <td>888</td>\n",
              "      <td>1</td>\n",
              "      <td>1</td>\n",
              "      <td>Graham, Miss. Margaret Edith</td>\n",
              "      <td>female</td>\n",
              "      <td>19.0</td>\n",
              "      <td>0</td>\n",
              "      <td>0</td>\n",
              "      <td>112053</td>\n",
              "      <td>30.0000</td>\n",
              "      <td>B42</td>\n",
              "      <td>S</td>\n",
              "    </tr>\n",
              "    <tr>\n",
              "      <th>888</th>\n",
              "      <td>889</td>\n",
              "      <td>0</td>\n",
              "      <td>3</td>\n",
              "      <td>Johnston, Miss. Catherine Helen \"Carrie\"</td>\n",
              "      <td>female</td>\n",
              "      <td>NaN</td>\n",
              "      <td>1</td>\n",
              "      <td>2</td>\n",
              "      <td>W./C. 6607</td>\n",
              "      <td>23.4500</td>\n",
              "      <td>NaN</td>\n",
              "      <td>S</td>\n",
              "    </tr>\n",
              "    <tr>\n",
              "      <th>889</th>\n",
              "      <td>890</td>\n",
              "      <td>1</td>\n",
              "      <td>1</td>\n",
              "      <td>Behr, Mr. Karl Howell</td>\n",
              "      <td>male</td>\n",
              "      <td>26.0</td>\n",
              "      <td>0</td>\n",
              "      <td>0</td>\n",
              "      <td>111369</td>\n",
              "      <td>30.0000</td>\n",
              "      <td>C148</td>\n",
              "      <td>C</td>\n",
              "    </tr>\n",
              "    <tr>\n",
              "      <th>890</th>\n",
              "      <td>891</td>\n",
              "      <td>0</td>\n",
              "      <td>3</td>\n",
              "      <td>Dooley, Mr. Patrick</td>\n",
              "      <td>male</td>\n",
              "      <td>32.0</td>\n",
              "      <td>0</td>\n",
              "      <td>0</td>\n",
              "      <td>370376</td>\n",
              "      <td>7.7500</td>\n",
              "      <td>NaN</td>\n",
              "      <td>Q</td>\n",
              "    </tr>\n",
              "  </tbody>\n",
              "</table>\n",
              "<p>891 rows × 12 columns</p>\n",
              "</div>"
            ],
            "text/plain": [
              "     PassengerId  Survived  Pclass  \\\n",
              "0              1         0       3   \n",
              "1              2         1       1   \n",
              "2              3         1       3   \n",
              "3              4         1       1   \n",
              "4              5         0       3   \n",
              "..           ...       ...     ...   \n",
              "886          887         0       2   \n",
              "887          888         1       1   \n",
              "888          889         0       3   \n",
              "889          890         1       1   \n",
              "890          891         0       3   \n",
              "\n",
              "                                                  Name     Sex   Age  SibSp  \\\n",
              "0                              Braund, Mr. Owen Harris    male  22.0      1   \n",
              "1    Cumings, Mrs. John Bradley (Florence Briggs Th...  female  38.0      1   \n",
              "2                               Heikkinen, Miss. Laina  female  26.0      0   \n",
              "3         Futrelle, Mrs. Jacques Heath (Lily May Peel)  female  35.0      1   \n",
              "4                             Allen, Mr. William Henry    male  35.0      0   \n",
              "..                                                 ...     ...   ...    ...   \n",
              "886                              Montvila, Rev. Juozas    male  27.0      0   \n",
              "887                       Graham, Miss. Margaret Edith  female  19.0      0   \n",
              "888           Johnston, Miss. Catherine Helen \"Carrie\"  female   NaN      1   \n",
              "889                              Behr, Mr. Karl Howell    male  26.0      0   \n",
              "890                                Dooley, Mr. Patrick    male  32.0      0   \n",
              "\n",
              "     Parch            Ticket     Fare Cabin Embarked  \n",
              "0        0         A/5 21171   7.2500   NaN        S  \n",
              "1        0          PC 17599  71.2833   C85        C  \n",
              "2        0  STON/O2. 3101282   7.9250   NaN        S  \n",
              "3        0            113803  53.1000  C123        S  \n",
              "4        0            373450   8.0500   NaN        S  \n",
              "..     ...               ...      ...   ...      ...  \n",
              "886      0            211536  13.0000   NaN        S  \n",
              "887      0            112053  30.0000   B42        S  \n",
              "888      2        W./C. 6607  23.4500   NaN        S  \n",
              "889      0            111369  30.0000  C148        C  \n",
              "890      0            370376   7.7500   NaN        Q  \n",
              "\n",
              "[891 rows x 12 columns]"
            ]
          },
          "execution_count": 3,
          "metadata": {},
          "output_type": "execute_result"
        }
      ],
      "execution_count": 3
    },
    {
      "id": "68a66e17",
      "cell_type": "code",
      "source": "data.isnull().sum()",
      "metadata": {
        "execution": {
          "iopub.execute_input": "2021-12-23T08:39:55.824727Z",
          "iopub.status.busy": "2021-12-23T08:39:55.824062Z",
          "iopub.status.idle": "2021-12-23T08:39:55.827723Z",
          "shell.execute_reply": "2021-12-23T08:39:55.827182Z",
          "shell.execute_reply.started": "2021-12-23T08:37:36.564925Z"
        },
        "papermill": {
          "duration": 0.056324,
          "end_time": "2021-12-23T08:39:55.827860",
          "exception": false,
          "start_time": "2021-12-23T08:39:55.771536",
          "status": "completed"
        },
        "tags": []
      },
      "outputs": [
        {
          "data": {
            "text/plain": [
              "PassengerId      0\n",
              "Survived         0\n",
              "Pclass           0\n",
              "Name             0\n",
              "Sex              0\n",
              "Age            177\n",
              "SibSp            0\n",
              "Parch            0\n",
              "Ticket           0\n",
              "Fare             0\n",
              "Cabin          687\n",
              "Embarked         2\n",
              "dtype: int64"
            ]
          },
          "execution_count": 4,
          "metadata": {},
          "output_type": "execute_result"
        }
      ],
      "execution_count": 4
    },
    {
      "id": "9889ae5d",
      "cell_type": "code",
      "source": "data.Cabin = data.Cabin.fillna(0)\ndata.Embarked = data.Embarked.fillna(0)",
      "metadata": {
        "execution": {
          "iopub.execute_input": "2021-12-23T08:39:55.928274Z",
          "iopub.status.busy": "2021-12-23T08:39:55.927601Z",
          "iopub.status.idle": "2021-12-23T08:39:55.929689Z",
          "shell.execute_reply": "2021-12-23T08:39:55.930162Z",
          "shell.execute_reply.started": "2021-12-23T08:37:36.580292Z"
        },
        "papermill": {
          "duration": 0.057579,
          "end_time": "2021-12-23T08:39:55.930345",
          "exception": false,
          "start_time": "2021-12-23T08:39:55.872766",
          "status": "completed"
        },
        "tags": []
      },
      "outputs": [],
      "execution_count": 5
    },
    {
      "id": "1d01204b",
      "cell_type": "code",
      "source": "data.isnull().sum()",
      "metadata": {
        "execution": {
          "iopub.execute_input": "2021-12-23T08:39:56.024108Z",
          "iopub.status.busy": "2021-12-23T08:39:56.023455Z",
          "iopub.status.idle": "2021-12-23T08:39:56.030160Z",
          "shell.execute_reply": "2021-12-23T08:39:56.030781Z",
          "shell.execute_reply.started": "2021-12-23T08:37:36.595510Z"
        },
        "papermill": {
          "duration": 0.055915,
          "end_time": "2021-12-23T08:39:56.030951",
          "exception": false,
          "start_time": "2021-12-23T08:39:55.975036",
          "status": "completed"
        },
        "tags": []
      },
      "outputs": [
        {
          "data": {
            "text/plain": [
              "PassengerId      0\n",
              "Survived         0\n",
              "Pclass           0\n",
              "Name             0\n",
              "Sex              0\n",
              "Age            177\n",
              "SibSp            0\n",
              "Parch            0\n",
              "Ticket           0\n",
              "Fare             0\n",
              "Cabin            0\n",
              "Embarked         0\n",
              "dtype: int64"
            ]
          },
          "execution_count": 6,
          "metadata": {},
          "output_type": "execute_result"
        }
      ],
      "execution_count": 6
    },
    {
      "id": "a26ddbe5",
      "cell_type": "code",
      "source": "data=data[data.Embarked!=0]\ndata=data[data[(\"Embarked\")].map(data[\"Embarked\"].value_counts())>0]\ndata",
      "metadata": {
        "execution": {
          "iopub.execute_input": "2021-12-23T08:39:56.124988Z",
          "iopub.status.busy": "2021-12-23T08:39:56.124358Z",
          "iopub.status.idle": "2021-12-23T08:39:56.153251Z",
          "shell.execute_reply": "2021-12-23T08:39:56.153858Z",
          "shell.execute_reply.started": "2021-12-23T08:37:36.612216Z"
        },
        "papermill": {
          "duration": 0.078035,
          "end_time": "2021-12-23T08:39:56.154030",
          "exception": false,
          "start_time": "2021-12-23T08:39:56.075995",
          "status": "completed"
        },
        "tags": []
      },
      "outputs": [
        {
          "data": {
            "text/html": [
              "<div>\n",
              "<style scoped>\n",
              "    .dataframe tbody tr th:only-of-type {\n",
              "        vertical-align: middle;\n",
              "    }\n",
              "\n",
              "    .dataframe tbody tr th {\n",
              "        vertical-align: top;\n",
              "    }\n",
              "\n",
              "    .dataframe thead th {\n",
              "        text-align: right;\n",
              "    }\n",
              "</style>\n",
              "<table border=\"1\" class=\"dataframe\">\n",
              "  <thead>\n",
              "    <tr style=\"text-align: right;\">\n",
              "      <th></th>\n",
              "      <th>PassengerId</th>\n",
              "      <th>Survived</th>\n",
              "      <th>Pclass</th>\n",
              "      <th>Name</th>\n",
              "      <th>Sex</th>\n",
              "      <th>Age</th>\n",
              "      <th>SibSp</th>\n",
              "      <th>Parch</th>\n",
              "      <th>Ticket</th>\n",
              "      <th>Fare</th>\n",
              "      <th>Cabin</th>\n",
              "      <th>Embarked</th>\n",
              "    </tr>\n",
              "  </thead>\n",
              "  <tbody>\n",
              "    <tr>\n",
              "      <th>0</th>\n",
              "      <td>1</td>\n",
              "      <td>0</td>\n",
              "      <td>3</td>\n",
              "      <td>Braund, Mr. Owen Harris</td>\n",
              "      <td>male</td>\n",
              "      <td>22.0</td>\n",
              "      <td>1</td>\n",
              "      <td>0</td>\n",
              "      <td>A/5 21171</td>\n",
              "      <td>7.2500</td>\n",
              "      <td>0</td>\n",
              "      <td>S</td>\n",
              "    </tr>\n",
              "    <tr>\n",
              "      <th>1</th>\n",
              "      <td>2</td>\n",
              "      <td>1</td>\n",
              "      <td>1</td>\n",
              "      <td>Cumings, Mrs. John Bradley (Florence Briggs Th...</td>\n",
              "      <td>female</td>\n",
              "      <td>38.0</td>\n",
              "      <td>1</td>\n",
              "      <td>0</td>\n",
              "      <td>PC 17599</td>\n",
              "      <td>71.2833</td>\n",
              "      <td>C85</td>\n",
              "      <td>C</td>\n",
              "    </tr>\n",
              "    <tr>\n",
              "      <th>2</th>\n",
              "      <td>3</td>\n",
              "      <td>1</td>\n",
              "      <td>3</td>\n",
              "      <td>Heikkinen, Miss. Laina</td>\n",
              "      <td>female</td>\n",
              "      <td>26.0</td>\n",
              "      <td>0</td>\n",
              "      <td>0</td>\n",
              "      <td>STON/O2. 3101282</td>\n",
              "      <td>7.9250</td>\n",
              "      <td>0</td>\n",
              "      <td>S</td>\n",
              "    </tr>\n",
              "    <tr>\n",
              "      <th>3</th>\n",
              "      <td>4</td>\n",
              "      <td>1</td>\n",
              "      <td>1</td>\n",
              "      <td>Futrelle, Mrs. Jacques Heath (Lily May Peel)</td>\n",
              "      <td>female</td>\n",
              "      <td>35.0</td>\n",
              "      <td>1</td>\n",
              "      <td>0</td>\n",
              "      <td>113803</td>\n",
              "      <td>53.1000</td>\n",
              "      <td>C123</td>\n",
              "      <td>S</td>\n",
              "    </tr>\n",
              "    <tr>\n",
              "      <th>4</th>\n",
              "      <td>5</td>\n",
              "      <td>0</td>\n",
              "      <td>3</td>\n",
              "      <td>Allen, Mr. William Henry</td>\n",
              "      <td>male</td>\n",
              "      <td>35.0</td>\n",
              "      <td>0</td>\n",
              "      <td>0</td>\n",
              "      <td>373450</td>\n",
              "      <td>8.0500</td>\n",
              "      <td>0</td>\n",
              "      <td>S</td>\n",
              "    </tr>\n",
              "    <tr>\n",
              "      <th>...</th>\n",
              "      <td>...</td>\n",
              "      <td>...</td>\n",
              "      <td>...</td>\n",
              "      <td>...</td>\n",
              "      <td>...</td>\n",
              "      <td>...</td>\n",
              "      <td>...</td>\n",
              "      <td>...</td>\n",
              "      <td>...</td>\n",
              "      <td>...</td>\n",
              "      <td>...</td>\n",
              "      <td>...</td>\n",
              "    </tr>\n",
              "    <tr>\n",
              "      <th>886</th>\n",
              "      <td>887</td>\n",
              "      <td>0</td>\n",
              "      <td>2</td>\n",
              "      <td>Montvila, Rev. Juozas</td>\n",
              "      <td>male</td>\n",
              "      <td>27.0</td>\n",
              "      <td>0</td>\n",
              "      <td>0</td>\n",
              "      <td>211536</td>\n",
              "      <td>13.0000</td>\n",
              "      <td>0</td>\n",
              "      <td>S</td>\n",
              "    </tr>\n",
              "    <tr>\n",
              "      <th>887</th>\n",
              "      <td>888</td>\n",
              "      <td>1</td>\n",
              "      <td>1</td>\n",
              "      <td>Graham, Miss. Margaret Edith</td>\n",
              "      <td>female</td>\n",
              "      <td>19.0</td>\n",
              "      <td>0</td>\n",
              "      <td>0</td>\n",
              "      <td>112053</td>\n",
              "      <td>30.0000</td>\n",
              "      <td>B42</td>\n",
              "      <td>S</td>\n",
              "    </tr>\n",
              "    <tr>\n",
              "      <th>888</th>\n",
              "      <td>889</td>\n",
              "      <td>0</td>\n",
              "      <td>3</td>\n",
              "      <td>Johnston, Miss. Catherine Helen \"Carrie\"</td>\n",
              "      <td>female</td>\n",
              "      <td>NaN</td>\n",
              "      <td>1</td>\n",
              "      <td>2</td>\n",
              "      <td>W./C. 6607</td>\n",
              "      <td>23.4500</td>\n",
              "      <td>0</td>\n",
              "      <td>S</td>\n",
              "    </tr>\n",
              "    <tr>\n",
              "      <th>889</th>\n",
              "      <td>890</td>\n",
              "      <td>1</td>\n",
              "      <td>1</td>\n",
              "      <td>Behr, Mr. Karl Howell</td>\n",
              "      <td>male</td>\n",
              "      <td>26.0</td>\n",
              "      <td>0</td>\n",
              "      <td>0</td>\n",
              "      <td>111369</td>\n",
              "      <td>30.0000</td>\n",
              "      <td>C148</td>\n",
              "      <td>C</td>\n",
              "    </tr>\n",
              "    <tr>\n",
              "      <th>890</th>\n",
              "      <td>891</td>\n",
              "      <td>0</td>\n",
              "      <td>3</td>\n",
              "      <td>Dooley, Mr. Patrick</td>\n",
              "      <td>male</td>\n",
              "      <td>32.0</td>\n",
              "      <td>0</td>\n",
              "      <td>0</td>\n",
              "      <td>370376</td>\n",
              "      <td>7.7500</td>\n",
              "      <td>0</td>\n",
              "      <td>Q</td>\n",
              "    </tr>\n",
              "  </tbody>\n",
              "</table>\n",
              "<p>889 rows × 12 columns</p>\n",
              "</div>"
            ],
            "text/plain": [
              "     PassengerId  Survived  Pclass  \\\n",
              "0              1         0       3   \n",
              "1              2         1       1   \n",
              "2              3         1       3   \n",
              "3              4         1       1   \n",
              "4              5         0       3   \n",
              "..           ...       ...     ...   \n",
              "886          887         0       2   \n",
              "887          888         1       1   \n",
              "888          889         0       3   \n",
              "889          890         1       1   \n",
              "890          891         0       3   \n",
              "\n",
              "                                                  Name     Sex   Age  SibSp  \\\n",
              "0                              Braund, Mr. Owen Harris    male  22.0      1   \n",
              "1    Cumings, Mrs. John Bradley (Florence Briggs Th...  female  38.0      1   \n",
              "2                               Heikkinen, Miss. Laina  female  26.0      0   \n",
              "3         Futrelle, Mrs. Jacques Heath (Lily May Peel)  female  35.0      1   \n",
              "4                             Allen, Mr. William Henry    male  35.0      0   \n",
              "..                                                 ...     ...   ...    ...   \n",
              "886                              Montvila, Rev. Juozas    male  27.0      0   \n",
              "887                       Graham, Miss. Margaret Edith  female  19.0      0   \n",
              "888           Johnston, Miss. Catherine Helen \"Carrie\"  female   NaN      1   \n",
              "889                              Behr, Mr. Karl Howell    male  26.0      0   \n",
              "890                                Dooley, Mr. Patrick    male  32.0      0   \n",
              "\n",
              "     Parch            Ticket     Fare Cabin Embarked  \n",
              "0        0         A/5 21171   7.2500     0        S  \n",
              "1        0          PC 17599  71.2833   C85        C  \n",
              "2        0  STON/O2. 3101282   7.9250     0        S  \n",
              "3        0            113803  53.1000  C123        S  \n",
              "4        0            373450   8.0500     0        S  \n",
              "..     ...               ...      ...   ...      ...  \n",
              "886      0            211536  13.0000     0        S  \n",
              "887      0            112053  30.0000   B42        S  \n",
              "888      2        W./C. 6607  23.4500     0        S  \n",
              "889      0            111369  30.0000  C148        C  \n",
              "890      0            370376   7.7500     0        Q  \n",
              "\n",
              "[889 rows x 12 columns]"
            ]
          },
          "execution_count": 7,
          "metadata": {},
          "output_type": "execute_result"
        }
      ],
      "execution_count": 7
    },
    {
      "id": "16f46662",
      "cell_type": "code",
      "source": "data.dtypes",
      "metadata": {
        "execution": {
          "iopub.execute_input": "2021-12-23T08:39:56.248680Z",
          "iopub.status.busy": "2021-12-23T08:39:56.248045Z",
          "iopub.status.idle": "2021-12-23T08:39:56.253655Z",
          "shell.execute_reply": "2021-12-23T08:39:56.254230Z",
          "shell.execute_reply.started": "2021-12-23T08:37:36.643564Z"
        },
        "papermill": {
          "duration": 0.054482,
          "end_time": "2021-12-23T08:39:56.254413",
          "exception": false,
          "start_time": "2021-12-23T08:39:56.199931",
          "status": "completed"
        },
        "tags": []
      },
      "outputs": [
        {
          "data": {
            "text/plain": [
              "PassengerId      int64\n",
              "Survived         int64\n",
              "Pclass           int64\n",
              "Name            object\n",
              "Sex             object\n",
              "Age            float64\n",
              "SibSp            int64\n",
              "Parch            int64\n",
              "Ticket          object\n",
              "Fare           float64\n",
              "Cabin           object\n",
              "Embarked        object\n",
              "dtype: object"
            ]
          },
          "execution_count": 8,
          "metadata": {},
          "output_type": "execute_result"
        }
      ],
      "execution_count": 8
    },
    {
      "id": "38881c05",
      "cell_type": "code",
      "source": "x = data.drop(columns = ['Survived','Ticket','Cabin','Name','PassengerId'])",
      "metadata": {
        "execution": {
          "iopub.execute_input": "2021-12-23T08:39:56.350172Z",
          "iopub.status.busy": "2021-12-23T08:39:56.349564Z",
          "iopub.status.idle": "2021-12-23T08:39:56.353971Z",
          "shell.execute_reply": "2021-12-23T08:39:56.354575Z",
          "shell.execute_reply.started": "2021-12-23T08:37:36.652596Z"
        },
        "papermill": {
          "duration": 0.054108,
          "end_time": "2021-12-23T08:39:56.354766",
          "exception": false,
          "start_time": "2021-12-23T08:39:56.300658",
          "status": "completed"
        },
        "tags": []
      },
      "outputs": [],
      "execution_count": 9
    },
    {
      "id": "48fe476f",
      "cell_type": "code",
      "source": "y=data[['Survived']]",
      "metadata": {
        "execution": {
          "iopub.execute_input": "2021-12-23T08:39:56.450574Z",
          "iopub.status.busy": "2021-12-23T08:39:56.449965Z",
          "iopub.status.idle": "2021-12-23T08:39:56.453935Z",
          "shell.execute_reply": "2021-12-23T08:39:56.454544Z",
          "shell.execute_reply.started": "2021-12-23T08:37:36.667597Z"
        },
        "papermill": {
          "duration": 0.053383,
          "end_time": "2021-12-23T08:39:56.454725",
          "exception": false,
          "start_time": "2021-12-23T08:39:56.401342",
          "status": "completed"
        },
        "tags": []
      },
      "outputs": [],
      "execution_count": 10
    },
    {
      "id": "3416cd8e",
      "cell_type": "code",
      "source": "y",
      "metadata": {
        "execution": {
          "iopub.execute_input": "2021-12-23T08:39:56.557422Z",
          "iopub.status.busy": "2021-12-23T08:39:56.556750Z",
          "iopub.status.idle": "2021-12-23T08:39:56.560390Z",
          "shell.execute_reply": "2021-12-23T08:39:56.559870Z",
          "shell.execute_reply.started": "2021-12-23T08:37:36.681258Z"
        },
        "papermill": {
          "duration": 0.059628,
          "end_time": "2021-12-23T08:39:56.560524",
          "exception": false,
          "start_time": "2021-12-23T08:39:56.500896",
          "status": "completed"
        },
        "tags": []
      },
      "outputs": [
        {
          "data": {
            "text/html": [
              "<div>\n",
              "<style scoped>\n",
              "    .dataframe tbody tr th:only-of-type {\n",
              "        vertical-align: middle;\n",
              "    }\n",
              "\n",
              "    .dataframe tbody tr th {\n",
              "        vertical-align: top;\n",
              "    }\n",
              "\n",
              "    .dataframe thead th {\n",
              "        text-align: right;\n",
              "    }\n",
              "</style>\n",
              "<table border=\"1\" class=\"dataframe\">\n",
              "  <thead>\n",
              "    <tr style=\"text-align: right;\">\n",
              "      <th></th>\n",
              "      <th>Survived</th>\n",
              "    </tr>\n",
              "  </thead>\n",
              "  <tbody>\n",
              "    <tr>\n",
              "      <th>0</th>\n",
              "      <td>0</td>\n",
              "    </tr>\n",
              "    <tr>\n",
              "      <th>1</th>\n",
              "      <td>1</td>\n",
              "    </tr>\n",
              "    <tr>\n",
              "      <th>2</th>\n",
              "      <td>1</td>\n",
              "    </tr>\n",
              "    <tr>\n",
              "      <th>3</th>\n",
              "      <td>1</td>\n",
              "    </tr>\n",
              "    <tr>\n",
              "      <th>4</th>\n",
              "      <td>0</td>\n",
              "    </tr>\n",
              "    <tr>\n",
              "      <th>...</th>\n",
              "      <td>...</td>\n",
              "    </tr>\n",
              "    <tr>\n",
              "      <th>886</th>\n",
              "      <td>0</td>\n",
              "    </tr>\n",
              "    <tr>\n",
              "      <th>887</th>\n",
              "      <td>1</td>\n",
              "    </tr>\n",
              "    <tr>\n",
              "      <th>888</th>\n",
              "      <td>0</td>\n",
              "    </tr>\n",
              "    <tr>\n",
              "      <th>889</th>\n",
              "      <td>1</td>\n",
              "    </tr>\n",
              "    <tr>\n",
              "      <th>890</th>\n",
              "      <td>0</td>\n",
              "    </tr>\n",
              "  </tbody>\n",
              "</table>\n",
              "<p>889 rows × 1 columns</p>\n",
              "</div>"
            ],
            "text/plain": [
              "     Survived\n",
              "0           0\n",
              "1           1\n",
              "2           1\n",
              "3           1\n",
              "4           0\n",
              "..        ...\n",
              "886         0\n",
              "887         1\n",
              "888         0\n",
              "889         1\n",
              "890         0\n",
              "\n",
              "[889 rows x 1 columns]"
            ]
          },
          "execution_count": 11,
          "metadata": {},
          "output_type": "execute_result"
        }
      ],
      "execution_count": 11
    },
    {
      "id": "5a6fc7d8",
      "cell_type": "code",
      "source": "from sklearn.model_selection import train_test_split\nx_train,x_test,y_train,y_test = train_test_split(x,y,test_size = 0.3)",
      "metadata": {
        "execution": {
          "iopub.execute_input": "2021-12-23T08:39:56.657848Z",
          "iopub.status.busy": "2021-12-23T08:39:56.657196Z",
          "iopub.status.idle": "2021-12-23T08:39:57.724796Z",
          "shell.execute_reply": "2021-12-23T08:39:57.725322Z",
          "shell.execute_reply.started": "2021-12-23T08:37:36.703258Z"
        },
        "papermill": {
          "duration": 1.118342,
          "end_time": "2021-12-23T08:39:57.725495",
          "exception": false,
          "start_time": "2021-12-23T08:39:56.607153",
          "status": "completed"
        },
        "tags": []
      },
      "outputs": [],
      "execution_count": 12
    },
    {
      "id": "4185bcd4",
      "cell_type": "code",
      "source": "x.dtypes",
      "metadata": {
        "execution": {
          "iopub.execute_input": "2021-12-23T08:39:57.825242Z",
          "iopub.status.busy": "2021-12-23T08:39:57.824594Z",
          "iopub.status.idle": "2021-12-23T08:39:57.828855Z",
          "shell.execute_reply": "2021-12-23T08:39:57.829349Z",
          "shell.execute_reply.started": "2021-12-23T08:37:36.716873Z"
        },
        "papermill": {
          "duration": 0.057002,
          "end_time": "2021-12-23T08:39:57.829516",
          "exception": false,
          "start_time": "2021-12-23T08:39:57.772514",
          "status": "completed"
        },
        "tags": []
      },
      "outputs": [
        {
          "data": {
            "text/plain": [
              "Pclass        int64\n",
              "Sex          object\n",
              "Age         float64\n",
              "SibSp         int64\n",
              "Parch         int64\n",
              "Fare        float64\n",
              "Embarked     object\n",
              "dtype: object"
            ]
          },
          "execution_count": 13,
          "metadata": {},
          "output_type": "execute_result"
        }
      ],
      "execution_count": 13
    },
    {
      "id": "ed44a417",
      "cell_type": "code",
      "source": "x.Embarked.unique()",
      "metadata": {
        "execution": {
          "iopub.execute_input": "2021-12-23T08:39:57.928344Z",
          "iopub.status.busy": "2021-12-23T08:39:57.927680Z",
          "iopub.status.idle": "2021-12-23T08:39:57.931990Z",
          "shell.execute_reply": "2021-12-23T08:39:57.932462Z",
          "shell.execute_reply.started": "2021-12-23T08:37:36.732300Z"
        },
        "papermill": {
          "duration": 0.056199,
          "end_time": "2021-12-23T08:39:57.932643",
          "exception": false,
          "start_time": "2021-12-23T08:39:57.876444",
          "status": "completed"
        },
        "tags": []
      },
      "outputs": [
        {
          "data": {
            "text/plain": [
              "array(['S', 'C', 'Q'], dtype=object)"
            ]
          },
          "execution_count": 14,
          "metadata": {},
          "output_type": "execute_result"
        }
      ],
      "execution_count": 14
    },
    {
      "id": "b5744017",
      "cell_type": "code",
      "source": "x.head()",
      "metadata": {
        "execution": {
          "iopub.execute_input": "2021-12-23T08:39:58.040230Z",
          "iopub.status.busy": "2021-12-23T08:39:58.039599Z",
          "iopub.status.idle": "2021-12-23T08:39:58.042415Z",
          "shell.execute_reply": "2021-12-23T08:39:58.042947Z",
          "shell.execute_reply.started": "2021-12-23T08:37:36.741282Z"
        },
        "papermill": {
          "duration": 0.063188,
          "end_time": "2021-12-23T08:39:58.043125",
          "exception": false,
          "start_time": "2021-12-23T08:39:57.979937",
          "status": "completed"
        },
        "tags": []
      },
      "outputs": [
        {
          "data": {
            "text/html": [
              "<div>\n",
              "<style scoped>\n",
              "    .dataframe tbody tr th:only-of-type {\n",
              "        vertical-align: middle;\n",
              "    }\n",
              "\n",
              "    .dataframe tbody tr th {\n",
              "        vertical-align: top;\n",
              "    }\n",
              "\n",
              "    .dataframe thead th {\n",
              "        text-align: right;\n",
              "    }\n",
              "</style>\n",
              "<table border=\"1\" class=\"dataframe\">\n",
              "  <thead>\n",
              "    <tr style=\"text-align: right;\">\n",
              "      <th></th>\n",
              "      <th>Pclass</th>\n",
              "      <th>Sex</th>\n",
              "      <th>Age</th>\n",
              "      <th>SibSp</th>\n",
              "      <th>Parch</th>\n",
              "      <th>Fare</th>\n",
              "      <th>Embarked</th>\n",
              "    </tr>\n",
              "  </thead>\n",
              "  <tbody>\n",
              "    <tr>\n",
              "      <th>0</th>\n",
              "      <td>3</td>\n",
              "      <td>male</td>\n",
              "      <td>22.0</td>\n",
              "      <td>1</td>\n",
              "      <td>0</td>\n",
              "      <td>7.2500</td>\n",
              "      <td>S</td>\n",
              "    </tr>\n",
              "    <tr>\n",
              "      <th>1</th>\n",
              "      <td>1</td>\n",
              "      <td>female</td>\n",
              "      <td>38.0</td>\n",
              "      <td>1</td>\n",
              "      <td>0</td>\n",
              "      <td>71.2833</td>\n",
              "      <td>C</td>\n",
              "    </tr>\n",
              "    <tr>\n",
              "      <th>2</th>\n",
              "      <td>3</td>\n",
              "      <td>female</td>\n",
              "      <td>26.0</td>\n",
              "      <td>0</td>\n",
              "      <td>0</td>\n",
              "      <td>7.9250</td>\n",
              "      <td>S</td>\n",
              "    </tr>\n",
              "    <tr>\n",
              "      <th>3</th>\n",
              "      <td>1</td>\n",
              "      <td>female</td>\n",
              "      <td>35.0</td>\n",
              "      <td>1</td>\n",
              "      <td>0</td>\n",
              "      <td>53.1000</td>\n",
              "      <td>S</td>\n",
              "    </tr>\n",
              "    <tr>\n",
              "      <th>4</th>\n",
              "      <td>3</td>\n",
              "      <td>male</td>\n",
              "      <td>35.0</td>\n",
              "      <td>0</td>\n",
              "      <td>0</td>\n",
              "      <td>8.0500</td>\n",
              "      <td>S</td>\n",
              "    </tr>\n",
              "  </tbody>\n",
              "</table>\n",
              "</div>"
            ],
            "text/plain": [
              "   Pclass     Sex   Age  SibSp  Parch     Fare Embarked\n",
              "0       3    male  22.0      1      0   7.2500        S\n",
              "1       1  female  38.0      1      0  71.2833        C\n",
              "2       3  female  26.0      0      0   7.9250        S\n",
              "3       1  female  35.0      1      0  53.1000        S\n",
              "4       3    male  35.0      0      0   8.0500        S"
            ]
          },
          "execution_count": 15,
          "metadata": {},
          "output_type": "execute_result"
        }
      ],
      "execution_count": 15
    },
    {
      "id": "63746a14",
      "cell_type": "code",
      "source": "nom_col=[1]\nordi_col=[6]\nnum_col=[0,3,4,5]\nnull_col=[2]\n#kbin_cols=[]\n#binarizer_cols=[]",
      "metadata": {
        "execution": {
          "iopub.execute_input": "2021-12-23T08:39:58.144761Z",
          "iopub.status.busy": "2021-12-23T08:39:58.143798Z",
          "iopub.status.idle": "2021-12-23T08:39:58.147864Z",
          "shell.execute_reply": "2021-12-23T08:39:58.148369Z",
          "shell.execute_reply.started": "2021-12-23T08:37:36.761362Z"
        },
        "papermill": {
          "duration": 0.056046,
          "end_time": "2021-12-23T08:39:58.148543",
          "exception": false,
          "start_time": "2021-12-23T08:39:58.092497",
          "status": "completed"
        },
        "tags": []
      },
      "outputs": [],
      "execution_count": 16
    },
    {
      "id": "b5da3c7b",
      "cell_type": "code",
      "source": "from sklearn.preprocessing import OneHotEncoder, OrdinalEncoder,StandardScaler#,KBinsDiscretizer\nfrom sklearn.impute import SimpleImputer, KNNImputer\nfrom sklearn.compose import make_column_transformer\nfrom sklearn import set_config\ntrans = make_column_transformer((OneHotEncoder(sparse=False),nom_col),\n                                (OrdinalEncoder(),ordi_col),(StandardScaler(),num_col),(KNNImputer(),null_col),remainder='passthrough')\nset_config(display='diagram')\ntrans",
      "metadata": {
        "execution": {
          "iopub.execute_input": "2021-12-23T08:39:58.247961Z",
          "iopub.status.busy": "2021-12-23T08:39:58.246973Z",
          "iopub.status.idle": "2021-12-23T08:39:58.416098Z",
          "shell.execute_reply": "2021-12-23T08:39:58.416608Z",
          "shell.execute_reply.started": "2021-12-23T08:37:36.768579Z"
        },
        "papermill": {
          "duration": 0.220637,
          "end_time": "2021-12-23T08:39:58.416774",
          "exception": false,
          "start_time": "2021-12-23T08:39:58.196137",
          "status": "completed"
        },
        "tags": []
      },
      "outputs": [
        {
          "data": {
            "text/html": [
              "<style>div.sk-top-container {color: black;background-color: white;}div.sk-toggleable {background-color: white;}label.sk-toggleable__label {cursor: pointer;display: block;width: 100%;margin-bottom: 0;padding: 0.2em 0.3em;box-sizing: border-box;text-align: center;}div.sk-toggleable__content {max-height: 0;max-width: 0;overflow: hidden;text-align: left;background-color: #f0f8ff;}div.sk-toggleable__content pre {margin: 0.2em;color: black;border-radius: 0.25em;background-color: #f0f8ff;}input.sk-toggleable__control:checked~div.sk-toggleable__content {max-height: 200px;max-width: 100%;overflow: auto;}div.sk-estimator input.sk-toggleable__control:checked~label.sk-toggleable__label {background-color: #d4ebff;}div.sk-label input.sk-toggleable__control:checked~label.sk-toggleable__label {background-color: #d4ebff;}input.sk-hidden--visually {border: 0;clip: rect(1px 1px 1px 1px);clip: rect(1px, 1px, 1px, 1px);height: 1px;margin: -1px;overflow: hidden;padding: 0;position: absolute;width: 1px;}div.sk-estimator {font-family: monospace;background-color: #f0f8ff;margin: 0.25em 0.25em;border: 1px dotted black;border-radius: 0.25em;box-sizing: border-box;}div.sk-estimator:hover {background-color: #d4ebff;}div.sk-parallel-item::after {content: \"\";width: 100%;border-bottom: 1px solid gray;flex-grow: 1;}div.sk-label:hover label.sk-toggleable__label {background-color: #d4ebff;}div.sk-serial::before {content: \"\";position: absolute;border-left: 1px solid gray;box-sizing: border-box;top: 2em;bottom: 0;left: 50%;}div.sk-serial {display: flex;flex-direction: column;align-items: center;background-color: white;}div.sk-item {z-index: 1;}div.sk-parallel {display: flex;align-items: stretch;justify-content: center;background-color: white;}div.sk-parallel-item {display: flex;flex-direction: column;position: relative;background-color: white;}div.sk-parallel-item:first-child::after {align-self: flex-end;width: 50%;}div.sk-parallel-item:last-child::after {align-self: flex-start;width: 50%;}div.sk-parallel-item:only-child::after {width: 0;}div.sk-dashed-wrapped {border: 1px dashed gray;margin: 0.2em;box-sizing: border-box;padding-bottom: 0.1em;background-color: white;position: relative;}div.sk-label label {font-family: monospace;font-weight: bold;background-color: white;display: inline-block;line-height: 1.2em;}div.sk-label-container {position: relative;z-index: 2;text-align: center;}div.sk-container {display: inline-block;position: relative;}</style><div class=\"sk-top-container\"><div class=\"sk-container\"><div class=\"sk-item sk-dashed-wrapped\"><div class=\"sk-label-container\"><div class=\"sk-label sk-toggleable\"><input class=\"sk-toggleable__control sk-hidden--visually\" id=\"282fc071-ce84-40e1-a0f2-0a95e0f84ab7\" type=\"checkbox\" ><label class=\"sk-toggleable__label\" for=\"282fc071-ce84-40e1-a0f2-0a95e0f84ab7\">ColumnTransformer</label><div class=\"sk-toggleable__content\"><pre>ColumnTransformer(remainder='passthrough',\n",
              "                  transformers=[('onehotencoder', OneHotEncoder(sparse=False),\n",
              "                                 [1]),\n",
              "                                ('ordinalencoder', OrdinalEncoder(), [6]),\n",
              "                                ('standardscaler', StandardScaler(),\n",
              "                                 [0, 3, 4, 5]),\n",
              "                                ('knnimputer', KNNImputer(), [2])])</pre></div></div></div><div class=\"sk-parallel\"><div class=\"sk-parallel-item\"><div class=\"sk-item\"><div class=\"sk-label-container\"><div class=\"sk-label sk-toggleable\"><input class=\"sk-toggleable__control sk-hidden--visually\" id=\"642d3ced-3d0a-44be-bd0f-99a91adff4d3\" type=\"checkbox\" ><label class=\"sk-toggleable__label\" for=\"642d3ced-3d0a-44be-bd0f-99a91adff4d3\">onehotencoder</label><div class=\"sk-toggleable__content\"><pre>[1]</pre></div></div></div><div class=\"sk-serial\"><div class=\"sk-item\"><div class=\"sk-estimator sk-toggleable\"><input class=\"sk-toggleable__control sk-hidden--visually\" id=\"629a003c-be52-4b70-b927-eebbb3313207\" type=\"checkbox\" ><label class=\"sk-toggleable__label\" for=\"629a003c-be52-4b70-b927-eebbb3313207\">OneHotEncoder</label><div class=\"sk-toggleable__content\"><pre>OneHotEncoder(sparse=False)</pre></div></div></div></div></div></div><div class=\"sk-parallel-item\"><div class=\"sk-item\"><div class=\"sk-label-container\"><div class=\"sk-label sk-toggleable\"><input class=\"sk-toggleable__control sk-hidden--visually\" id=\"67d97f11-055c-42b1-b198-3d94854f65aa\" type=\"checkbox\" ><label class=\"sk-toggleable__label\" for=\"67d97f11-055c-42b1-b198-3d94854f65aa\">ordinalencoder</label><div class=\"sk-toggleable__content\"><pre>[6]</pre></div></div></div><div class=\"sk-serial\"><div class=\"sk-item\"><div class=\"sk-estimator sk-toggleable\"><input class=\"sk-toggleable__control sk-hidden--visually\" id=\"695648fb-9247-4ac3-a514-ead65469857e\" type=\"checkbox\" ><label class=\"sk-toggleable__label\" for=\"695648fb-9247-4ac3-a514-ead65469857e\">OrdinalEncoder</label><div class=\"sk-toggleable__content\"><pre>OrdinalEncoder()</pre></div></div></div></div></div></div><div class=\"sk-parallel-item\"><div class=\"sk-item\"><div class=\"sk-label-container\"><div class=\"sk-label sk-toggleable\"><input class=\"sk-toggleable__control sk-hidden--visually\" id=\"7e68fff2-31cd-4730-8a8d-35c411b3f850\" type=\"checkbox\" ><label class=\"sk-toggleable__label\" for=\"7e68fff2-31cd-4730-8a8d-35c411b3f850\">standardscaler</label><div class=\"sk-toggleable__content\"><pre>[0, 3, 4, 5]</pre></div></div></div><div class=\"sk-serial\"><div class=\"sk-item\"><div class=\"sk-estimator sk-toggleable\"><input class=\"sk-toggleable__control sk-hidden--visually\" id=\"c0e4131f-9d17-4780-86ee-e5e595a9f3b6\" type=\"checkbox\" ><label class=\"sk-toggleable__label\" for=\"c0e4131f-9d17-4780-86ee-e5e595a9f3b6\">StandardScaler</label><div class=\"sk-toggleable__content\"><pre>StandardScaler()</pre></div></div></div></div></div></div><div class=\"sk-parallel-item\"><div class=\"sk-item\"><div class=\"sk-label-container\"><div class=\"sk-label sk-toggleable\"><input class=\"sk-toggleable__control sk-hidden--visually\" id=\"85ed38a1-61bb-4204-b9f2-c2589e827818\" type=\"checkbox\" ><label class=\"sk-toggleable__label\" for=\"85ed38a1-61bb-4204-b9f2-c2589e827818\">knnimputer</label><div class=\"sk-toggleable__content\"><pre>[2]</pre></div></div></div><div class=\"sk-serial\"><div class=\"sk-item\"><div class=\"sk-estimator sk-toggleable\"><input class=\"sk-toggleable__control sk-hidden--visually\" id=\"f76c2581-5840-402f-bb2d-4ac3cef10242\" type=\"checkbox\" ><label class=\"sk-toggleable__label\" for=\"f76c2581-5840-402f-bb2d-4ac3cef10242\">KNNImputer</label><div class=\"sk-toggleable__content\"><pre>KNNImputer()</pre></div></div></div></div></div></div></div></div></div></div>"
            ],
            "text/plain": [
              "ColumnTransformer(remainder='passthrough',\n",
              "                  transformers=[('onehotencoder', OneHotEncoder(sparse=False),\n",
              "                                 [1]),\n",
              "                                ('ordinalencoder', OrdinalEncoder(), [6]),\n",
              "                                ('standardscaler', StandardScaler(),\n",
              "                                 [0, 3, 4, 5]),\n",
              "                                ('knnimputer', KNNImputer(), [2])])"
            ]
          },
          "execution_count": 17,
          "metadata": {},
          "output_type": "execute_result"
        }
      ],
      "execution_count": 17
    },
    {
      "id": "15005152",
      "cell_type": "code",
      "source": "from sklearn.tree import DecisionTreeClassifier\nmodel_4 =DecisionTreeClassifier(criterion='entropy')",
      "metadata": {
        "execution": {
          "iopub.execute_input": "2021-12-23T08:39:58.518150Z",
          "iopub.status.busy": "2021-12-23T08:39:58.517211Z",
          "iopub.status.idle": "2021-12-23T08:39:58.549118Z",
          "shell.execute_reply": "2021-12-23T08:39:58.549674Z",
          "shell.execute_reply.started": "2021-12-23T08:37:36.790735Z"
        },
        "papermill": {
          "duration": 0.08379,
          "end_time": "2021-12-23T08:39:58.549865",
          "exception": false,
          "start_time": "2021-12-23T08:39:58.466075",
          "status": "completed"
        },
        "tags": []
      },
      "outputs": [],
      "execution_count": 18
    },
    {
      "id": "d9a80ab2",
      "cell_type": "code",
      "source": "from sklearn.pipeline import make_pipeline\npipe_4=make_pipeline(trans,model_4)\npipe_4",
      "metadata": {
        "execution": {
          "iopub.execute_input": "2021-12-23T08:39:58.650411Z",
          "iopub.status.busy": "2021-12-23T08:39:58.649434Z",
          "iopub.status.idle": "2021-12-23T08:39:58.703702Z",
          "shell.execute_reply": "2021-12-23T08:39:58.703034Z",
          "shell.execute_reply.started": "2021-12-23T08:37:36.805449Z"
        },
        "papermill": {
          "duration": 0.105574,
          "end_time": "2021-12-23T08:39:58.703844",
          "exception": false,
          "start_time": "2021-12-23T08:39:58.598270",
          "status": "completed"
        },
        "tags": []
      },
      "outputs": [
        {
          "data": {
            "text/html": [
              "<style>div.sk-top-container {color: black;background-color: white;}div.sk-toggleable {background-color: white;}label.sk-toggleable__label {cursor: pointer;display: block;width: 100%;margin-bottom: 0;padding: 0.2em 0.3em;box-sizing: border-box;text-align: center;}div.sk-toggleable__content {max-height: 0;max-width: 0;overflow: hidden;text-align: left;background-color: #f0f8ff;}div.sk-toggleable__content pre {margin: 0.2em;color: black;border-radius: 0.25em;background-color: #f0f8ff;}input.sk-toggleable__control:checked~div.sk-toggleable__content {max-height: 200px;max-width: 100%;overflow: auto;}div.sk-estimator input.sk-toggleable__control:checked~label.sk-toggleable__label {background-color: #d4ebff;}div.sk-label input.sk-toggleable__control:checked~label.sk-toggleable__label {background-color: #d4ebff;}input.sk-hidden--visually {border: 0;clip: rect(1px 1px 1px 1px);clip: rect(1px, 1px, 1px, 1px);height: 1px;margin: -1px;overflow: hidden;padding: 0;position: absolute;width: 1px;}div.sk-estimator {font-family: monospace;background-color: #f0f8ff;margin: 0.25em 0.25em;border: 1px dotted black;border-radius: 0.25em;box-sizing: border-box;}div.sk-estimator:hover {background-color: #d4ebff;}div.sk-parallel-item::after {content: \"\";width: 100%;border-bottom: 1px solid gray;flex-grow: 1;}div.sk-label:hover label.sk-toggleable__label {background-color: #d4ebff;}div.sk-serial::before {content: \"\";position: absolute;border-left: 1px solid gray;box-sizing: border-box;top: 2em;bottom: 0;left: 50%;}div.sk-serial {display: flex;flex-direction: column;align-items: center;background-color: white;}div.sk-item {z-index: 1;}div.sk-parallel {display: flex;align-items: stretch;justify-content: center;background-color: white;}div.sk-parallel-item {display: flex;flex-direction: column;position: relative;background-color: white;}div.sk-parallel-item:first-child::after {align-self: flex-end;width: 50%;}div.sk-parallel-item:last-child::after {align-self: flex-start;width: 50%;}div.sk-parallel-item:only-child::after {width: 0;}div.sk-dashed-wrapped {border: 1px dashed gray;margin: 0.2em;box-sizing: border-box;padding-bottom: 0.1em;background-color: white;position: relative;}div.sk-label label {font-family: monospace;font-weight: bold;background-color: white;display: inline-block;line-height: 1.2em;}div.sk-label-container {position: relative;z-index: 2;text-align: center;}div.sk-container {display: inline-block;position: relative;}</style><div class=\"sk-top-container\"><div class=\"sk-container\"><div class=\"sk-item sk-dashed-wrapped\"><div class=\"sk-label-container\"><div class=\"sk-label sk-toggleable\"><input class=\"sk-toggleable__control sk-hidden--visually\" id=\"e57031ef-f200-4606-a38a-2f8db0f164f5\" type=\"checkbox\" ><label class=\"sk-toggleable__label\" for=\"e57031ef-f200-4606-a38a-2f8db0f164f5\">Pipeline</label><div class=\"sk-toggleable__content\"><pre>Pipeline(steps=[('columntransformer',\n",
              "                 ColumnTransformer(remainder='passthrough',\n",
              "                                   transformers=[('onehotencoder',\n",
              "                                                  OneHotEncoder(sparse=False),\n",
              "                                                  [1]),\n",
              "                                                 ('ordinalencoder',\n",
              "                                                  OrdinalEncoder(), [6]),\n",
              "                                                 ('standardscaler',\n",
              "                                                  StandardScaler(),\n",
              "                                                  [0, 3, 4, 5]),\n",
              "                                                 ('knnimputer', KNNImputer(),\n",
              "                                                  [2])])),\n",
              "                ('decisiontreeclassifier',\n",
              "                 DecisionTreeClassifier(criterion='entropy'))])</pre></div></div></div><div class=\"sk-serial\"><div class=\"sk-item sk-dashed-wrapped\"><div class=\"sk-label-container\"><div class=\"sk-label sk-toggleable\"><input class=\"sk-toggleable__control sk-hidden--visually\" id=\"b69677f7-485c-4516-9352-9ea27bc2c777\" type=\"checkbox\" ><label class=\"sk-toggleable__label\" for=\"b69677f7-485c-4516-9352-9ea27bc2c777\">columntransformer: ColumnTransformer</label><div class=\"sk-toggleable__content\"><pre>ColumnTransformer(remainder='passthrough',\n",
              "                  transformers=[('onehotencoder', OneHotEncoder(sparse=False),\n",
              "                                 [1]),\n",
              "                                ('ordinalencoder', OrdinalEncoder(), [6]),\n",
              "                                ('standardscaler', StandardScaler(),\n",
              "                                 [0, 3, 4, 5]),\n",
              "                                ('knnimputer', KNNImputer(), [2])])</pre></div></div></div><div class=\"sk-parallel\"><div class=\"sk-parallel-item\"><div class=\"sk-item\"><div class=\"sk-label-container\"><div class=\"sk-label sk-toggleable\"><input class=\"sk-toggleable__control sk-hidden--visually\" id=\"558d2b79-c453-4158-95d4-c002f8e6b7e4\" type=\"checkbox\" ><label class=\"sk-toggleable__label\" for=\"558d2b79-c453-4158-95d4-c002f8e6b7e4\">onehotencoder</label><div class=\"sk-toggleable__content\"><pre>[1]</pre></div></div></div><div class=\"sk-serial\"><div class=\"sk-item\"><div class=\"sk-estimator sk-toggleable\"><input class=\"sk-toggleable__control sk-hidden--visually\" id=\"b8150cbb-403b-4c6c-998a-e99236e3f457\" type=\"checkbox\" ><label class=\"sk-toggleable__label\" for=\"b8150cbb-403b-4c6c-998a-e99236e3f457\">OneHotEncoder</label><div class=\"sk-toggleable__content\"><pre>OneHotEncoder(sparse=False)</pre></div></div></div></div></div></div><div class=\"sk-parallel-item\"><div class=\"sk-item\"><div class=\"sk-label-container\"><div class=\"sk-label sk-toggleable\"><input class=\"sk-toggleable__control sk-hidden--visually\" id=\"a789a8b9-3fb3-4bc5-aa94-e4ca063a8951\" type=\"checkbox\" ><label class=\"sk-toggleable__label\" for=\"a789a8b9-3fb3-4bc5-aa94-e4ca063a8951\">ordinalencoder</label><div class=\"sk-toggleable__content\"><pre>[6]</pre></div></div></div><div class=\"sk-serial\"><div class=\"sk-item\"><div class=\"sk-estimator sk-toggleable\"><input class=\"sk-toggleable__control sk-hidden--visually\" id=\"ec8c48db-3083-4ab8-9100-6a8ee754c829\" type=\"checkbox\" ><label class=\"sk-toggleable__label\" for=\"ec8c48db-3083-4ab8-9100-6a8ee754c829\">OrdinalEncoder</label><div class=\"sk-toggleable__content\"><pre>OrdinalEncoder()</pre></div></div></div></div></div></div><div class=\"sk-parallel-item\"><div class=\"sk-item\"><div class=\"sk-label-container\"><div class=\"sk-label sk-toggleable\"><input class=\"sk-toggleable__control sk-hidden--visually\" id=\"73fb8dfb-c97a-4897-a80f-3aa94ac02836\" type=\"checkbox\" ><label class=\"sk-toggleable__label\" for=\"73fb8dfb-c97a-4897-a80f-3aa94ac02836\">standardscaler</label><div class=\"sk-toggleable__content\"><pre>[0, 3, 4, 5]</pre></div></div></div><div class=\"sk-serial\"><div class=\"sk-item\"><div class=\"sk-estimator sk-toggleable\"><input class=\"sk-toggleable__control sk-hidden--visually\" id=\"74b2cebe-cb05-4571-8861-475caa82a4e1\" type=\"checkbox\" ><label class=\"sk-toggleable__label\" for=\"74b2cebe-cb05-4571-8861-475caa82a4e1\">StandardScaler</label><div class=\"sk-toggleable__content\"><pre>StandardScaler()</pre></div></div></div></div></div></div><div class=\"sk-parallel-item\"><div class=\"sk-item\"><div class=\"sk-label-container\"><div class=\"sk-label sk-toggleable\"><input class=\"sk-toggleable__control sk-hidden--visually\" id=\"a30fba17-f5c0-4c72-8abe-f2f50164f66a\" type=\"checkbox\" ><label class=\"sk-toggleable__label\" for=\"a30fba17-f5c0-4c72-8abe-f2f50164f66a\">knnimputer</label><div class=\"sk-toggleable__content\"><pre>[2]</pre></div></div></div><div class=\"sk-serial\"><div class=\"sk-item\"><div class=\"sk-estimator sk-toggleable\"><input class=\"sk-toggleable__control sk-hidden--visually\" id=\"d1f2e909-4146-44b6-8955-5609be667587\" type=\"checkbox\" ><label class=\"sk-toggleable__label\" for=\"d1f2e909-4146-44b6-8955-5609be667587\">KNNImputer</label><div class=\"sk-toggleable__content\"><pre>KNNImputer()</pre></div></div></div></div></div></div></div></div><div class=\"sk-item\"><div class=\"sk-estimator sk-toggleable\"><input class=\"sk-toggleable__control sk-hidden--visually\" id=\"9150fcab-1052-4e80-ae4f-c3800909e61b\" type=\"checkbox\" ><label class=\"sk-toggleable__label\" for=\"9150fcab-1052-4e80-ae4f-c3800909e61b\">DecisionTreeClassifier</label><div class=\"sk-toggleable__content\"><pre>DecisionTreeClassifier(criterion='entropy')</pre></div></div></div></div></div></div></div>"
            ],
            "text/plain": [
              "Pipeline(steps=[('columntransformer',\n",
              "                 ColumnTransformer(remainder='passthrough',\n",
              "                                   transformers=[('onehotencoder',\n",
              "                                                  OneHotEncoder(sparse=False),\n",
              "                                                  [1]),\n",
              "                                                 ('ordinalencoder',\n",
              "                                                  OrdinalEncoder(), [6]),\n",
              "                                                 ('standardscaler',\n",
              "                                                  StandardScaler(),\n",
              "                                                  [0, 3, 4, 5]),\n",
              "                                                 ('knnimputer', KNNImputer(),\n",
              "                                                  [2])])),\n",
              "                ('decisiontreeclassifier',\n",
              "                 DecisionTreeClassifier(criterion='entropy'))])"
            ]
          },
          "execution_count": 19,
          "metadata": {},
          "output_type": "execute_result"
        }
      ],
      "execution_count": 19
    },
    {
      "id": "7ebcc00b",
      "cell_type": "code",
      "source": "pipe_4.fit(x_train,y_train)",
      "metadata": {
        "execution": {
          "iopub.execute_input": "2021-12-23T08:39:58.805108Z",
          "iopub.status.busy": "2021-12-23T08:39:58.804429Z",
          "iopub.status.idle": "2021-12-23T08:39:58.883169Z",
          "shell.execute_reply": "2021-12-23T08:39:58.882552Z",
          "shell.execute_reply.started": "2021-12-23T08:37:36.861602Z"
        },
        "papermill": {
          "duration": 0.130529,
          "end_time": "2021-12-23T08:39:58.883345",
          "exception": false,
          "start_time": "2021-12-23T08:39:58.752816",
          "status": "completed"
        },
        "tags": []
      },
      "outputs": [
        {
          "data": {
            "text/html": [
              "<style>div.sk-top-container {color: black;background-color: white;}div.sk-toggleable {background-color: white;}label.sk-toggleable__label {cursor: pointer;display: block;width: 100%;margin-bottom: 0;padding: 0.2em 0.3em;box-sizing: border-box;text-align: center;}div.sk-toggleable__content {max-height: 0;max-width: 0;overflow: hidden;text-align: left;background-color: #f0f8ff;}div.sk-toggleable__content pre {margin: 0.2em;color: black;border-radius: 0.25em;background-color: #f0f8ff;}input.sk-toggleable__control:checked~div.sk-toggleable__content {max-height: 200px;max-width: 100%;overflow: auto;}div.sk-estimator input.sk-toggleable__control:checked~label.sk-toggleable__label {background-color: #d4ebff;}div.sk-label input.sk-toggleable__control:checked~label.sk-toggleable__label {background-color: #d4ebff;}input.sk-hidden--visually {border: 0;clip: rect(1px 1px 1px 1px);clip: rect(1px, 1px, 1px, 1px);height: 1px;margin: -1px;overflow: hidden;padding: 0;position: absolute;width: 1px;}div.sk-estimator {font-family: monospace;background-color: #f0f8ff;margin: 0.25em 0.25em;border: 1px dotted black;border-radius: 0.25em;box-sizing: border-box;}div.sk-estimator:hover {background-color: #d4ebff;}div.sk-parallel-item::after {content: \"\";width: 100%;border-bottom: 1px solid gray;flex-grow: 1;}div.sk-label:hover label.sk-toggleable__label {background-color: #d4ebff;}div.sk-serial::before {content: \"\";position: absolute;border-left: 1px solid gray;box-sizing: border-box;top: 2em;bottom: 0;left: 50%;}div.sk-serial {display: flex;flex-direction: column;align-items: center;background-color: white;}div.sk-item {z-index: 1;}div.sk-parallel {display: flex;align-items: stretch;justify-content: center;background-color: white;}div.sk-parallel-item {display: flex;flex-direction: column;position: relative;background-color: white;}div.sk-parallel-item:first-child::after {align-self: flex-end;width: 50%;}div.sk-parallel-item:last-child::after {align-self: flex-start;width: 50%;}div.sk-parallel-item:only-child::after {width: 0;}div.sk-dashed-wrapped {border: 1px dashed gray;margin: 0.2em;box-sizing: border-box;padding-bottom: 0.1em;background-color: white;position: relative;}div.sk-label label {font-family: monospace;font-weight: bold;background-color: white;display: inline-block;line-height: 1.2em;}div.sk-label-container {position: relative;z-index: 2;text-align: center;}div.sk-container {display: inline-block;position: relative;}</style><div class=\"sk-top-container\"><div class=\"sk-container\"><div class=\"sk-item sk-dashed-wrapped\"><div class=\"sk-label-container\"><div class=\"sk-label sk-toggleable\"><input class=\"sk-toggleable__control sk-hidden--visually\" id=\"3ad6da5b-d15f-4b87-a26b-a10ea2357e26\" type=\"checkbox\" ><label class=\"sk-toggleable__label\" for=\"3ad6da5b-d15f-4b87-a26b-a10ea2357e26\">Pipeline</label><div class=\"sk-toggleable__content\"><pre>Pipeline(steps=[('columntransformer',\n",
              "                 ColumnTransformer(remainder='passthrough',\n",
              "                                   transformers=[('onehotencoder',\n",
              "                                                  OneHotEncoder(sparse=False),\n",
              "                                                  [1]),\n",
              "                                                 ('ordinalencoder',\n",
              "                                                  OrdinalEncoder(), [6]),\n",
              "                                                 ('standardscaler',\n",
              "                                                  StandardScaler(),\n",
              "                                                  [0, 3, 4, 5]),\n",
              "                                                 ('knnimputer', KNNImputer(),\n",
              "                                                  [2])])),\n",
              "                ('decisiontreeclassifier',\n",
              "                 DecisionTreeClassifier(criterion='entropy'))])</pre></div></div></div><div class=\"sk-serial\"><div class=\"sk-item sk-dashed-wrapped\"><div class=\"sk-label-container\"><div class=\"sk-label sk-toggleable\"><input class=\"sk-toggleable__control sk-hidden--visually\" id=\"da93e5e0-116a-4419-bdae-7239560e9720\" type=\"checkbox\" ><label class=\"sk-toggleable__label\" for=\"da93e5e0-116a-4419-bdae-7239560e9720\">columntransformer: ColumnTransformer</label><div class=\"sk-toggleable__content\"><pre>ColumnTransformer(remainder='passthrough',\n",
              "                  transformers=[('onehotencoder', OneHotEncoder(sparse=False),\n",
              "                                 [1]),\n",
              "                                ('ordinalencoder', OrdinalEncoder(), [6]),\n",
              "                                ('standardscaler', StandardScaler(),\n",
              "                                 [0, 3, 4, 5]),\n",
              "                                ('knnimputer', KNNImputer(), [2])])</pre></div></div></div><div class=\"sk-parallel\"><div class=\"sk-parallel-item\"><div class=\"sk-item\"><div class=\"sk-label-container\"><div class=\"sk-label sk-toggleable\"><input class=\"sk-toggleable__control sk-hidden--visually\" id=\"6c15b475-fe81-4c10-b589-e7b8e96c076c\" type=\"checkbox\" ><label class=\"sk-toggleable__label\" for=\"6c15b475-fe81-4c10-b589-e7b8e96c076c\">onehotencoder</label><div class=\"sk-toggleable__content\"><pre>[1]</pre></div></div></div><div class=\"sk-serial\"><div class=\"sk-item\"><div class=\"sk-estimator sk-toggleable\"><input class=\"sk-toggleable__control sk-hidden--visually\" id=\"c477857c-8428-45e6-8505-9d4eaef179a1\" type=\"checkbox\" ><label class=\"sk-toggleable__label\" for=\"c477857c-8428-45e6-8505-9d4eaef179a1\">OneHotEncoder</label><div class=\"sk-toggleable__content\"><pre>OneHotEncoder(sparse=False)</pre></div></div></div></div></div></div><div class=\"sk-parallel-item\"><div class=\"sk-item\"><div class=\"sk-label-container\"><div class=\"sk-label sk-toggleable\"><input class=\"sk-toggleable__control sk-hidden--visually\" id=\"a78f00dd-2e14-4fec-b622-ec09d4927d30\" type=\"checkbox\" ><label class=\"sk-toggleable__label\" for=\"a78f00dd-2e14-4fec-b622-ec09d4927d30\">ordinalencoder</label><div class=\"sk-toggleable__content\"><pre>[6]</pre></div></div></div><div class=\"sk-serial\"><div class=\"sk-item\"><div class=\"sk-estimator sk-toggleable\"><input class=\"sk-toggleable__control sk-hidden--visually\" id=\"369d4b91-1b70-49c3-a2ac-12c92e2190a7\" type=\"checkbox\" ><label class=\"sk-toggleable__label\" for=\"369d4b91-1b70-49c3-a2ac-12c92e2190a7\">OrdinalEncoder</label><div class=\"sk-toggleable__content\"><pre>OrdinalEncoder()</pre></div></div></div></div></div></div><div class=\"sk-parallel-item\"><div class=\"sk-item\"><div class=\"sk-label-container\"><div class=\"sk-label sk-toggleable\"><input class=\"sk-toggleable__control sk-hidden--visually\" id=\"fcaf018d-01ad-4313-a1c2-b3fa5aa2e26e\" type=\"checkbox\" ><label class=\"sk-toggleable__label\" for=\"fcaf018d-01ad-4313-a1c2-b3fa5aa2e26e\">standardscaler</label><div class=\"sk-toggleable__content\"><pre>[0, 3, 4, 5]</pre></div></div></div><div class=\"sk-serial\"><div class=\"sk-item\"><div class=\"sk-estimator sk-toggleable\"><input class=\"sk-toggleable__control sk-hidden--visually\" id=\"b028bc89-c516-4dd6-ae9d-cf153f65132e\" type=\"checkbox\" ><label class=\"sk-toggleable__label\" for=\"b028bc89-c516-4dd6-ae9d-cf153f65132e\">StandardScaler</label><div class=\"sk-toggleable__content\"><pre>StandardScaler()</pre></div></div></div></div></div></div><div class=\"sk-parallel-item\"><div class=\"sk-item\"><div class=\"sk-label-container\"><div class=\"sk-label sk-toggleable\"><input class=\"sk-toggleable__control sk-hidden--visually\" id=\"954fcb0b-8c56-4684-865b-58a2c79b2eb3\" type=\"checkbox\" ><label class=\"sk-toggleable__label\" for=\"954fcb0b-8c56-4684-865b-58a2c79b2eb3\">knnimputer</label><div class=\"sk-toggleable__content\"><pre>[2]</pre></div></div></div><div class=\"sk-serial\"><div class=\"sk-item\"><div class=\"sk-estimator sk-toggleable\"><input class=\"sk-toggleable__control sk-hidden--visually\" id=\"ae3fd43f-510b-4a3f-ad8a-2b596f7f3417\" type=\"checkbox\" ><label class=\"sk-toggleable__label\" for=\"ae3fd43f-510b-4a3f-ad8a-2b596f7f3417\">KNNImputer</label><div class=\"sk-toggleable__content\"><pre>KNNImputer()</pre></div></div></div></div></div></div></div></div><div class=\"sk-item\"><div class=\"sk-estimator sk-toggleable\"><input class=\"sk-toggleable__control sk-hidden--visually\" id=\"454ff856-50ad-4710-bf60-df9c6e3a3bba\" type=\"checkbox\" ><label class=\"sk-toggleable__label\" for=\"454ff856-50ad-4710-bf60-df9c6e3a3bba\">DecisionTreeClassifier</label><div class=\"sk-toggleable__content\"><pre>DecisionTreeClassifier(criterion='entropy')</pre></div></div></div></div></div></div></div>"
            ],
            "text/plain": [
              "Pipeline(steps=[('columntransformer',\n",
              "                 ColumnTransformer(remainder='passthrough',\n",
              "                                   transformers=[('onehotencoder',\n",
              "                                                  OneHotEncoder(sparse=False),\n",
              "                                                  [1]),\n",
              "                                                 ('ordinalencoder',\n",
              "                                                  OrdinalEncoder(), [6]),\n",
              "                                                 ('standardscaler',\n",
              "                                                  StandardScaler(),\n",
              "                                                  [0, 3, 4, 5]),\n",
              "                                                 ('knnimputer', KNNImputer(),\n",
              "                                                  [2])])),\n",
              "                ('decisiontreeclassifier',\n",
              "                 DecisionTreeClassifier(criterion='entropy'))])"
            ]
          },
          "execution_count": 20,
          "metadata": {},
          "output_type": "execute_result"
        }
      ],
      "execution_count": 20
    },
    {
      "id": "12e45b70",
      "cell_type": "code",
      "source": "pred_4 = pipe_4.predict(x_test)\npred_4",
      "metadata": {
        "execution": {
          "iopub.execute_input": "2021-12-23T08:39:58.987688Z",
          "iopub.status.busy": "2021-12-23T08:39:58.986987Z",
          "iopub.status.idle": "2021-12-23T08:39:58.999545Z",
          "shell.execute_reply": "2021-12-23T08:39:59.000044Z",
          "shell.execute_reply.started": "2021-12-23T08:37:36.932831Z"
        },
        "papermill": {
          "duration": 0.066764,
          "end_time": "2021-12-23T08:39:59.000214",
          "exception": false,
          "start_time": "2021-12-23T08:39:58.933450",
          "status": "completed"
        },
        "tags": []
      },
      "outputs": [
        {
          "data": {
            "text/plain": [
              "array([0, 0, 1, 0, 0, 1, 0, 1, 0, 0, 0, 0, 0, 1, 0, 0, 1, 1, 0, 0, 1, 0,\n",
              "       1, 0, 0, 0, 0, 1, 1, 0, 0, 0, 0, 0, 0, 0, 0, 0, 1, 1, 1, 0, 0, 1,\n",
              "       1, 1, 0, 0, 1, 0, 0, 0, 0, 0, 0, 1, 1, 1, 0, 1, 0, 0, 1, 0, 1, 0,\n",
              "       1, 1, 1, 0, 0, 0, 0, 0, 1, 0, 0, 1, 1, 0, 0, 0, 1, 0, 0, 0, 0, 0,\n",
              "       0, 0, 0, 0, 0, 1, 0, 0, 1, 0, 0, 0, 1, 1, 0, 0, 1, 0, 0, 0, 0, 1,\n",
              "       1, 1, 1, 0, 0, 1, 0, 0, 0, 1, 0, 0, 0, 1, 1, 0, 1, 0, 0, 0, 0, 0,\n",
              "       0, 1, 1, 1, 1, 0, 0, 1, 0, 1, 1, 1, 0, 1, 0, 0, 0, 0, 1, 0, 1, 1,\n",
              "       0, 0, 0, 0, 1, 1, 0, 1, 0, 0, 0, 1, 0, 0, 1, 1, 0, 1, 0, 1, 0, 0,\n",
              "       1, 0, 1, 0, 0, 1, 0, 0, 0, 1, 0, 1, 0, 0, 1, 1, 0, 0, 0, 1, 1, 1,\n",
              "       0, 0, 0, 0, 1, 0, 1, 0, 1, 0, 0, 1, 1, 1, 0, 1, 0, 1, 0, 1, 1, 0,\n",
              "       0, 0, 0, 0, 0, 0, 0, 1, 0, 0, 1, 1, 1, 0, 1, 1, 0, 0, 1, 0, 0, 0,\n",
              "       1, 1, 1, 0, 1, 1, 0, 0, 1, 0, 1, 0, 1, 0, 0, 0, 0, 1, 0, 0, 0, 1,\n",
              "       1, 0, 0])"
            ]
          },
          "execution_count": 21,
          "metadata": {},
          "output_type": "execute_result"
        }
      ],
      "execution_count": 21
    },
    {
      "id": "6eb3d3d9",
      "cell_type": "code",
      "source": "from sklearn.metrics import accuracy_score\naccuracy_score(pred_4,y_test)*100",
      "metadata": {
        "execution": {
          "iopub.execute_input": "2021-12-23T08:39:59.107016Z",
          "iopub.status.busy": "2021-12-23T08:39:59.106321Z",
          "iopub.status.idle": "2021-12-23T08:39:59.110895Z",
          "shell.execute_reply": "2021-12-23T08:39:59.111547Z",
          "shell.execute_reply.started": "2021-12-23T08:37:36.952734Z"
        },
        "papermill": {
          "duration": 0.060785,
          "end_time": "2021-12-23T08:39:59.111719",
          "exception": false,
          "start_time": "2021-12-23T08:39:59.050934",
          "status": "completed"
        },
        "tags": []
      },
      "outputs": [
        {
          "data": {
            "text/plain": [
              "81.64794007490637"
            ]
          },
          "execution_count": 22,
          "metadata": {},
          "output_type": "execute_result"
        }
      ],
      "execution_count": 22
    },
    {
      "id": "807c17f4",
      "cell_type": "code",
      "source": "from sklearn.neighbors import KNeighborsClassifier\nfrom sklearn.pipeline import make_pipeline\nmodel = KNeighborsClassifier(25)\n\npipe = make_pipeline(trans,model)",
      "metadata": {
        "execution": {
          "iopub.execute_input": "2021-12-23T08:39:59.215716Z",
          "iopub.status.busy": "2021-12-23T08:39:59.215059Z",
          "iopub.status.idle": "2021-12-23T08:39:59.219199Z",
          "shell.execute_reply": "2021-12-23T08:39:59.219734Z",
          "shell.execute_reply.started": "2021-12-23T08:37:36.960571Z"
        },
        "papermill": {
          "duration": 0.05746,
          "end_time": "2021-12-23T08:39:59.219914",
          "exception": false,
          "start_time": "2021-12-23T08:39:59.162454",
          "status": "completed"
        },
        "tags": []
      },
      "outputs": [],
      "execution_count": 23
    },
    {
      "id": "8a36702c",
      "cell_type": "code",
      "source": "pipe.fit(x_train,y_train)",
      "metadata": {
        "execution": {
          "iopub.execute_input": "2021-12-23T08:39:59.323379Z",
          "iopub.status.busy": "2021-12-23T08:39:59.322761Z",
          "iopub.status.idle": "2021-12-23T08:39:59.395989Z",
          "shell.execute_reply": "2021-12-23T08:39:59.396537Z",
          "shell.execute_reply.started": "2021-12-23T08:37:36.970985Z"
        },
        "papermill": {
          "duration": 0.12659,
          "end_time": "2021-12-23T08:39:59.396707",
          "exception": false,
          "start_time": "2021-12-23T08:39:59.270117",
          "status": "completed"
        },
        "tags": []
      },
      "outputs": [
        {
          "name": "stderr",
          "output_type": "stream",
          "text": [
            "/opt/conda/lib/python3.7/site-packages/sklearn/pipeline.py:335: DataConversionWarning: A column-vector y was passed when a 1d array was expected. Please change the shape of y to (n_samples, ), for example using ravel().\n",
            "  self._final_estimator.fit(Xt, y, **fit_params_last_step)\n"
          ]
        },
        {
          "data": {
            "text/html": [
              "<style>div.sk-top-container {color: black;background-color: white;}div.sk-toggleable {background-color: white;}label.sk-toggleable__label {cursor: pointer;display: block;width: 100%;margin-bottom: 0;padding: 0.2em 0.3em;box-sizing: border-box;text-align: center;}div.sk-toggleable__content {max-height: 0;max-width: 0;overflow: hidden;text-align: left;background-color: #f0f8ff;}div.sk-toggleable__content pre {margin: 0.2em;color: black;border-radius: 0.25em;background-color: #f0f8ff;}input.sk-toggleable__control:checked~div.sk-toggleable__content {max-height: 200px;max-width: 100%;overflow: auto;}div.sk-estimator input.sk-toggleable__control:checked~label.sk-toggleable__label {background-color: #d4ebff;}div.sk-label input.sk-toggleable__control:checked~label.sk-toggleable__label {background-color: #d4ebff;}input.sk-hidden--visually {border: 0;clip: rect(1px 1px 1px 1px);clip: rect(1px, 1px, 1px, 1px);height: 1px;margin: -1px;overflow: hidden;padding: 0;position: absolute;width: 1px;}div.sk-estimator {font-family: monospace;background-color: #f0f8ff;margin: 0.25em 0.25em;border: 1px dotted black;border-radius: 0.25em;box-sizing: border-box;}div.sk-estimator:hover {background-color: #d4ebff;}div.sk-parallel-item::after {content: \"\";width: 100%;border-bottom: 1px solid gray;flex-grow: 1;}div.sk-label:hover label.sk-toggleable__label {background-color: #d4ebff;}div.sk-serial::before {content: \"\";position: absolute;border-left: 1px solid gray;box-sizing: border-box;top: 2em;bottom: 0;left: 50%;}div.sk-serial {display: flex;flex-direction: column;align-items: center;background-color: white;}div.sk-item {z-index: 1;}div.sk-parallel {display: flex;align-items: stretch;justify-content: center;background-color: white;}div.sk-parallel-item {display: flex;flex-direction: column;position: relative;background-color: white;}div.sk-parallel-item:first-child::after {align-self: flex-end;width: 50%;}div.sk-parallel-item:last-child::after {align-self: flex-start;width: 50%;}div.sk-parallel-item:only-child::after {width: 0;}div.sk-dashed-wrapped {border: 1px dashed gray;margin: 0.2em;box-sizing: border-box;padding-bottom: 0.1em;background-color: white;position: relative;}div.sk-label label {font-family: monospace;font-weight: bold;background-color: white;display: inline-block;line-height: 1.2em;}div.sk-label-container {position: relative;z-index: 2;text-align: center;}div.sk-container {display: inline-block;position: relative;}</style><div class=\"sk-top-container\"><div class=\"sk-container\"><div class=\"sk-item sk-dashed-wrapped\"><div class=\"sk-label-container\"><div class=\"sk-label sk-toggleable\"><input class=\"sk-toggleable__control sk-hidden--visually\" id=\"1aaada07-abe0-42bc-8750-7ed170917f04\" type=\"checkbox\" ><label class=\"sk-toggleable__label\" for=\"1aaada07-abe0-42bc-8750-7ed170917f04\">Pipeline</label><div class=\"sk-toggleable__content\"><pre>Pipeline(steps=[('columntransformer',\n",
              "                 ColumnTransformer(remainder='passthrough',\n",
              "                                   transformers=[('onehotencoder',\n",
              "                                                  OneHotEncoder(sparse=False),\n",
              "                                                  [1]),\n",
              "                                                 ('ordinalencoder',\n",
              "                                                  OrdinalEncoder(), [6]),\n",
              "                                                 ('standardscaler',\n",
              "                                                  StandardScaler(),\n",
              "                                                  [0, 3, 4, 5]),\n",
              "                                                 ('knnimputer', KNNImputer(),\n",
              "                                                  [2])])),\n",
              "                ('kneighborsclassifier', KNeighborsClassifier(n_neighbors=25))])</pre></div></div></div><div class=\"sk-serial\"><div class=\"sk-item sk-dashed-wrapped\"><div class=\"sk-label-container\"><div class=\"sk-label sk-toggleable\"><input class=\"sk-toggleable__control sk-hidden--visually\" id=\"5b085daa-ad41-4dd6-b5d3-4c33b8f04fea\" type=\"checkbox\" ><label class=\"sk-toggleable__label\" for=\"5b085daa-ad41-4dd6-b5d3-4c33b8f04fea\">columntransformer: ColumnTransformer</label><div class=\"sk-toggleable__content\"><pre>ColumnTransformer(remainder='passthrough',\n",
              "                  transformers=[('onehotencoder', OneHotEncoder(sparse=False),\n",
              "                                 [1]),\n",
              "                                ('ordinalencoder', OrdinalEncoder(), [6]),\n",
              "                                ('standardscaler', StandardScaler(),\n",
              "                                 [0, 3, 4, 5]),\n",
              "                                ('knnimputer', KNNImputer(), [2])])</pre></div></div></div><div class=\"sk-parallel\"><div class=\"sk-parallel-item\"><div class=\"sk-item\"><div class=\"sk-label-container\"><div class=\"sk-label sk-toggleable\"><input class=\"sk-toggleable__control sk-hidden--visually\" id=\"1716e348-b55e-49bb-a463-d6f99b37517a\" type=\"checkbox\" ><label class=\"sk-toggleable__label\" for=\"1716e348-b55e-49bb-a463-d6f99b37517a\">onehotencoder</label><div class=\"sk-toggleable__content\"><pre>[1]</pre></div></div></div><div class=\"sk-serial\"><div class=\"sk-item\"><div class=\"sk-estimator sk-toggleable\"><input class=\"sk-toggleable__control sk-hidden--visually\" id=\"7f6e29e6-97de-4886-b91c-ac173185c42c\" type=\"checkbox\" ><label class=\"sk-toggleable__label\" for=\"7f6e29e6-97de-4886-b91c-ac173185c42c\">OneHotEncoder</label><div class=\"sk-toggleable__content\"><pre>OneHotEncoder(sparse=False)</pre></div></div></div></div></div></div><div class=\"sk-parallel-item\"><div class=\"sk-item\"><div class=\"sk-label-container\"><div class=\"sk-label sk-toggleable\"><input class=\"sk-toggleable__control sk-hidden--visually\" id=\"627ac942-4770-4447-aff6-a1a5c641e0be\" type=\"checkbox\" ><label class=\"sk-toggleable__label\" for=\"627ac942-4770-4447-aff6-a1a5c641e0be\">ordinalencoder</label><div class=\"sk-toggleable__content\"><pre>[6]</pre></div></div></div><div class=\"sk-serial\"><div class=\"sk-item\"><div class=\"sk-estimator sk-toggleable\"><input class=\"sk-toggleable__control sk-hidden--visually\" id=\"c555c426-53b9-441a-91a4-c4f5622d9449\" type=\"checkbox\" ><label class=\"sk-toggleable__label\" for=\"c555c426-53b9-441a-91a4-c4f5622d9449\">OrdinalEncoder</label><div class=\"sk-toggleable__content\"><pre>OrdinalEncoder()</pre></div></div></div></div></div></div><div class=\"sk-parallel-item\"><div class=\"sk-item\"><div class=\"sk-label-container\"><div class=\"sk-label sk-toggleable\"><input class=\"sk-toggleable__control sk-hidden--visually\" id=\"02da66a0-6ab2-4b99-847a-7a946d2f3dd8\" type=\"checkbox\" ><label class=\"sk-toggleable__label\" for=\"02da66a0-6ab2-4b99-847a-7a946d2f3dd8\">standardscaler</label><div class=\"sk-toggleable__content\"><pre>[0, 3, 4, 5]</pre></div></div></div><div class=\"sk-serial\"><div class=\"sk-item\"><div class=\"sk-estimator sk-toggleable\"><input class=\"sk-toggleable__control sk-hidden--visually\" id=\"60f756ab-5a53-4e25-9946-65c42597acad\" type=\"checkbox\" ><label class=\"sk-toggleable__label\" for=\"60f756ab-5a53-4e25-9946-65c42597acad\">StandardScaler</label><div class=\"sk-toggleable__content\"><pre>StandardScaler()</pre></div></div></div></div></div></div><div class=\"sk-parallel-item\"><div class=\"sk-item\"><div class=\"sk-label-container\"><div class=\"sk-label sk-toggleable\"><input class=\"sk-toggleable__control sk-hidden--visually\" id=\"e2de2bca-ba4e-4804-a81b-d5b08f1a91b4\" type=\"checkbox\" ><label class=\"sk-toggleable__label\" for=\"e2de2bca-ba4e-4804-a81b-d5b08f1a91b4\">knnimputer</label><div class=\"sk-toggleable__content\"><pre>[2]</pre></div></div></div><div class=\"sk-serial\"><div class=\"sk-item\"><div class=\"sk-estimator sk-toggleable\"><input class=\"sk-toggleable__control sk-hidden--visually\" id=\"8165593e-700a-4cee-8b13-13f02c7c9b63\" type=\"checkbox\" ><label class=\"sk-toggleable__label\" for=\"8165593e-700a-4cee-8b13-13f02c7c9b63\">KNNImputer</label><div class=\"sk-toggleable__content\"><pre>KNNImputer()</pre></div></div></div></div></div></div></div></div><div class=\"sk-item\"><div class=\"sk-estimator sk-toggleable\"><input class=\"sk-toggleable__control sk-hidden--visually\" id=\"5fedd330-1782-425d-a6ed-0070b3dcc437\" type=\"checkbox\" ><label class=\"sk-toggleable__label\" for=\"5fedd330-1782-425d-a6ed-0070b3dcc437\">KNeighborsClassifier</label><div class=\"sk-toggleable__content\"><pre>KNeighborsClassifier(n_neighbors=25)</pre></div></div></div></div></div></div></div>"
            ],
            "text/plain": [
              "Pipeline(steps=[('columntransformer',\n",
              "                 ColumnTransformer(remainder='passthrough',\n",
              "                                   transformers=[('onehotencoder',\n",
              "                                                  OneHotEncoder(sparse=False),\n",
              "                                                  [1]),\n",
              "                                                 ('ordinalencoder',\n",
              "                                                  OrdinalEncoder(), [6]),\n",
              "                                                 ('standardscaler',\n",
              "                                                  StandardScaler(),\n",
              "                                                  [0, 3, 4, 5]),\n",
              "                                                 ('knnimputer', KNNImputer(),\n",
              "                                                  [2])])),\n",
              "                ('kneighborsclassifier', KNeighborsClassifier(n_neighbors=25))])"
            ]
          },
          "execution_count": 24,
          "metadata": {},
          "output_type": "execute_result"
        }
      ],
      "execution_count": 24
    },
    {
      "id": "8baac7c1",
      "cell_type": "code",
      "source": "pred = pipe.predict(x_test)\npred",
      "metadata": {
        "execution": {
          "iopub.execute_input": "2021-12-23T08:39:59.505685Z",
          "iopub.status.busy": "2021-12-23T08:39:59.505018Z",
          "iopub.status.idle": "2021-12-23T08:39:59.529545Z",
          "shell.execute_reply": "2021-12-23T08:39:59.530091Z",
          "shell.execute_reply.started": "2021-12-23T08:37:37.042406Z"
        },
        "papermill": {
          "duration": 0.081823,
          "end_time": "2021-12-23T08:39:59.530255",
          "exception": false,
          "start_time": "2021-12-23T08:39:59.448432",
          "status": "completed"
        },
        "tags": []
      },
      "outputs": [
        {
          "data": {
            "text/plain": [
              "array([0, 0, 0, 0, 0, 1, 1, 0, 0, 0, 0, 0, 0, 1, 1, 0, 1, 0, 0, 1, 1, 1,\n",
              "       1, 0, 1, 0, 0, 0, 1, 0, 0, 0, 0, 0, 0, 0, 0, 0, 1, 0, 1, 0, 0, 0,\n",
              "       0, 0, 0, 0, 0, 0, 0, 0, 0, 0, 1, 0, 0, 0, 0, 1, 0, 0, 1, 0, 1, 0,\n",
              "       0, 0, 1, 0, 0, 0, 0, 0, 0, 0, 0, 0, 1, 0, 0, 1, 0, 0, 0, 0, 0, 0,\n",
              "       0, 0, 0, 0, 0, 0, 0, 0, 0, 0, 0, 0, 1, 0, 0, 0, 1, 0, 1, 0, 0, 1,\n",
              "       0, 1, 0, 0, 0, 0, 0, 0, 0, 0, 0, 0, 0, 0, 0, 1, 1, 0, 0, 0, 0, 0,\n",
              "       0, 1, 0, 1, 0, 0, 0, 0, 0, 0, 0, 1, 0, 1, 0, 0, 0, 1, 0, 1, 1, 0,\n",
              "       0, 0, 0, 0, 0, 1, 1, 1, 1, 0, 0, 1, 0, 0, 1, 1, 0, 1, 0, 0, 0, 0,\n",
              "       0, 0, 0, 0, 0, 0, 0, 0, 0, 1, 0, 1, 0, 0, 0, 1, 1, 0, 0, 0, 0, 0,\n",
              "       0, 0, 0, 0, 0, 0, 1, 0, 0, 0, 0, 1, 1, 1, 0, 1, 1, 1, 1, 0, 1, 1,\n",
              "       0, 0, 0, 0, 0, 0, 1, 1, 0, 0, 0, 0, 1, 0, 1, 0, 0, 0, 0, 0, 1, 0,\n",
              "       1, 1, 0, 0, 1, 0, 1, 0, 0, 0, 1, 1, 0, 0, 0, 0, 0, 1, 0, 0, 0, 1,\n",
              "       1, 0, 0])"
            ]
          },
          "execution_count": 25,
          "metadata": {},
          "output_type": "execute_result"
        }
      ],
      "execution_count": 25
    },
    {
      "id": "0403187b",
      "cell_type": "code",
      "source": "from sklearn.metrics import accuracy_score\naccuracy_score(pred,y_test)*100",
      "metadata": {
        "execution": {
          "iopub.execute_input": "2021-12-23T08:39:59.637119Z",
          "iopub.status.busy": "2021-12-23T08:39:59.636125Z",
          "iopub.status.idle": "2021-12-23T08:39:59.642884Z",
          "shell.execute_reply": "2021-12-23T08:39:59.643493Z",
          "shell.execute_reply.started": "2021-12-23T08:37:37.070264Z"
        },
        "papermill": {
          "duration": 0.061942,
          "end_time": "2021-12-23T08:39:59.643675",
          "exception": false,
          "start_time": "2021-12-23T08:39:59.581733",
          "status": "completed"
        },
        "tags": []
      },
      "outputs": [
        {
          "data": {
            "text/plain": [
              "73.40823970037454"
            ]
          },
          "execution_count": 26,
          "metadata": {},
          "output_type": "execute_result"
        }
      ],
      "execution_count": 26
    },
    {
      "id": "1b7c5a23",
      "cell_type": "code",
      "source": "n_pipe = make_pipeline(trans,model)\nn_pipe",
      "metadata": {
        "execution": {
          "iopub.execute_input": "2021-12-23T08:39:59.760800Z",
          "iopub.status.busy": "2021-12-23T08:39:59.749845Z",
          "iopub.status.idle": "2021-12-23T08:39:59.806523Z",
          "shell.execute_reply": "2021-12-23T08:39:59.807010Z",
          "shell.execute_reply.started": "2021-12-23T08:37:37.079497Z"
        },
        "papermill": {
          "duration": 0.111779,
          "end_time": "2021-12-23T08:39:59.807178",
          "exception": false,
          "start_time": "2021-12-23T08:39:59.695399",
          "status": "completed"
        },
        "tags": []
      },
      "outputs": [
        {
          "data": {
            "text/html": [
              "<style>div.sk-top-container {color: black;background-color: white;}div.sk-toggleable {background-color: white;}label.sk-toggleable__label {cursor: pointer;display: block;width: 100%;margin-bottom: 0;padding: 0.2em 0.3em;box-sizing: border-box;text-align: center;}div.sk-toggleable__content {max-height: 0;max-width: 0;overflow: hidden;text-align: left;background-color: #f0f8ff;}div.sk-toggleable__content pre {margin: 0.2em;color: black;border-radius: 0.25em;background-color: #f0f8ff;}input.sk-toggleable__control:checked~div.sk-toggleable__content {max-height: 200px;max-width: 100%;overflow: auto;}div.sk-estimator input.sk-toggleable__control:checked~label.sk-toggleable__label {background-color: #d4ebff;}div.sk-label input.sk-toggleable__control:checked~label.sk-toggleable__label {background-color: #d4ebff;}input.sk-hidden--visually {border: 0;clip: rect(1px 1px 1px 1px);clip: rect(1px, 1px, 1px, 1px);height: 1px;margin: -1px;overflow: hidden;padding: 0;position: absolute;width: 1px;}div.sk-estimator {font-family: monospace;background-color: #f0f8ff;margin: 0.25em 0.25em;border: 1px dotted black;border-radius: 0.25em;box-sizing: border-box;}div.sk-estimator:hover {background-color: #d4ebff;}div.sk-parallel-item::after {content: \"\";width: 100%;border-bottom: 1px solid gray;flex-grow: 1;}div.sk-label:hover label.sk-toggleable__label {background-color: #d4ebff;}div.sk-serial::before {content: \"\";position: absolute;border-left: 1px solid gray;box-sizing: border-box;top: 2em;bottom: 0;left: 50%;}div.sk-serial {display: flex;flex-direction: column;align-items: center;background-color: white;}div.sk-item {z-index: 1;}div.sk-parallel {display: flex;align-items: stretch;justify-content: center;background-color: white;}div.sk-parallel-item {display: flex;flex-direction: column;position: relative;background-color: white;}div.sk-parallel-item:first-child::after {align-self: flex-end;width: 50%;}div.sk-parallel-item:last-child::after {align-self: flex-start;width: 50%;}div.sk-parallel-item:only-child::after {width: 0;}div.sk-dashed-wrapped {border: 1px dashed gray;margin: 0.2em;box-sizing: border-box;padding-bottom: 0.1em;background-color: white;position: relative;}div.sk-label label {font-family: monospace;font-weight: bold;background-color: white;display: inline-block;line-height: 1.2em;}div.sk-label-container {position: relative;z-index: 2;text-align: center;}div.sk-container {display: inline-block;position: relative;}</style><div class=\"sk-top-container\"><div class=\"sk-container\"><div class=\"sk-item sk-dashed-wrapped\"><div class=\"sk-label-container\"><div class=\"sk-label sk-toggleable\"><input class=\"sk-toggleable__control sk-hidden--visually\" id=\"e47579b6-7937-4e32-bcfa-6be704d8c6ac\" type=\"checkbox\" ><label class=\"sk-toggleable__label\" for=\"e47579b6-7937-4e32-bcfa-6be704d8c6ac\">Pipeline</label><div class=\"sk-toggleable__content\"><pre>Pipeline(steps=[('columntransformer',\n",
              "                 ColumnTransformer(remainder='passthrough',\n",
              "                                   transformers=[('onehotencoder',\n",
              "                                                  OneHotEncoder(sparse=False),\n",
              "                                                  [1]),\n",
              "                                                 ('ordinalencoder',\n",
              "                                                  OrdinalEncoder(), [6]),\n",
              "                                                 ('standardscaler',\n",
              "                                                  StandardScaler(),\n",
              "                                                  [0, 3, 4, 5]),\n",
              "                                                 ('knnimputer', KNNImputer(),\n",
              "                                                  [2])])),\n",
              "                ('kneighborsclassifier', KNeighborsClassifier(n_neighbors=25))])</pre></div></div></div><div class=\"sk-serial\"><div class=\"sk-item sk-dashed-wrapped\"><div class=\"sk-label-container\"><div class=\"sk-label sk-toggleable\"><input class=\"sk-toggleable__control sk-hidden--visually\" id=\"477dcebd-5895-4da9-8514-aee171f1bc55\" type=\"checkbox\" ><label class=\"sk-toggleable__label\" for=\"477dcebd-5895-4da9-8514-aee171f1bc55\">columntransformer: ColumnTransformer</label><div class=\"sk-toggleable__content\"><pre>ColumnTransformer(remainder='passthrough',\n",
              "                  transformers=[('onehotencoder', OneHotEncoder(sparse=False),\n",
              "                                 [1]),\n",
              "                                ('ordinalencoder', OrdinalEncoder(), [6]),\n",
              "                                ('standardscaler', StandardScaler(),\n",
              "                                 [0, 3, 4, 5]),\n",
              "                                ('knnimputer', KNNImputer(), [2])])</pre></div></div></div><div class=\"sk-parallel\"><div class=\"sk-parallel-item\"><div class=\"sk-item\"><div class=\"sk-label-container\"><div class=\"sk-label sk-toggleable\"><input class=\"sk-toggleable__control sk-hidden--visually\" id=\"1bd5cf8d-24b8-48ec-a619-a7e7a6fb6893\" type=\"checkbox\" ><label class=\"sk-toggleable__label\" for=\"1bd5cf8d-24b8-48ec-a619-a7e7a6fb6893\">onehotencoder</label><div class=\"sk-toggleable__content\"><pre>[1]</pre></div></div></div><div class=\"sk-serial\"><div class=\"sk-item\"><div class=\"sk-estimator sk-toggleable\"><input class=\"sk-toggleable__control sk-hidden--visually\" id=\"5d476881-8361-4696-9c36-f32360c88dde\" type=\"checkbox\" ><label class=\"sk-toggleable__label\" for=\"5d476881-8361-4696-9c36-f32360c88dde\">OneHotEncoder</label><div class=\"sk-toggleable__content\"><pre>OneHotEncoder(sparse=False)</pre></div></div></div></div></div></div><div class=\"sk-parallel-item\"><div class=\"sk-item\"><div class=\"sk-label-container\"><div class=\"sk-label sk-toggleable\"><input class=\"sk-toggleable__control sk-hidden--visually\" id=\"4fd177ea-2aeb-43fe-bfbb-aa3438dd67e8\" type=\"checkbox\" ><label class=\"sk-toggleable__label\" for=\"4fd177ea-2aeb-43fe-bfbb-aa3438dd67e8\">ordinalencoder</label><div class=\"sk-toggleable__content\"><pre>[6]</pre></div></div></div><div class=\"sk-serial\"><div class=\"sk-item\"><div class=\"sk-estimator sk-toggleable\"><input class=\"sk-toggleable__control sk-hidden--visually\" id=\"a0f63680-011e-42b7-acb7-32cc52f019e5\" type=\"checkbox\" ><label class=\"sk-toggleable__label\" for=\"a0f63680-011e-42b7-acb7-32cc52f019e5\">OrdinalEncoder</label><div class=\"sk-toggleable__content\"><pre>OrdinalEncoder()</pre></div></div></div></div></div></div><div class=\"sk-parallel-item\"><div class=\"sk-item\"><div class=\"sk-label-container\"><div class=\"sk-label sk-toggleable\"><input class=\"sk-toggleable__control sk-hidden--visually\" id=\"303ee613-9d4b-482a-9122-e7843151f4d2\" type=\"checkbox\" ><label class=\"sk-toggleable__label\" for=\"303ee613-9d4b-482a-9122-e7843151f4d2\">standardscaler</label><div class=\"sk-toggleable__content\"><pre>[0, 3, 4, 5]</pre></div></div></div><div class=\"sk-serial\"><div class=\"sk-item\"><div class=\"sk-estimator sk-toggleable\"><input class=\"sk-toggleable__control sk-hidden--visually\" id=\"840c4dff-7113-4ce8-944d-ce537a6236c4\" type=\"checkbox\" ><label class=\"sk-toggleable__label\" for=\"840c4dff-7113-4ce8-944d-ce537a6236c4\">StandardScaler</label><div class=\"sk-toggleable__content\"><pre>StandardScaler()</pre></div></div></div></div></div></div><div class=\"sk-parallel-item\"><div class=\"sk-item\"><div class=\"sk-label-container\"><div class=\"sk-label sk-toggleable\"><input class=\"sk-toggleable__control sk-hidden--visually\" id=\"3873c6e9-33ad-47d7-8ac3-17ada2073618\" type=\"checkbox\" ><label class=\"sk-toggleable__label\" for=\"3873c6e9-33ad-47d7-8ac3-17ada2073618\">knnimputer</label><div class=\"sk-toggleable__content\"><pre>[2]</pre></div></div></div><div class=\"sk-serial\"><div class=\"sk-item\"><div class=\"sk-estimator sk-toggleable\"><input class=\"sk-toggleable__control sk-hidden--visually\" id=\"aecddf0e-ea9c-4530-b36f-f8a005fc0d24\" type=\"checkbox\" ><label class=\"sk-toggleable__label\" for=\"aecddf0e-ea9c-4530-b36f-f8a005fc0d24\">KNNImputer</label><div class=\"sk-toggleable__content\"><pre>KNNImputer()</pre></div></div></div></div></div></div></div></div><div class=\"sk-item\"><div class=\"sk-estimator sk-toggleable\"><input class=\"sk-toggleable__control sk-hidden--visually\" id=\"dbd81080-ed2e-4174-b9ab-e656656579cf\" type=\"checkbox\" ><label class=\"sk-toggleable__label\" for=\"dbd81080-ed2e-4174-b9ab-e656656579cf\">KNeighborsClassifier</label><div class=\"sk-toggleable__content\"><pre>KNeighborsClassifier(n_neighbors=25)</pre></div></div></div></div></div></div></div>"
            ],
            "text/plain": [
              "Pipeline(steps=[('columntransformer',\n",
              "                 ColumnTransformer(remainder='passthrough',\n",
              "                                   transformers=[('onehotencoder',\n",
              "                                                  OneHotEncoder(sparse=False),\n",
              "                                                  [1]),\n",
              "                                                 ('ordinalencoder',\n",
              "                                                  OrdinalEncoder(), [6]),\n",
              "                                                 ('standardscaler',\n",
              "                                                  StandardScaler(),\n",
              "                                                  [0, 3, 4, 5]),\n",
              "                                                 ('knnimputer', KNNImputer(),\n",
              "                                                  [2])])),\n",
              "                ('kneighborsclassifier', KNeighborsClassifier(n_neighbors=25))])"
            ]
          },
          "execution_count": 27,
          "metadata": {},
          "output_type": "execute_result"
        }
      ],
      "execution_count": 27
    },
    {
      "id": "fc78402d",
      "cell_type": "code",
      "source": "n_pipe.fit(x_train,y_train)",
      "metadata": {
        "execution": {
          "iopub.execute_input": "2021-12-23T08:39:59.914813Z",
          "iopub.status.busy": "2021-12-23T08:39:59.914168Z",
          "iopub.status.idle": "2021-12-23T08:39:59.983638Z",
          "shell.execute_reply": "2021-12-23T08:39:59.983098Z",
          "shell.execute_reply.started": "2021-12-23T08:37:37.128802Z"
        },
        "papermill": {
          "duration": 0.124329,
          "end_time": "2021-12-23T08:39:59.983781",
          "exception": false,
          "start_time": "2021-12-23T08:39:59.859452",
          "status": "completed"
        },
        "tags": []
      },
      "outputs": [
        {
          "name": "stderr",
          "output_type": "stream",
          "text": [
            "/opt/conda/lib/python3.7/site-packages/sklearn/pipeline.py:335: DataConversionWarning: A column-vector y was passed when a 1d array was expected. Please change the shape of y to (n_samples, ), for example using ravel().\n",
            "  self._final_estimator.fit(Xt, y, **fit_params_last_step)\n"
          ]
        },
        {
          "data": {
            "text/html": [
              "<style>div.sk-top-container {color: black;background-color: white;}div.sk-toggleable {background-color: white;}label.sk-toggleable__label {cursor: pointer;display: block;width: 100%;margin-bottom: 0;padding: 0.2em 0.3em;box-sizing: border-box;text-align: center;}div.sk-toggleable__content {max-height: 0;max-width: 0;overflow: hidden;text-align: left;background-color: #f0f8ff;}div.sk-toggleable__content pre {margin: 0.2em;color: black;border-radius: 0.25em;background-color: #f0f8ff;}input.sk-toggleable__control:checked~div.sk-toggleable__content {max-height: 200px;max-width: 100%;overflow: auto;}div.sk-estimator input.sk-toggleable__control:checked~label.sk-toggleable__label {background-color: #d4ebff;}div.sk-label input.sk-toggleable__control:checked~label.sk-toggleable__label {background-color: #d4ebff;}input.sk-hidden--visually {border: 0;clip: rect(1px 1px 1px 1px);clip: rect(1px, 1px, 1px, 1px);height: 1px;margin: -1px;overflow: hidden;padding: 0;position: absolute;width: 1px;}div.sk-estimator {font-family: monospace;background-color: #f0f8ff;margin: 0.25em 0.25em;border: 1px dotted black;border-radius: 0.25em;box-sizing: border-box;}div.sk-estimator:hover {background-color: #d4ebff;}div.sk-parallel-item::after {content: \"\";width: 100%;border-bottom: 1px solid gray;flex-grow: 1;}div.sk-label:hover label.sk-toggleable__label {background-color: #d4ebff;}div.sk-serial::before {content: \"\";position: absolute;border-left: 1px solid gray;box-sizing: border-box;top: 2em;bottom: 0;left: 50%;}div.sk-serial {display: flex;flex-direction: column;align-items: center;background-color: white;}div.sk-item {z-index: 1;}div.sk-parallel {display: flex;align-items: stretch;justify-content: center;background-color: white;}div.sk-parallel-item {display: flex;flex-direction: column;position: relative;background-color: white;}div.sk-parallel-item:first-child::after {align-self: flex-end;width: 50%;}div.sk-parallel-item:last-child::after {align-self: flex-start;width: 50%;}div.sk-parallel-item:only-child::after {width: 0;}div.sk-dashed-wrapped {border: 1px dashed gray;margin: 0.2em;box-sizing: border-box;padding-bottom: 0.1em;background-color: white;position: relative;}div.sk-label label {font-family: monospace;font-weight: bold;background-color: white;display: inline-block;line-height: 1.2em;}div.sk-label-container {position: relative;z-index: 2;text-align: center;}div.sk-container {display: inline-block;position: relative;}</style><div class=\"sk-top-container\"><div class=\"sk-container\"><div class=\"sk-item sk-dashed-wrapped\"><div class=\"sk-label-container\"><div class=\"sk-label sk-toggleable\"><input class=\"sk-toggleable__control sk-hidden--visually\" id=\"0cbaefbb-bb25-4d52-bd84-a08d4d0d418c\" type=\"checkbox\" ><label class=\"sk-toggleable__label\" for=\"0cbaefbb-bb25-4d52-bd84-a08d4d0d418c\">Pipeline</label><div class=\"sk-toggleable__content\"><pre>Pipeline(steps=[('columntransformer',\n",
              "                 ColumnTransformer(remainder='passthrough',\n",
              "                                   transformers=[('onehotencoder',\n",
              "                                                  OneHotEncoder(sparse=False),\n",
              "                                                  [1]),\n",
              "                                                 ('ordinalencoder',\n",
              "                                                  OrdinalEncoder(), [6]),\n",
              "                                                 ('standardscaler',\n",
              "                                                  StandardScaler(),\n",
              "                                                  [0, 3, 4, 5]),\n",
              "                                                 ('knnimputer', KNNImputer(),\n",
              "                                                  [2])])),\n",
              "                ('kneighborsclassifier', KNeighborsClassifier(n_neighbors=25))])</pre></div></div></div><div class=\"sk-serial\"><div class=\"sk-item sk-dashed-wrapped\"><div class=\"sk-label-container\"><div class=\"sk-label sk-toggleable\"><input class=\"sk-toggleable__control sk-hidden--visually\" id=\"50a9209c-f306-4465-bf08-9f7382a59324\" type=\"checkbox\" ><label class=\"sk-toggleable__label\" for=\"50a9209c-f306-4465-bf08-9f7382a59324\">columntransformer: ColumnTransformer</label><div class=\"sk-toggleable__content\"><pre>ColumnTransformer(remainder='passthrough',\n",
              "                  transformers=[('onehotencoder', OneHotEncoder(sparse=False),\n",
              "                                 [1]),\n",
              "                                ('ordinalencoder', OrdinalEncoder(), [6]),\n",
              "                                ('standardscaler', StandardScaler(),\n",
              "                                 [0, 3, 4, 5]),\n",
              "                                ('knnimputer', KNNImputer(), [2])])</pre></div></div></div><div class=\"sk-parallel\"><div class=\"sk-parallel-item\"><div class=\"sk-item\"><div class=\"sk-label-container\"><div class=\"sk-label sk-toggleable\"><input class=\"sk-toggleable__control sk-hidden--visually\" id=\"4155d7c9-b565-4e67-88df-36a5b8d10510\" type=\"checkbox\" ><label class=\"sk-toggleable__label\" for=\"4155d7c9-b565-4e67-88df-36a5b8d10510\">onehotencoder</label><div class=\"sk-toggleable__content\"><pre>[1]</pre></div></div></div><div class=\"sk-serial\"><div class=\"sk-item\"><div class=\"sk-estimator sk-toggleable\"><input class=\"sk-toggleable__control sk-hidden--visually\" id=\"1820c558-f97e-4111-8b50-ca559cbd96d9\" type=\"checkbox\" ><label class=\"sk-toggleable__label\" for=\"1820c558-f97e-4111-8b50-ca559cbd96d9\">OneHotEncoder</label><div class=\"sk-toggleable__content\"><pre>OneHotEncoder(sparse=False)</pre></div></div></div></div></div></div><div class=\"sk-parallel-item\"><div class=\"sk-item\"><div class=\"sk-label-container\"><div class=\"sk-label sk-toggleable\"><input class=\"sk-toggleable__control sk-hidden--visually\" id=\"54f3194d-e051-4985-9a06-711f93c94220\" type=\"checkbox\" ><label class=\"sk-toggleable__label\" for=\"54f3194d-e051-4985-9a06-711f93c94220\">ordinalencoder</label><div class=\"sk-toggleable__content\"><pre>[6]</pre></div></div></div><div class=\"sk-serial\"><div class=\"sk-item\"><div class=\"sk-estimator sk-toggleable\"><input class=\"sk-toggleable__control sk-hidden--visually\" id=\"f8374184-f9bb-4c87-b35b-f45ab85ad52e\" type=\"checkbox\" ><label class=\"sk-toggleable__label\" for=\"f8374184-f9bb-4c87-b35b-f45ab85ad52e\">OrdinalEncoder</label><div class=\"sk-toggleable__content\"><pre>OrdinalEncoder()</pre></div></div></div></div></div></div><div class=\"sk-parallel-item\"><div class=\"sk-item\"><div class=\"sk-label-container\"><div class=\"sk-label sk-toggleable\"><input class=\"sk-toggleable__control sk-hidden--visually\" id=\"b31d9105-eb25-41d8-b678-dd0835eae9e5\" type=\"checkbox\" ><label class=\"sk-toggleable__label\" for=\"b31d9105-eb25-41d8-b678-dd0835eae9e5\">standardscaler</label><div class=\"sk-toggleable__content\"><pre>[0, 3, 4, 5]</pre></div></div></div><div class=\"sk-serial\"><div class=\"sk-item\"><div class=\"sk-estimator sk-toggleable\"><input class=\"sk-toggleable__control sk-hidden--visually\" id=\"2efc80f8-6cb9-4d41-85ae-68dd08e70737\" type=\"checkbox\" ><label class=\"sk-toggleable__label\" for=\"2efc80f8-6cb9-4d41-85ae-68dd08e70737\">StandardScaler</label><div class=\"sk-toggleable__content\"><pre>StandardScaler()</pre></div></div></div></div></div></div><div class=\"sk-parallel-item\"><div class=\"sk-item\"><div class=\"sk-label-container\"><div class=\"sk-label sk-toggleable\"><input class=\"sk-toggleable__control sk-hidden--visually\" id=\"d0fe8c19-5bfc-4b01-90a0-8beff4984f3d\" type=\"checkbox\" ><label class=\"sk-toggleable__label\" for=\"d0fe8c19-5bfc-4b01-90a0-8beff4984f3d\">knnimputer</label><div class=\"sk-toggleable__content\"><pre>[2]</pre></div></div></div><div class=\"sk-serial\"><div class=\"sk-item\"><div class=\"sk-estimator sk-toggleable\"><input class=\"sk-toggleable__control sk-hidden--visually\" id=\"8022d840-8db2-414e-8d61-9b205cf8cc54\" type=\"checkbox\" ><label class=\"sk-toggleable__label\" for=\"8022d840-8db2-414e-8d61-9b205cf8cc54\">KNNImputer</label><div class=\"sk-toggleable__content\"><pre>KNNImputer()</pre></div></div></div></div></div></div></div></div><div class=\"sk-item\"><div class=\"sk-estimator sk-toggleable\"><input class=\"sk-toggleable__control sk-hidden--visually\" id=\"ef9a8495-5b2e-4e0a-a82c-2c53767af687\" type=\"checkbox\" ><label class=\"sk-toggleable__label\" for=\"ef9a8495-5b2e-4e0a-a82c-2c53767af687\">KNeighborsClassifier</label><div class=\"sk-toggleable__content\"><pre>KNeighborsClassifier(n_neighbors=25)</pre></div></div></div></div></div></div></div>"
            ],
            "text/plain": [
              "Pipeline(steps=[('columntransformer',\n",
              "                 ColumnTransformer(remainder='passthrough',\n",
              "                                   transformers=[('onehotencoder',\n",
              "                                                  OneHotEncoder(sparse=False),\n",
              "                                                  [1]),\n",
              "                                                 ('ordinalencoder',\n",
              "                                                  OrdinalEncoder(), [6]),\n",
              "                                                 ('standardscaler',\n",
              "                                                  StandardScaler(),\n",
              "                                                  [0, 3, 4, 5]),\n",
              "                                                 ('knnimputer', KNNImputer(),\n",
              "                                                  [2])])),\n",
              "                ('kneighborsclassifier', KNeighborsClassifier(n_neighbors=25))])"
            ]
          },
          "execution_count": 28,
          "metadata": {},
          "output_type": "execute_result"
        }
      ],
      "execution_count": 28
    },
    {
      "id": "b7d1177c",
      "cell_type": "code",
      "source": "from sklearn.svm import SVC\n\nmodel = SVC(kernel = 'linear')\n\nn_pipe.fit(x_train,y_train)\npred = n_pipe.predict(x_test)\naccuracy_score(pred,y_test)*100",
      "metadata": {
        "execution": {
          "iopub.execute_input": "2021-12-23T08:40:00.098800Z",
          "iopub.status.busy": "2021-12-23T08:40:00.096750Z",
          "iopub.status.idle": "2021-12-23T08:40:00.141117Z",
          "shell.execute_reply": "2021-12-23T08:40:00.140594Z",
          "shell.execute_reply.started": "2021-12-23T08:37:37.192747Z"
        },
        "papermill": {
          "duration": 0.104058,
          "end_time": "2021-12-23T08:40:00.141252",
          "exception": false,
          "start_time": "2021-12-23T08:40:00.037194",
          "status": "completed"
        },
        "tags": []
      },
      "outputs": [
        {
          "name": "stderr",
          "output_type": "stream",
          "text": [
            "/opt/conda/lib/python3.7/site-packages/sklearn/pipeline.py:335: DataConversionWarning: A column-vector y was passed when a 1d array was expected. Please change the shape of y to (n_samples, ), for example using ravel().\n",
            "  self._final_estimator.fit(Xt, y, **fit_params_last_step)\n"
          ]
        },
        {
          "data": {
            "text/plain": [
              "73.40823970037454"
            ]
          },
          "execution_count": 29,
          "metadata": {},
          "output_type": "execute_result"
        }
      ],
      "execution_count": 29
    },
    {
      "id": "ba171701",
      "cell_type": "code",
      "source": "from sklearn.ensemble import BaggingClassifier\nmodel2= BaggingClassifier(base_estimator=SVC(3))\nmodel2\n",
      "metadata": {
        "execution": {
          "iopub.execute_input": "2021-12-23T08:40:00.254724Z",
          "iopub.status.busy": "2021-12-23T08:40:00.254025Z",
          "iopub.status.idle": "2021-12-23T08:40:00.288752Z",
          "shell.execute_reply": "2021-12-23T08:40:00.289451Z",
          "shell.execute_reply.started": "2021-12-23T08:37:37.241426Z"
        },
        "papermill": {
          "duration": 0.094427,
          "end_time": "2021-12-23T08:40:00.289676",
          "exception": false,
          "start_time": "2021-12-23T08:40:00.195249",
          "status": "completed"
        },
        "tags": []
      },
      "outputs": [
        {
          "name": "stderr",
          "output_type": "stream",
          "text": [
            "/opt/conda/lib/python3.7/site-packages/sklearn/utils/validation.py:70: FutureWarning: Pass C=3 as keyword args. From version 0.25 passing these as positional arguments will result in an error\n",
            "  FutureWarning)\n"
          ]
        },
        {
          "data": {
            "text/html": [
              "<style>div.sk-top-container {color: black;background-color: white;}div.sk-toggleable {background-color: white;}label.sk-toggleable__label {cursor: pointer;display: block;width: 100%;margin-bottom: 0;padding: 0.2em 0.3em;box-sizing: border-box;text-align: center;}div.sk-toggleable__content {max-height: 0;max-width: 0;overflow: hidden;text-align: left;background-color: #f0f8ff;}div.sk-toggleable__content pre {margin: 0.2em;color: black;border-radius: 0.25em;background-color: #f0f8ff;}input.sk-toggleable__control:checked~div.sk-toggleable__content {max-height: 200px;max-width: 100%;overflow: auto;}div.sk-estimator input.sk-toggleable__control:checked~label.sk-toggleable__label {background-color: #d4ebff;}div.sk-label input.sk-toggleable__control:checked~label.sk-toggleable__label {background-color: #d4ebff;}input.sk-hidden--visually {border: 0;clip: rect(1px 1px 1px 1px);clip: rect(1px, 1px, 1px, 1px);height: 1px;margin: -1px;overflow: hidden;padding: 0;position: absolute;width: 1px;}div.sk-estimator {font-family: monospace;background-color: #f0f8ff;margin: 0.25em 0.25em;border: 1px dotted black;border-radius: 0.25em;box-sizing: border-box;}div.sk-estimator:hover {background-color: #d4ebff;}div.sk-parallel-item::after {content: \"\";width: 100%;border-bottom: 1px solid gray;flex-grow: 1;}div.sk-label:hover label.sk-toggleable__label {background-color: #d4ebff;}div.sk-serial::before {content: \"\";position: absolute;border-left: 1px solid gray;box-sizing: border-box;top: 2em;bottom: 0;left: 50%;}div.sk-serial {display: flex;flex-direction: column;align-items: center;background-color: white;}div.sk-item {z-index: 1;}div.sk-parallel {display: flex;align-items: stretch;justify-content: center;background-color: white;}div.sk-parallel-item {display: flex;flex-direction: column;position: relative;background-color: white;}div.sk-parallel-item:first-child::after {align-self: flex-end;width: 50%;}div.sk-parallel-item:last-child::after {align-self: flex-start;width: 50%;}div.sk-parallel-item:only-child::after {width: 0;}div.sk-dashed-wrapped {border: 1px dashed gray;margin: 0.2em;box-sizing: border-box;padding-bottom: 0.1em;background-color: white;position: relative;}div.sk-label label {font-family: monospace;font-weight: bold;background-color: white;display: inline-block;line-height: 1.2em;}div.sk-label-container {position: relative;z-index: 2;text-align: center;}div.sk-container {display: inline-block;position: relative;}</style><div class=\"sk-top-container\"><div class=\"sk-container\"><div class=\"sk-item sk-dashed-wrapped\"><div class=\"sk-label-container\"><div class=\"sk-label sk-toggleable\"><input class=\"sk-toggleable__control sk-hidden--visually\" id=\"7bc3addf-5ed8-4bce-bb9d-5951312132e8\" type=\"checkbox\" ><label class=\"sk-toggleable__label\" for=\"7bc3addf-5ed8-4bce-bb9d-5951312132e8\">BaggingClassifier</label><div class=\"sk-toggleable__content\"><pre>BaggingClassifier(base_estimator=SVC(C=3))</pre></div></div></div><div class=\"sk-parallel\"><div class=\"sk-parallel-item\"><div class=\"sk-item\"><div class=\"sk-serial\"><div class=\"sk-item\"><div class=\"sk-estimator sk-toggleable\"><input class=\"sk-toggleable__control sk-hidden--visually\" id=\"86a97c00-cce2-412e-ad87-569dbebcfdf9\" type=\"checkbox\" ><label class=\"sk-toggleable__label\" for=\"86a97c00-cce2-412e-ad87-569dbebcfdf9\">SVC</label><div class=\"sk-toggleable__content\"><pre>SVC(C=3)</pre></div></div></div></div></div></div></div></div></div></div>"
            ],
            "text/plain": [
              "BaggingClassifier(base_estimator=SVC(C=3))"
            ]
          },
          "execution_count": 30,
          "metadata": {},
          "output_type": "execute_result"
        }
      ],
      "execution_count": 30
    },
    {
      "id": "353e903e",
      "cell_type": "code",
      "source": "pipe_5 = make_pipeline(trans,model2)\npipe_5",
      "metadata": {
        "execution": {
          "iopub.execute_input": "2021-12-23T08:40:00.408688Z",
          "iopub.status.busy": "2021-12-23T08:40:00.407989Z",
          "iopub.status.idle": "2021-12-23T08:40:00.465449Z",
          "shell.execute_reply": "2021-12-23T08:40:00.465903Z",
          "shell.execute_reply.started": "2021-12-23T08:37:37.253099Z"
        },
        "papermill": {
          "duration": 0.12102,
          "end_time": "2021-12-23T08:40:00.466065",
          "exception": false,
          "start_time": "2021-12-23T08:40:00.345045",
          "status": "completed"
        },
        "tags": []
      },
      "outputs": [
        {
          "data": {
            "text/html": [
              "<style>div.sk-top-container {color: black;background-color: white;}div.sk-toggleable {background-color: white;}label.sk-toggleable__label {cursor: pointer;display: block;width: 100%;margin-bottom: 0;padding: 0.2em 0.3em;box-sizing: border-box;text-align: center;}div.sk-toggleable__content {max-height: 0;max-width: 0;overflow: hidden;text-align: left;background-color: #f0f8ff;}div.sk-toggleable__content pre {margin: 0.2em;color: black;border-radius: 0.25em;background-color: #f0f8ff;}input.sk-toggleable__control:checked~div.sk-toggleable__content {max-height: 200px;max-width: 100%;overflow: auto;}div.sk-estimator input.sk-toggleable__control:checked~label.sk-toggleable__label {background-color: #d4ebff;}div.sk-label input.sk-toggleable__control:checked~label.sk-toggleable__label {background-color: #d4ebff;}input.sk-hidden--visually {border: 0;clip: rect(1px 1px 1px 1px);clip: rect(1px, 1px, 1px, 1px);height: 1px;margin: -1px;overflow: hidden;padding: 0;position: absolute;width: 1px;}div.sk-estimator {font-family: monospace;background-color: #f0f8ff;margin: 0.25em 0.25em;border: 1px dotted black;border-radius: 0.25em;box-sizing: border-box;}div.sk-estimator:hover {background-color: #d4ebff;}div.sk-parallel-item::after {content: \"\";width: 100%;border-bottom: 1px solid gray;flex-grow: 1;}div.sk-label:hover label.sk-toggleable__label {background-color: #d4ebff;}div.sk-serial::before {content: \"\";position: absolute;border-left: 1px solid gray;box-sizing: border-box;top: 2em;bottom: 0;left: 50%;}div.sk-serial {display: flex;flex-direction: column;align-items: center;background-color: white;}div.sk-item {z-index: 1;}div.sk-parallel {display: flex;align-items: stretch;justify-content: center;background-color: white;}div.sk-parallel-item {display: flex;flex-direction: column;position: relative;background-color: white;}div.sk-parallel-item:first-child::after {align-self: flex-end;width: 50%;}div.sk-parallel-item:last-child::after {align-self: flex-start;width: 50%;}div.sk-parallel-item:only-child::after {width: 0;}div.sk-dashed-wrapped {border: 1px dashed gray;margin: 0.2em;box-sizing: border-box;padding-bottom: 0.1em;background-color: white;position: relative;}div.sk-label label {font-family: monospace;font-weight: bold;background-color: white;display: inline-block;line-height: 1.2em;}div.sk-label-container {position: relative;z-index: 2;text-align: center;}div.sk-container {display: inline-block;position: relative;}</style><div class=\"sk-top-container\"><div class=\"sk-container\"><div class=\"sk-item sk-dashed-wrapped\"><div class=\"sk-label-container\"><div class=\"sk-label sk-toggleable\"><input class=\"sk-toggleable__control sk-hidden--visually\" id=\"4c9d1b03-9afd-4c8b-ad75-f90cf9430f98\" type=\"checkbox\" ><label class=\"sk-toggleable__label\" for=\"4c9d1b03-9afd-4c8b-ad75-f90cf9430f98\">Pipeline</label><div class=\"sk-toggleable__content\"><pre>Pipeline(steps=[('columntransformer',\n",
              "                 ColumnTransformer(remainder='passthrough',\n",
              "                                   transformers=[('onehotencoder',\n",
              "                                                  OneHotEncoder(sparse=False),\n",
              "                                                  [1]),\n",
              "                                                 ('ordinalencoder',\n",
              "                                                  OrdinalEncoder(), [6]),\n",
              "                                                 ('standardscaler',\n",
              "                                                  StandardScaler(),\n",
              "                                                  [0, 3, 4, 5]),\n",
              "                                                 ('knnimputer', KNNImputer(),\n",
              "                                                  [2])])),\n",
              "                ('baggingclassifier',\n",
              "                 BaggingClassifier(base_estimator=SVC(C=3)))])</pre></div></div></div><div class=\"sk-serial\"><div class=\"sk-item sk-dashed-wrapped\"><div class=\"sk-label-container\"><div class=\"sk-label sk-toggleable\"><input class=\"sk-toggleable__control sk-hidden--visually\" id=\"5982f13a-46f0-4319-809d-fb302e368fdf\" type=\"checkbox\" ><label class=\"sk-toggleable__label\" for=\"5982f13a-46f0-4319-809d-fb302e368fdf\">columntransformer: ColumnTransformer</label><div class=\"sk-toggleable__content\"><pre>ColumnTransformer(remainder='passthrough',\n",
              "                  transformers=[('onehotencoder', OneHotEncoder(sparse=False),\n",
              "                                 [1]),\n",
              "                                ('ordinalencoder', OrdinalEncoder(), [6]),\n",
              "                                ('standardscaler', StandardScaler(),\n",
              "                                 [0, 3, 4, 5]),\n",
              "                                ('knnimputer', KNNImputer(), [2])])</pre></div></div></div><div class=\"sk-parallel\"><div class=\"sk-parallel-item\"><div class=\"sk-item\"><div class=\"sk-label-container\"><div class=\"sk-label sk-toggleable\"><input class=\"sk-toggleable__control sk-hidden--visually\" id=\"81db24f5-1c8a-4c8b-a791-b58508bfa83e\" type=\"checkbox\" ><label class=\"sk-toggleable__label\" for=\"81db24f5-1c8a-4c8b-a791-b58508bfa83e\">onehotencoder</label><div class=\"sk-toggleable__content\"><pre>[1]</pre></div></div></div><div class=\"sk-serial\"><div class=\"sk-item\"><div class=\"sk-estimator sk-toggleable\"><input class=\"sk-toggleable__control sk-hidden--visually\" id=\"d23c4b39-5112-46d0-8d93-052fbba55123\" type=\"checkbox\" ><label class=\"sk-toggleable__label\" for=\"d23c4b39-5112-46d0-8d93-052fbba55123\">OneHotEncoder</label><div class=\"sk-toggleable__content\"><pre>OneHotEncoder(sparse=False)</pre></div></div></div></div></div></div><div class=\"sk-parallel-item\"><div class=\"sk-item\"><div class=\"sk-label-container\"><div class=\"sk-label sk-toggleable\"><input class=\"sk-toggleable__control sk-hidden--visually\" id=\"8ed907d4-5cee-4645-b44c-c58c397bf2e8\" type=\"checkbox\" ><label class=\"sk-toggleable__label\" for=\"8ed907d4-5cee-4645-b44c-c58c397bf2e8\">ordinalencoder</label><div class=\"sk-toggleable__content\"><pre>[6]</pre></div></div></div><div class=\"sk-serial\"><div class=\"sk-item\"><div class=\"sk-estimator sk-toggleable\"><input class=\"sk-toggleable__control sk-hidden--visually\" id=\"2e8928af-7b46-4c5b-925a-d14426488615\" type=\"checkbox\" ><label class=\"sk-toggleable__label\" for=\"2e8928af-7b46-4c5b-925a-d14426488615\">OrdinalEncoder</label><div class=\"sk-toggleable__content\"><pre>OrdinalEncoder()</pre></div></div></div></div></div></div><div class=\"sk-parallel-item\"><div class=\"sk-item\"><div class=\"sk-label-container\"><div class=\"sk-label sk-toggleable\"><input class=\"sk-toggleable__control sk-hidden--visually\" id=\"d1f48269-8768-431b-8c0b-170c58e4197b\" type=\"checkbox\" ><label class=\"sk-toggleable__label\" for=\"d1f48269-8768-431b-8c0b-170c58e4197b\">standardscaler</label><div class=\"sk-toggleable__content\"><pre>[0, 3, 4, 5]</pre></div></div></div><div class=\"sk-serial\"><div class=\"sk-item\"><div class=\"sk-estimator sk-toggleable\"><input class=\"sk-toggleable__control sk-hidden--visually\" id=\"106fc670-d9c0-429c-8a92-8fe17e947b1d\" type=\"checkbox\" ><label class=\"sk-toggleable__label\" for=\"106fc670-d9c0-429c-8a92-8fe17e947b1d\">StandardScaler</label><div class=\"sk-toggleable__content\"><pre>StandardScaler()</pre></div></div></div></div></div></div><div class=\"sk-parallel-item\"><div class=\"sk-item\"><div class=\"sk-label-container\"><div class=\"sk-label sk-toggleable\"><input class=\"sk-toggleable__control sk-hidden--visually\" id=\"9a96aa25-203a-4385-9c06-684c6b71aab1\" type=\"checkbox\" ><label class=\"sk-toggleable__label\" for=\"9a96aa25-203a-4385-9c06-684c6b71aab1\">knnimputer</label><div class=\"sk-toggleable__content\"><pre>[2]</pre></div></div></div><div class=\"sk-serial\"><div class=\"sk-item\"><div class=\"sk-estimator sk-toggleable\"><input class=\"sk-toggleable__control sk-hidden--visually\" id=\"de36f667-9965-44bd-855a-09d71e40d0e4\" type=\"checkbox\" ><label class=\"sk-toggleable__label\" for=\"de36f667-9965-44bd-855a-09d71e40d0e4\">KNNImputer</label><div class=\"sk-toggleable__content\"><pre>KNNImputer()</pre></div></div></div></div></div></div></div></div><div class=\"sk-item sk-dashed-wrapped\"><div class=\"sk-label-container\"><div class=\"sk-label sk-toggleable\"><input class=\"sk-toggleable__control sk-hidden--visually\" id=\"3635a30b-31f1-487e-a7c9-7a1c0bf7c617\" type=\"checkbox\" ><label class=\"sk-toggleable__label\" for=\"3635a30b-31f1-487e-a7c9-7a1c0bf7c617\">baggingclassifier: BaggingClassifier</label><div class=\"sk-toggleable__content\"><pre>BaggingClassifier(base_estimator=SVC(C=3))</pre></div></div></div><div class=\"sk-parallel\"><div class=\"sk-parallel-item\"><div class=\"sk-item\"><div class=\"sk-serial\"><div class=\"sk-item\"><div class=\"sk-estimator sk-toggleable\"><input class=\"sk-toggleable__control sk-hidden--visually\" id=\"ea97ac31-9ab7-495a-aead-966051834a12\" type=\"checkbox\" ><label class=\"sk-toggleable__label\" for=\"ea97ac31-9ab7-495a-aead-966051834a12\">SVC</label><div class=\"sk-toggleable__content\"><pre>SVC(C=3)</pre></div></div></div></div></div></div></div></div></div></div></div></div>"
            ],
            "text/plain": [
              "Pipeline(steps=[('columntransformer',\n",
              "                 ColumnTransformer(remainder='passthrough',\n",
              "                                   transformers=[('onehotencoder',\n",
              "                                                  OneHotEncoder(sparse=False),\n",
              "                                                  [1]),\n",
              "                                                 ('ordinalencoder',\n",
              "                                                  OrdinalEncoder(), [6]),\n",
              "                                                 ('standardscaler',\n",
              "                                                  StandardScaler(),\n",
              "                                                  [0, 3, 4, 5]),\n",
              "                                                 ('knnimputer', KNNImputer(),\n",
              "                                                  [2])])),\n",
              "                ('baggingclassifier',\n",
              "                 BaggingClassifier(base_estimator=SVC(C=3)))])"
            ]
          },
          "execution_count": 31,
          "metadata": {},
          "output_type": "execute_result"
        }
      ],
      "execution_count": 31
    },
    {
      "id": "f5179e92",
      "cell_type": "code",
      "source": "pipe_5.fit(x_train,y_train)\npred5 =pipe_5.predict(x_test)\naccuracy_score(pred,y_test)*100",
      "metadata": {
        "execution": {
          "iopub.execute_input": "2021-12-23T08:40:00.580936Z",
          "iopub.status.busy": "2021-12-23T08:40:00.580311Z",
          "iopub.status.idle": "2021-12-23T08:40:00.705314Z",
          "shell.execute_reply": "2021-12-23T08:40:00.706044Z",
          "shell.execute_reply.started": "2021-12-23T08:37:37.312468Z"
        },
        "papermill": {
          "duration": 0.184865,
          "end_time": "2021-12-23T08:40:00.706278",
          "exception": false,
          "start_time": "2021-12-23T08:40:00.521413",
          "status": "completed"
        },
        "tags": []
      },
      "outputs": [
        {
          "name": "stderr",
          "output_type": "stream",
          "text": [
            "/opt/conda/lib/python3.7/site-packages/sklearn/utils/validation.py:72: DataConversionWarning: A column-vector y was passed when a 1d array was expected. Please change the shape of y to (n_samples, ), for example using ravel().\n",
            "  return f(**kwargs)\n"
          ]
        },
        {
          "data": {
            "text/plain": [
              "73.40823970037454"
            ]
          },
          "execution_count": 32,
          "metadata": {},
          "output_type": "execute_result"
        }
      ],
      "execution_count": 32
    },
    {
      "id": "347cd0d4",
      "cell_type": "code",
      "source": "from sklearn.linear_model import LogisticRegression as lr\nmodel_2 =lr(solver='liblinear')\npipe_2 = make_pipeline(trans,model_2)\npipe_2",
      "metadata": {
        "execution": {
          "iopub.execute_input": "2021-12-23T08:40:00.826056Z",
          "iopub.status.busy": "2021-12-23T08:40:00.825349Z",
          "iopub.status.idle": "2021-12-23T08:40:00.878504Z",
          "shell.execute_reply": "2021-12-23T08:40:00.878938Z",
          "shell.execute_reply.started": "2021-12-23T08:37:37.436424Z"
        },
        "papermill": {
          "duration": 0.116435,
          "end_time": "2021-12-23T08:40:00.879118",
          "exception": false,
          "start_time": "2021-12-23T08:40:00.762683",
          "status": "completed"
        },
        "tags": []
      },
      "outputs": [
        {
          "data": {
            "text/html": [
              "<style>div.sk-top-container {color: black;background-color: white;}div.sk-toggleable {background-color: white;}label.sk-toggleable__label {cursor: pointer;display: block;width: 100%;margin-bottom: 0;padding: 0.2em 0.3em;box-sizing: border-box;text-align: center;}div.sk-toggleable__content {max-height: 0;max-width: 0;overflow: hidden;text-align: left;background-color: #f0f8ff;}div.sk-toggleable__content pre {margin: 0.2em;color: black;border-radius: 0.25em;background-color: #f0f8ff;}input.sk-toggleable__control:checked~div.sk-toggleable__content {max-height: 200px;max-width: 100%;overflow: auto;}div.sk-estimator input.sk-toggleable__control:checked~label.sk-toggleable__label {background-color: #d4ebff;}div.sk-label input.sk-toggleable__control:checked~label.sk-toggleable__label {background-color: #d4ebff;}input.sk-hidden--visually {border: 0;clip: rect(1px 1px 1px 1px);clip: rect(1px, 1px, 1px, 1px);height: 1px;margin: -1px;overflow: hidden;padding: 0;position: absolute;width: 1px;}div.sk-estimator {font-family: monospace;background-color: #f0f8ff;margin: 0.25em 0.25em;border: 1px dotted black;border-radius: 0.25em;box-sizing: border-box;}div.sk-estimator:hover {background-color: #d4ebff;}div.sk-parallel-item::after {content: \"\";width: 100%;border-bottom: 1px solid gray;flex-grow: 1;}div.sk-label:hover label.sk-toggleable__label {background-color: #d4ebff;}div.sk-serial::before {content: \"\";position: absolute;border-left: 1px solid gray;box-sizing: border-box;top: 2em;bottom: 0;left: 50%;}div.sk-serial {display: flex;flex-direction: column;align-items: center;background-color: white;}div.sk-item {z-index: 1;}div.sk-parallel {display: flex;align-items: stretch;justify-content: center;background-color: white;}div.sk-parallel-item {display: flex;flex-direction: column;position: relative;background-color: white;}div.sk-parallel-item:first-child::after {align-self: flex-end;width: 50%;}div.sk-parallel-item:last-child::after {align-self: flex-start;width: 50%;}div.sk-parallel-item:only-child::after {width: 0;}div.sk-dashed-wrapped {border: 1px dashed gray;margin: 0.2em;box-sizing: border-box;padding-bottom: 0.1em;background-color: white;position: relative;}div.sk-label label {font-family: monospace;font-weight: bold;background-color: white;display: inline-block;line-height: 1.2em;}div.sk-label-container {position: relative;z-index: 2;text-align: center;}div.sk-container {display: inline-block;position: relative;}</style><div class=\"sk-top-container\"><div class=\"sk-container\"><div class=\"sk-item sk-dashed-wrapped\"><div class=\"sk-label-container\"><div class=\"sk-label sk-toggleable\"><input class=\"sk-toggleable__control sk-hidden--visually\" id=\"2b0ca568-315d-485e-8621-741edc316d65\" type=\"checkbox\" ><label class=\"sk-toggleable__label\" for=\"2b0ca568-315d-485e-8621-741edc316d65\">Pipeline</label><div class=\"sk-toggleable__content\"><pre>Pipeline(steps=[('columntransformer',\n",
              "                 ColumnTransformer(remainder='passthrough',\n",
              "                                   transformers=[('onehotencoder',\n",
              "                                                  OneHotEncoder(sparse=False),\n",
              "                                                  [1]),\n",
              "                                                 ('ordinalencoder',\n",
              "                                                  OrdinalEncoder(), [6]),\n",
              "                                                 ('standardscaler',\n",
              "                                                  StandardScaler(),\n",
              "                                                  [0, 3, 4, 5]),\n",
              "                                                 ('knnimputer', KNNImputer(),\n",
              "                                                  [2])])),\n",
              "                ('logisticregression', LogisticRegression(solver='liblinear'))])</pre></div></div></div><div class=\"sk-serial\"><div class=\"sk-item sk-dashed-wrapped\"><div class=\"sk-label-container\"><div class=\"sk-label sk-toggleable\"><input class=\"sk-toggleable__control sk-hidden--visually\" id=\"3431517b-06e3-42d1-b571-abb6575457e8\" type=\"checkbox\" ><label class=\"sk-toggleable__label\" for=\"3431517b-06e3-42d1-b571-abb6575457e8\">columntransformer: ColumnTransformer</label><div class=\"sk-toggleable__content\"><pre>ColumnTransformer(remainder='passthrough',\n",
              "                  transformers=[('onehotencoder', OneHotEncoder(sparse=False),\n",
              "                                 [1]),\n",
              "                                ('ordinalencoder', OrdinalEncoder(), [6]),\n",
              "                                ('standardscaler', StandardScaler(),\n",
              "                                 [0, 3, 4, 5]),\n",
              "                                ('knnimputer', KNNImputer(), [2])])</pre></div></div></div><div class=\"sk-parallel\"><div class=\"sk-parallel-item\"><div class=\"sk-item\"><div class=\"sk-label-container\"><div class=\"sk-label sk-toggleable\"><input class=\"sk-toggleable__control sk-hidden--visually\" id=\"092a3a4f-63f3-4acf-99e2-19b1f3056979\" type=\"checkbox\" ><label class=\"sk-toggleable__label\" for=\"092a3a4f-63f3-4acf-99e2-19b1f3056979\">onehotencoder</label><div class=\"sk-toggleable__content\"><pre>[1]</pre></div></div></div><div class=\"sk-serial\"><div class=\"sk-item\"><div class=\"sk-estimator sk-toggleable\"><input class=\"sk-toggleable__control sk-hidden--visually\" id=\"20c73e2b-2be0-49fe-9150-9a2b5e099696\" type=\"checkbox\" ><label class=\"sk-toggleable__label\" for=\"20c73e2b-2be0-49fe-9150-9a2b5e099696\">OneHotEncoder</label><div class=\"sk-toggleable__content\"><pre>OneHotEncoder(sparse=False)</pre></div></div></div></div></div></div><div class=\"sk-parallel-item\"><div class=\"sk-item\"><div class=\"sk-label-container\"><div class=\"sk-label sk-toggleable\"><input class=\"sk-toggleable__control sk-hidden--visually\" id=\"4f7632ff-b626-4fe7-8fd8-b92a0faaa2be\" type=\"checkbox\" ><label class=\"sk-toggleable__label\" for=\"4f7632ff-b626-4fe7-8fd8-b92a0faaa2be\">ordinalencoder</label><div class=\"sk-toggleable__content\"><pre>[6]</pre></div></div></div><div class=\"sk-serial\"><div class=\"sk-item\"><div class=\"sk-estimator sk-toggleable\"><input class=\"sk-toggleable__control sk-hidden--visually\" id=\"db1a7fac-30fc-4f92-85d8-24a1122022dd\" type=\"checkbox\" ><label class=\"sk-toggleable__label\" for=\"db1a7fac-30fc-4f92-85d8-24a1122022dd\">OrdinalEncoder</label><div class=\"sk-toggleable__content\"><pre>OrdinalEncoder()</pre></div></div></div></div></div></div><div class=\"sk-parallel-item\"><div class=\"sk-item\"><div class=\"sk-label-container\"><div class=\"sk-label sk-toggleable\"><input class=\"sk-toggleable__control sk-hidden--visually\" id=\"6d1d654d-bf8e-4f88-b8f4-ee44b1d6460c\" type=\"checkbox\" ><label class=\"sk-toggleable__label\" for=\"6d1d654d-bf8e-4f88-b8f4-ee44b1d6460c\">standardscaler</label><div class=\"sk-toggleable__content\"><pre>[0, 3, 4, 5]</pre></div></div></div><div class=\"sk-serial\"><div class=\"sk-item\"><div class=\"sk-estimator sk-toggleable\"><input class=\"sk-toggleable__control sk-hidden--visually\" id=\"ed9e4218-34c9-4c37-a1d4-e7cfc4257852\" type=\"checkbox\" ><label class=\"sk-toggleable__label\" for=\"ed9e4218-34c9-4c37-a1d4-e7cfc4257852\">StandardScaler</label><div class=\"sk-toggleable__content\"><pre>StandardScaler()</pre></div></div></div></div></div></div><div class=\"sk-parallel-item\"><div class=\"sk-item\"><div class=\"sk-label-container\"><div class=\"sk-label sk-toggleable\"><input class=\"sk-toggleable__control sk-hidden--visually\" id=\"76f681e2-9754-416f-bfe2-3213c2e4c5ed\" type=\"checkbox\" ><label class=\"sk-toggleable__label\" for=\"76f681e2-9754-416f-bfe2-3213c2e4c5ed\">knnimputer</label><div class=\"sk-toggleable__content\"><pre>[2]</pre></div></div></div><div class=\"sk-serial\"><div class=\"sk-item\"><div class=\"sk-estimator sk-toggleable\"><input class=\"sk-toggleable__control sk-hidden--visually\" id=\"73ae2bbe-ebe2-4756-ac6b-da8fbd372d4b\" type=\"checkbox\" ><label class=\"sk-toggleable__label\" for=\"73ae2bbe-ebe2-4756-ac6b-da8fbd372d4b\">KNNImputer</label><div class=\"sk-toggleable__content\"><pre>KNNImputer()</pre></div></div></div></div></div></div></div></div><div class=\"sk-item\"><div class=\"sk-estimator sk-toggleable\"><input class=\"sk-toggleable__control sk-hidden--visually\" id=\"c33d0825-e181-4ac5-8480-c2fdf4da712a\" type=\"checkbox\" ><label class=\"sk-toggleable__label\" for=\"c33d0825-e181-4ac5-8480-c2fdf4da712a\">LogisticRegression</label><div class=\"sk-toggleable__content\"><pre>LogisticRegression(solver='liblinear')</pre></div></div></div></div></div></div></div>"
            ],
            "text/plain": [
              "Pipeline(steps=[('columntransformer',\n",
              "                 ColumnTransformer(remainder='passthrough',\n",
              "                                   transformers=[('onehotencoder',\n",
              "                                                  OneHotEncoder(sparse=False),\n",
              "                                                  [1]),\n",
              "                                                 ('ordinalencoder',\n",
              "                                                  OrdinalEncoder(), [6]),\n",
              "                                                 ('standardscaler',\n",
              "                                                  StandardScaler(),\n",
              "                                                  [0, 3, 4, 5]),\n",
              "                                                 ('knnimputer', KNNImputer(),\n",
              "                                                  [2])])),\n",
              "                ('logisticregression', LogisticRegression(solver='liblinear'))])"
            ]
          },
          "execution_count": 33,
          "metadata": {},
          "output_type": "execute_result"
        }
      ],
      "execution_count": 33
    },
    {
      "id": "05e8042d",
      "cell_type": "code",
      "source": "pipe_2.fit(x_train,y_train)",
      "metadata": {
        "execution": {
          "iopub.execute_input": "2021-12-23T08:40:00.995675Z",
          "iopub.status.busy": "2021-12-23T08:40:00.995005Z",
          "iopub.status.idle": "2021-12-23T08:40:01.065713Z",
          "shell.execute_reply": "2021-12-23T08:40:01.066198Z",
          "shell.execute_reply.started": "2021-12-23T08:37:37.489630Z"
        },
        "papermill": {
          "duration": 0.1301,
          "end_time": "2021-12-23T08:40:01.066382",
          "exception": false,
          "start_time": "2021-12-23T08:40:00.936282",
          "status": "completed"
        },
        "tags": []
      },
      "outputs": [
        {
          "name": "stderr",
          "output_type": "stream",
          "text": [
            "/opt/conda/lib/python3.7/site-packages/sklearn/utils/validation.py:72: DataConversionWarning: A column-vector y was passed when a 1d array was expected. Please change the shape of y to (n_samples, ), for example using ravel().\n",
            "  return f(**kwargs)\n"
          ]
        },
        {
          "data": {
            "text/html": [
              "<style>div.sk-top-container {color: black;background-color: white;}div.sk-toggleable {background-color: white;}label.sk-toggleable__label {cursor: pointer;display: block;width: 100%;margin-bottom: 0;padding: 0.2em 0.3em;box-sizing: border-box;text-align: center;}div.sk-toggleable__content {max-height: 0;max-width: 0;overflow: hidden;text-align: left;background-color: #f0f8ff;}div.sk-toggleable__content pre {margin: 0.2em;color: black;border-radius: 0.25em;background-color: #f0f8ff;}input.sk-toggleable__control:checked~div.sk-toggleable__content {max-height: 200px;max-width: 100%;overflow: auto;}div.sk-estimator input.sk-toggleable__control:checked~label.sk-toggleable__label {background-color: #d4ebff;}div.sk-label input.sk-toggleable__control:checked~label.sk-toggleable__label {background-color: #d4ebff;}input.sk-hidden--visually {border: 0;clip: rect(1px 1px 1px 1px);clip: rect(1px, 1px, 1px, 1px);height: 1px;margin: -1px;overflow: hidden;padding: 0;position: absolute;width: 1px;}div.sk-estimator {font-family: monospace;background-color: #f0f8ff;margin: 0.25em 0.25em;border: 1px dotted black;border-radius: 0.25em;box-sizing: border-box;}div.sk-estimator:hover {background-color: #d4ebff;}div.sk-parallel-item::after {content: \"\";width: 100%;border-bottom: 1px solid gray;flex-grow: 1;}div.sk-label:hover label.sk-toggleable__label {background-color: #d4ebff;}div.sk-serial::before {content: \"\";position: absolute;border-left: 1px solid gray;box-sizing: border-box;top: 2em;bottom: 0;left: 50%;}div.sk-serial {display: flex;flex-direction: column;align-items: center;background-color: white;}div.sk-item {z-index: 1;}div.sk-parallel {display: flex;align-items: stretch;justify-content: center;background-color: white;}div.sk-parallel-item {display: flex;flex-direction: column;position: relative;background-color: white;}div.sk-parallel-item:first-child::after {align-self: flex-end;width: 50%;}div.sk-parallel-item:last-child::after {align-self: flex-start;width: 50%;}div.sk-parallel-item:only-child::after {width: 0;}div.sk-dashed-wrapped {border: 1px dashed gray;margin: 0.2em;box-sizing: border-box;padding-bottom: 0.1em;background-color: white;position: relative;}div.sk-label label {font-family: monospace;font-weight: bold;background-color: white;display: inline-block;line-height: 1.2em;}div.sk-label-container {position: relative;z-index: 2;text-align: center;}div.sk-container {display: inline-block;position: relative;}</style><div class=\"sk-top-container\"><div class=\"sk-container\"><div class=\"sk-item sk-dashed-wrapped\"><div class=\"sk-label-container\"><div class=\"sk-label sk-toggleable\"><input class=\"sk-toggleable__control sk-hidden--visually\" id=\"3cf183cd-480f-49e5-914b-7e5a49d6e1ad\" type=\"checkbox\" ><label class=\"sk-toggleable__label\" for=\"3cf183cd-480f-49e5-914b-7e5a49d6e1ad\">Pipeline</label><div class=\"sk-toggleable__content\"><pre>Pipeline(steps=[('columntransformer',\n",
              "                 ColumnTransformer(remainder='passthrough',\n",
              "                                   transformers=[('onehotencoder',\n",
              "                                                  OneHotEncoder(sparse=False),\n",
              "                                                  [1]),\n",
              "                                                 ('ordinalencoder',\n",
              "                                                  OrdinalEncoder(), [6]),\n",
              "                                                 ('standardscaler',\n",
              "                                                  StandardScaler(),\n",
              "                                                  [0, 3, 4, 5]),\n",
              "                                                 ('knnimputer', KNNImputer(),\n",
              "                                                  [2])])),\n",
              "                ('logisticregression', LogisticRegression(solver='liblinear'))])</pre></div></div></div><div class=\"sk-serial\"><div class=\"sk-item sk-dashed-wrapped\"><div class=\"sk-label-container\"><div class=\"sk-label sk-toggleable\"><input class=\"sk-toggleable__control sk-hidden--visually\" id=\"605180e5-3159-4027-a4f4-729cc2ab0012\" type=\"checkbox\" ><label class=\"sk-toggleable__label\" for=\"605180e5-3159-4027-a4f4-729cc2ab0012\">columntransformer: ColumnTransformer</label><div class=\"sk-toggleable__content\"><pre>ColumnTransformer(remainder='passthrough',\n",
              "                  transformers=[('onehotencoder', OneHotEncoder(sparse=False),\n",
              "                                 [1]),\n",
              "                                ('ordinalencoder', OrdinalEncoder(), [6]),\n",
              "                                ('standardscaler', StandardScaler(),\n",
              "                                 [0, 3, 4, 5]),\n",
              "                                ('knnimputer', KNNImputer(), [2])])</pre></div></div></div><div class=\"sk-parallel\"><div class=\"sk-parallel-item\"><div class=\"sk-item\"><div class=\"sk-label-container\"><div class=\"sk-label sk-toggleable\"><input class=\"sk-toggleable__control sk-hidden--visually\" id=\"e841c65b-3011-4464-be28-fd57771132bf\" type=\"checkbox\" ><label class=\"sk-toggleable__label\" for=\"e841c65b-3011-4464-be28-fd57771132bf\">onehotencoder</label><div class=\"sk-toggleable__content\"><pre>[1]</pre></div></div></div><div class=\"sk-serial\"><div class=\"sk-item\"><div class=\"sk-estimator sk-toggleable\"><input class=\"sk-toggleable__control sk-hidden--visually\" id=\"a04e7e26-f76e-44b7-ab05-bd47389a1751\" type=\"checkbox\" ><label class=\"sk-toggleable__label\" for=\"a04e7e26-f76e-44b7-ab05-bd47389a1751\">OneHotEncoder</label><div class=\"sk-toggleable__content\"><pre>OneHotEncoder(sparse=False)</pre></div></div></div></div></div></div><div class=\"sk-parallel-item\"><div class=\"sk-item\"><div class=\"sk-label-container\"><div class=\"sk-label sk-toggleable\"><input class=\"sk-toggleable__control sk-hidden--visually\" id=\"5a07cfe0-7c6c-4b34-939c-ed3cd075ce3b\" type=\"checkbox\" ><label class=\"sk-toggleable__label\" for=\"5a07cfe0-7c6c-4b34-939c-ed3cd075ce3b\">ordinalencoder</label><div class=\"sk-toggleable__content\"><pre>[6]</pre></div></div></div><div class=\"sk-serial\"><div class=\"sk-item\"><div class=\"sk-estimator sk-toggleable\"><input class=\"sk-toggleable__control sk-hidden--visually\" id=\"88efa349-94ca-46e3-8b0c-07582f46121a\" type=\"checkbox\" ><label class=\"sk-toggleable__label\" for=\"88efa349-94ca-46e3-8b0c-07582f46121a\">OrdinalEncoder</label><div class=\"sk-toggleable__content\"><pre>OrdinalEncoder()</pre></div></div></div></div></div></div><div class=\"sk-parallel-item\"><div class=\"sk-item\"><div class=\"sk-label-container\"><div class=\"sk-label sk-toggleable\"><input class=\"sk-toggleable__control sk-hidden--visually\" id=\"7899d46a-49d8-4c9c-8ed4-bc47aa1d407f\" type=\"checkbox\" ><label class=\"sk-toggleable__label\" for=\"7899d46a-49d8-4c9c-8ed4-bc47aa1d407f\">standardscaler</label><div class=\"sk-toggleable__content\"><pre>[0, 3, 4, 5]</pre></div></div></div><div class=\"sk-serial\"><div class=\"sk-item\"><div class=\"sk-estimator sk-toggleable\"><input class=\"sk-toggleable__control sk-hidden--visually\" id=\"45b4015a-0f8d-4989-8111-69d0e1615651\" type=\"checkbox\" ><label class=\"sk-toggleable__label\" for=\"45b4015a-0f8d-4989-8111-69d0e1615651\">StandardScaler</label><div class=\"sk-toggleable__content\"><pre>StandardScaler()</pre></div></div></div></div></div></div><div class=\"sk-parallel-item\"><div class=\"sk-item\"><div class=\"sk-label-container\"><div class=\"sk-label sk-toggleable\"><input class=\"sk-toggleable__control sk-hidden--visually\" id=\"996cb356-2096-4a66-b83e-09767069cc5e\" type=\"checkbox\" ><label class=\"sk-toggleable__label\" for=\"996cb356-2096-4a66-b83e-09767069cc5e\">knnimputer</label><div class=\"sk-toggleable__content\"><pre>[2]</pre></div></div></div><div class=\"sk-serial\"><div class=\"sk-item\"><div class=\"sk-estimator sk-toggleable\"><input class=\"sk-toggleable__control sk-hidden--visually\" id=\"a49b264e-513e-4055-be4c-0c913ba1e19c\" type=\"checkbox\" ><label class=\"sk-toggleable__label\" for=\"a49b264e-513e-4055-be4c-0c913ba1e19c\">KNNImputer</label><div class=\"sk-toggleable__content\"><pre>KNNImputer()</pre></div></div></div></div></div></div></div></div><div class=\"sk-item\"><div class=\"sk-estimator sk-toggleable\"><input class=\"sk-toggleable__control sk-hidden--visually\" id=\"020b596a-6fbe-4962-b2b4-fd5bb6458418\" type=\"checkbox\" ><label class=\"sk-toggleable__label\" for=\"020b596a-6fbe-4962-b2b4-fd5bb6458418\">LogisticRegression</label><div class=\"sk-toggleable__content\"><pre>LogisticRegression(solver='liblinear')</pre></div></div></div></div></div></div></div>"
            ],
            "text/plain": [
              "Pipeline(steps=[('columntransformer',\n",
              "                 ColumnTransformer(remainder='passthrough',\n",
              "                                   transformers=[('onehotencoder',\n",
              "                                                  OneHotEncoder(sparse=False),\n",
              "                                                  [1]),\n",
              "                                                 ('ordinalencoder',\n",
              "                                                  OrdinalEncoder(), [6]),\n",
              "                                                 ('standardscaler',\n",
              "                                                  StandardScaler(),\n",
              "                                                  [0, 3, 4, 5]),\n",
              "                                                 ('knnimputer', KNNImputer(),\n",
              "                                                  [2])])),\n",
              "                ('logisticregression', LogisticRegression(solver='liblinear'))])"
            ]
          },
          "execution_count": 34,
          "metadata": {},
          "output_type": "execute_result"
        }
      ],
      "execution_count": 34
    },
    {
      "id": "cccd5cbf",
      "cell_type": "code",
      "source": "pred_1 = pipe_2.predict(x_test)\npred_1",
      "metadata": {
        "execution": {
          "iopub.execute_input": "2021-12-23T08:40:01.184874Z",
          "iopub.status.busy": "2021-12-23T08:40:01.184233Z",
          "iopub.status.idle": "2021-12-23T08:40:01.198359Z",
          "shell.execute_reply": "2021-12-23T08:40:01.198846Z",
          "shell.execute_reply.started": "2021-12-23T08:37:37.559172Z"
        },
        "papermill": {
          "duration": 0.0748,
          "end_time": "2021-12-23T08:40:01.199022",
          "exception": false,
          "start_time": "2021-12-23T08:40:01.124222",
          "status": "completed"
        },
        "tags": []
      },
      "outputs": [
        {
          "data": {
            "text/plain": [
              "array([0, 0, 0, 0, 0, 1, 0, 1, 0, 0, 0, 0, 0, 0, 0, 0, 1, 1, 0, 1, 1, 1,\n",
              "       1, 0, 0, 0, 0, 1, 1, 0, 0, 0, 0, 0, 0, 0, 0, 0, 1, 1, 1, 1, 0, 1,\n",
              "       1, 1, 0, 0, 1, 0, 0, 0, 0, 1, 1, 1, 1, 1, 0, 1, 0, 0, 1, 0, 1, 1,\n",
              "       0, 1, 1, 0, 0, 0, 0, 0, 1, 0, 0, 0, 1, 0, 0, 1, 1, 0, 1, 0, 0, 0,\n",
              "       0, 0, 0, 1, 0, 0, 0, 0, 1, 0, 0, 1, 1, 1, 0, 0, 1, 0, 1, 0, 0, 1,\n",
              "       1, 1, 0, 0, 0, 0, 0, 0, 0, 0, 0, 0, 0, 0, 1, 1, 1, 0, 0, 0, 0, 0,\n",
              "       0, 1, 0, 1, 1, 0, 0, 0, 0, 1, 1, 1, 0, 1, 0, 0, 0, 1, 1, 1, 1, 0,\n",
              "       0, 0, 0, 0, 0, 0, 1, 1, 1, 1, 0, 0, 0, 0, 1, 1, 0, 0, 0, 1, 0, 0,\n",
              "       1, 0, 1, 0, 1, 1, 0, 0, 0, 1, 0, 0, 0, 0, 0, 1, 1, 0, 0, 1, 1, 1,\n",
              "       0, 1, 0, 0, 1, 0, 1, 0, 0, 0, 0, 1, 0, 1, 0, 0, 0, 1, 0, 1, 1, 1,\n",
              "       0, 0, 0, 0, 1, 0, 0, 1, 0, 0, 0, 1, 1, 0, 1, 1, 0, 0, 1, 0, 0, 0,\n",
              "       1, 1, 0, 0, 1, 1, 0, 0, 0, 0, 0, 1, 0, 0, 0, 0, 0, 1, 0, 0, 1, 1,\n",
              "       1, 0, 0])"
            ]
          },
          "execution_count": 35,
          "metadata": {},
          "output_type": "execute_result"
        }
      ],
      "execution_count": 35
    },
    {
      "id": "de2a35fb",
      "cell_type": "code",
      "source": "accuracy_score(pred_1,y_test)*100",
      "metadata": {
        "execution": {
          "iopub.execute_input": "2021-12-23T08:40:01.341969Z",
          "iopub.status.busy": "2021-12-23T08:40:01.340983Z",
          "iopub.status.idle": "2021-12-23T08:40:01.345256Z",
          "shell.execute_reply": "2021-12-23T08:40:01.346008Z",
          "shell.execute_reply.started": "2021-12-23T08:37:37.577693Z"
        },
        "papermill": {
          "duration": 0.082858,
          "end_time": "2021-12-23T08:40:01.346236",
          "exception": false,
          "start_time": "2021-12-23T08:40:01.263378",
          "status": "completed"
        },
        "tags": []
      },
      "outputs": [
        {
          "data": {
            "text/plain": [
              "77.90262172284645"
            ]
          },
          "execution_count": 36,
          "metadata": {},
          "output_type": "execute_result"
        }
      ],
      "execution_count": 36
    },
    {
      "id": "8dd23301",
      "cell_type": "code",
      "source": "from imblearn.over_sampling import RandomOverSampler, SMOTE\n\nover= RandomOverSampler()\n\no_x, o_y = over.fit_resample(x,y)\n\no_y.value_counts()",
      "metadata": {
        "execution": {
          "iopub.execute_input": "2021-12-23T08:40:01.490046Z",
          "iopub.status.busy": "2021-12-23T08:40:01.489374Z",
          "iopub.status.idle": "2021-12-23T08:40:01.630343Z",
          "shell.execute_reply": "2021-12-23T08:40:01.631117Z",
          "shell.execute_reply.started": "2021-12-23T08:37:37.586446Z"
        },
        "papermill": {
          "duration": 0.21521,
          "end_time": "2021-12-23T08:40:01.631355",
          "exception": false,
          "start_time": "2021-12-23T08:40:01.416145",
          "status": "completed"
        },
        "tags": []
      },
      "outputs": [
        {
          "data": {
            "text/plain": [
              "Survived\n",
              "0           549\n",
              "1           549\n",
              "dtype: int64"
            ]
          },
          "execution_count": 37,
          "metadata": {},
          "output_type": "execute_result"
        }
      ],
      "execution_count": 37
    },
    {
      "id": "de95d1f8",
      "cell_type": "code",
      "source": "from imblearn.pipeline import make_pipeline\n\ns =SMOTE()\n\nr_pipe = make_pipeline(trans, s, model)\n\nr_pipe",
      "metadata": {
        "execution": {
          "iopub.execute_input": "2021-12-23T08:40:01.772187Z",
          "iopub.status.busy": "2021-12-23T08:40:01.771043Z",
          "iopub.status.idle": "2021-12-23T08:40:01.815370Z",
          "shell.execute_reply": "2021-12-23T08:40:01.814745Z",
          "shell.execute_reply.started": "2021-12-23T08:37:37.607829Z"
        },
        "papermill": {
          "duration": 0.1222,
          "end_time": "2021-12-23T08:40:01.815544",
          "exception": false,
          "start_time": "2021-12-23T08:40:01.693344",
          "status": "completed"
        },
        "tags": []
      },
      "outputs": [
        {
          "data": {
            "text/html": [
              "<style>div.sk-top-container {color: black;background-color: white;}div.sk-toggleable {background-color: white;}label.sk-toggleable__label {cursor: pointer;display: block;width: 100%;margin-bottom: 0;padding: 0.2em 0.3em;box-sizing: border-box;text-align: center;}div.sk-toggleable__content {max-height: 0;max-width: 0;overflow: hidden;text-align: left;background-color: #f0f8ff;}div.sk-toggleable__content pre {margin: 0.2em;color: black;border-radius: 0.25em;background-color: #f0f8ff;}input.sk-toggleable__control:checked~div.sk-toggleable__content {max-height: 200px;max-width: 100%;overflow: auto;}div.sk-estimator input.sk-toggleable__control:checked~label.sk-toggleable__label {background-color: #d4ebff;}div.sk-label input.sk-toggleable__control:checked~label.sk-toggleable__label {background-color: #d4ebff;}input.sk-hidden--visually {border: 0;clip: rect(1px 1px 1px 1px);clip: rect(1px, 1px, 1px, 1px);height: 1px;margin: -1px;overflow: hidden;padding: 0;position: absolute;width: 1px;}div.sk-estimator {font-family: monospace;background-color: #f0f8ff;margin: 0.25em 0.25em;border: 1px dotted black;border-radius: 0.25em;box-sizing: border-box;}div.sk-estimator:hover {background-color: #d4ebff;}div.sk-parallel-item::after {content: \"\";width: 100%;border-bottom: 1px solid gray;flex-grow: 1;}div.sk-label:hover label.sk-toggleable__label {background-color: #d4ebff;}div.sk-serial::before {content: \"\";position: absolute;border-left: 1px solid gray;box-sizing: border-box;top: 2em;bottom: 0;left: 50%;}div.sk-serial {display: flex;flex-direction: column;align-items: center;background-color: white;}div.sk-item {z-index: 1;}div.sk-parallel {display: flex;align-items: stretch;justify-content: center;background-color: white;}div.sk-parallel-item {display: flex;flex-direction: column;position: relative;background-color: white;}div.sk-parallel-item:first-child::after {align-self: flex-end;width: 50%;}div.sk-parallel-item:last-child::after {align-self: flex-start;width: 50%;}div.sk-parallel-item:only-child::after {width: 0;}div.sk-dashed-wrapped {border: 1px dashed gray;margin: 0.2em;box-sizing: border-box;padding-bottom: 0.1em;background-color: white;position: relative;}div.sk-label label {font-family: monospace;font-weight: bold;background-color: white;display: inline-block;line-height: 1.2em;}div.sk-label-container {position: relative;z-index: 2;text-align: center;}div.sk-container {display: inline-block;position: relative;}</style><div class=\"sk-top-container\"><div class=\"sk-container\"><div class=\"sk-item sk-dashed-wrapped\"><div class=\"sk-label-container\"><div class=\"sk-label sk-toggleable\"><input class=\"sk-toggleable__control sk-hidden--visually\" id=\"dd301ef8-ad67-4be7-9936-76da1e19996e\" type=\"checkbox\" ><label class=\"sk-toggleable__label\" for=\"dd301ef8-ad67-4be7-9936-76da1e19996e\">Pipeline</label><div class=\"sk-toggleable__content\"><pre>Pipeline(steps=[('columntransformer',\n",
              "                 ColumnTransformer(remainder='passthrough',\n",
              "                                   transformers=[('onehotencoder',\n",
              "                                                  OneHotEncoder(sparse=False),\n",
              "                                                  [1]),\n",
              "                                                 ('ordinalencoder',\n",
              "                                                  OrdinalEncoder(), [6]),\n",
              "                                                 ('standardscaler',\n",
              "                                                  StandardScaler(),\n",
              "                                                  [0, 3, 4, 5]),\n",
              "                                                 ('knnimputer', KNNImputer(),\n",
              "                                                  [2])])),\n",
              "                ('smote', SMOTE()), ('svc', SVC(kernel='linear'))])</pre></div></div></div><div class=\"sk-serial\"><div class=\"sk-item sk-dashed-wrapped\"><div class=\"sk-label-container\"><div class=\"sk-label sk-toggleable\"><input class=\"sk-toggleable__control sk-hidden--visually\" id=\"f7baaefb-d28d-4061-9c32-a9b9bf1f886a\" type=\"checkbox\" ><label class=\"sk-toggleable__label\" for=\"f7baaefb-d28d-4061-9c32-a9b9bf1f886a\">columntransformer: ColumnTransformer</label><div class=\"sk-toggleable__content\"><pre>ColumnTransformer(remainder='passthrough',\n",
              "                  transformers=[('onehotencoder', OneHotEncoder(sparse=False),\n",
              "                                 [1]),\n",
              "                                ('ordinalencoder', OrdinalEncoder(), [6]),\n",
              "                                ('standardscaler', StandardScaler(),\n",
              "                                 [0, 3, 4, 5]),\n",
              "                                ('knnimputer', KNNImputer(), [2])])</pre></div></div></div><div class=\"sk-parallel\"><div class=\"sk-parallel-item\"><div class=\"sk-item\"><div class=\"sk-label-container\"><div class=\"sk-label sk-toggleable\"><input class=\"sk-toggleable__control sk-hidden--visually\" id=\"de550569-d40c-4064-9f7e-e945b15f17eb\" type=\"checkbox\" ><label class=\"sk-toggleable__label\" for=\"de550569-d40c-4064-9f7e-e945b15f17eb\">onehotencoder</label><div class=\"sk-toggleable__content\"><pre>[1]</pre></div></div></div><div class=\"sk-serial\"><div class=\"sk-item\"><div class=\"sk-estimator sk-toggleable\"><input class=\"sk-toggleable__control sk-hidden--visually\" id=\"e25ebe49-1d5d-4f0a-93b1-cb16842c4b70\" type=\"checkbox\" ><label class=\"sk-toggleable__label\" for=\"e25ebe49-1d5d-4f0a-93b1-cb16842c4b70\">OneHotEncoder</label><div class=\"sk-toggleable__content\"><pre>OneHotEncoder(sparse=False)</pre></div></div></div></div></div></div><div class=\"sk-parallel-item\"><div class=\"sk-item\"><div class=\"sk-label-container\"><div class=\"sk-label sk-toggleable\"><input class=\"sk-toggleable__control sk-hidden--visually\" id=\"28b07e12-ab8a-4ba6-bde3-18b576a91c14\" type=\"checkbox\" ><label class=\"sk-toggleable__label\" for=\"28b07e12-ab8a-4ba6-bde3-18b576a91c14\">ordinalencoder</label><div class=\"sk-toggleable__content\"><pre>[6]</pre></div></div></div><div class=\"sk-serial\"><div class=\"sk-item\"><div class=\"sk-estimator sk-toggleable\"><input class=\"sk-toggleable__control sk-hidden--visually\" id=\"25d24497-2f68-421b-a443-2f34be853300\" type=\"checkbox\" ><label class=\"sk-toggleable__label\" for=\"25d24497-2f68-421b-a443-2f34be853300\">OrdinalEncoder</label><div class=\"sk-toggleable__content\"><pre>OrdinalEncoder()</pre></div></div></div></div></div></div><div class=\"sk-parallel-item\"><div class=\"sk-item\"><div class=\"sk-label-container\"><div class=\"sk-label sk-toggleable\"><input class=\"sk-toggleable__control sk-hidden--visually\" id=\"b6e8d74f-0dd4-4a55-b64b-ab62de565e5a\" type=\"checkbox\" ><label class=\"sk-toggleable__label\" for=\"b6e8d74f-0dd4-4a55-b64b-ab62de565e5a\">standardscaler</label><div class=\"sk-toggleable__content\"><pre>[0, 3, 4, 5]</pre></div></div></div><div class=\"sk-serial\"><div class=\"sk-item\"><div class=\"sk-estimator sk-toggleable\"><input class=\"sk-toggleable__control sk-hidden--visually\" id=\"ef723dd1-0a77-4979-938d-ae89639737ef\" type=\"checkbox\" ><label class=\"sk-toggleable__label\" for=\"ef723dd1-0a77-4979-938d-ae89639737ef\">StandardScaler</label><div class=\"sk-toggleable__content\"><pre>StandardScaler()</pre></div></div></div></div></div></div><div class=\"sk-parallel-item\"><div class=\"sk-item\"><div class=\"sk-label-container\"><div class=\"sk-label sk-toggleable\"><input class=\"sk-toggleable__control sk-hidden--visually\" id=\"e812994c-f713-4ad5-a3bd-89a129979785\" type=\"checkbox\" ><label class=\"sk-toggleable__label\" for=\"e812994c-f713-4ad5-a3bd-89a129979785\">knnimputer</label><div class=\"sk-toggleable__content\"><pre>[2]</pre></div></div></div><div class=\"sk-serial\"><div class=\"sk-item\"><div class=\"sk-estimator sk-toggleable\"><input class=\"sk-toggleable__control sk-hidden--visually\" id=\"9ab996ba-6098-4419-b7ae-975c41394bea\" type=\"checkbox\" ><label class=\"sk-toggleable__label\" for=\"9ab996ba-6098-4419-b7ae-975c41394bea\">KNNImputer</label><div class=\"sk-toggleable__content\"><pre>KNNImputer()</pre></div></div></div></div></div></div></div></div><div class=\"sk-item\"><div class=\"sk-estimator sk-toggleable\"><input class=\"sk-toggleable__control sk-hidden--visually\" id=\"0b56fb81-d7c4-4ee7-866b-c7e870a084dd\" type=\"checkbox\" ><label class=\"sk-toggleable__label\" for=\"0b56fb81-d7c4-4ee7-866b-c7e870a084dd\">SMOTE</label><div class=\"sk-toggleable__content\"><pre>SMOTE()</pre></div></div></div><div class=\"sk-item\"><div class=\"sk-estimator sk-toggleable\"><input class=\"sk-toggleable__control sk-hidden--visually\" id=\"6b20d389-d424-4522-87bf-759b43d98817\" type=\"checkbox\" ><label class=\"sk-toggleable__label\" for=\"6b20d389-d424-4522-87bf-759b43d98817\">SVC</label><div class=\"sk-toggleable__content\"><pre>SVC(kernel='linear')</pre></div></div></div></div></div></div></div>"
            ],
            "text/plain": [
              "Pipeline(steps=[('columntransformer',\n",
              "                 ColumnTransformer(remainder='passthrough',\n",
              "                                   transformers=[('onehotencoder',\n",
              "                                                  OneHotEncoder(sparse=False),\n",
              "                                                  [1]),\n",
              "                                                 ('ordinalencoder',\n",
              "                                                  OrdinalEncoder(), [6]),\n",
              "                                                 ('standardscaler',\n",
              "                                                  StandardScaler(),\n",
              "                                                  [0, 3, 4, 5]),\n",
              "                                                 ('knnimputer', KNNImputer(),\n",
              "                                                  [2])])),\n",
              "                ('smote', SMOTE()), ('svc', SVC(kernel='linear'))])"
            ]
          },
          "execution_count": 38,
          "metadata": {},
          "output_type": "execute_result"
        }
      ],
      "execution_count": 38
    },
    {
      "id": "54c7b4ce",
      "cell_type": "code",
      "source": "pred = n_pipe.predict(x_test)\npred",
      "metadata": {
        "execution": {
          "iopub.execute_input": "2021-12-23T08:40:02.281529Z",
          "iopub.status.busy": "2021-12-23T08:40:02.280772Z",
          "iopub.status.idle": "2021-12-23T08:40:02.305912Z",
          "shell.execute_reply": "2021-12-23T08:40:02.305348Z",
          "shell.execute_reply.started": "2021-12-23T08:37:38.679700Z"
        },
        "papermill": {
          "duration": 0.103782,
          "end_time": "2021-12-23T08:40:02.306069",
          "exception": false,
          "start_time": "2021-12-23T08:40:02.202287",
          "status": "completed"
        },
        "tags": []
      },
      "outputs": [
        {
          "data": {
            "text/plain": [
              "array([0, 0, 0, 0, 0, 1, 1, 0, 0, 0, 0, 0, 0, 1, 1, 0, 1, 0, 0, 1, 1, 1,\n",
              "       1, 0, 1, 0, 0, 0, 1, 0, 0, 0, 0, 0, 0, 0, 0, 0, 1, 0, 1, 0, 0, 0,\n",
              "       0, 0, 0, 0, 0, 0, 0, 0, 0, 0, 1, 0, 0, 0, 0, 1, 0, 0, 1, 0, 1, 0,\n",
              "       0, 0, 1, 0, 0, 0, 0, 0, 0, 0, 0, 0, 1, 0, 0, 1, 0, 0, 0, 0, 0, 0,\n",
              "       0, 0, 0, 0, 0, 0, 0, 0, 0, 0, 0, 0, 1, 0, 0, 0, 1, 0, 1, 0, 0, 1,\n",
              "       0, 1, 0, 0, 0, 0, 0, 0, 0, 0, 0, 0, 0, 0, 0, 1, 1, 0, 0, 0, 0, 0,\n",
              "       0, 1, 0, 1, 0, 0, 0, 0, 0, 0, 0, 1, 0, 1, 0, 0, 0, 1, 0, 1, 1, 0,\n",
              "       0, 0, 0, 0, 0, 1, 1, 1, 1, 0, 0, 1, 0, 0, 1, 1, 0, 1, 0, 0, 0, 0,\n",
              "       0, 0, 0, 0, 0, 0, 0, 0, 0, 1, 0, 1, 0, 0, 0, 1, 1, 0, 0, 0, 0, 0,\n",
              "       0, 0, 0, 0, 0, 0, 1, 0, 0, 0, 0, 1, 1, 1, 0, 1, 1, 1, 1, 0, 1, 1,\n",
              "       0, 0, 0, 0, 0, 0, 1, 1, 0, 0, 0, 0, 1, 0, 1, 0, 0, 0, 0, 0, 1, 0,\n",
              "       1, 1, 0, 0, 1, 0, 1, 0, 0, 0, 1, 1, 0, 0, 0, 0, 0, 1, 0, 0, 0, 1,\n",
              "       1, 0, 0])"
            ]
          },
          "execution_count": 40,
          "metadata": {},
          "output_type": "execute_result"
        }
      ],
      "execution_count": 40
    },
    {
      "id": "16fa8429",
      "cell_type": "code",
      "source": "from sklearn.metrics import accuracy_score, plot_confusion_matrix\naccuracy_score(pred,y_test)*100",
      "metadata": {
        "execution": {
          "iopub.execute_input": "2021-12-23T08:40:02.457712Z",
          "iopub.status.busy": "2021-12-23T08:40:02.456988Z",
          "iopub.status.idle": "2021-12-23T08:40:02.463187Z",
          "shell.execute_reply": "2021-12-23T08:40:02.463791Z",
          "shell.execute_reply.started": "2021-12-23T08:37:38.710099Z"
        },
        "papermill": {
          "duration": 0.083646,
          "end_time": "2021-12-23T08:40:02.463970",
          "exception": false,
          "start_time": "2021-12-23T08:40:02.380324",
          "status": "completed"
        },
        "tags": []
      },
      "outputs": [
        {
          "data": {
            "text/plain": [
              "73.40823970037454"
            ]
          },
          "execution_count": 41,
          "metadata": {},
          "output_type": "execute_result"
        }
      ],
      "execution_count": 41
    },
    {
      "id": "7b79dbb5",
      "cell_type": "code",
      "source": "import matplotlib as plt\nplot_confusion_matrix(n_pipe,x_test,y_test)",
      "metadata": {
        "execution": {
          "iopub.execute_input": "2021-12-23T08:40:02.618501Z",
          "iopub.status.busy": "2021-12-23T08:40:02.617754Z",
          "iopub.status.idle": "2021-12-23T08:40:02.904477Z",
          "shell.execute_reply": "2021-12-23T08:40:02.903908Z",
          "shell.execute_reply.started": "2021-12-23T08:37:38.719684Z"
        },
        "papermill": {
          "duration": 0.366183,
          "end_time": "2021-12-23T08:40:02.904634",
          "exception": false,
          "start_time": "2021-12-23T08:40:02.538451",
          "status": "completed"
        },
        "tags": []
      },
      "outputs": [
        {
          "data": {
            "text/plain": [
              "<sklearn.metrics._plot.confusion_matrix.ConfusionMatrixDisplay at 0x7efc47340dd0>"
            ]
          },
          "execution_count": 42,
          "metadata": {},
          "output_type": "execute_result"
        },
        {
          "data": {
            "image/png": "[encoded data removed]",
            "text/plain": [
              "<Figure size 432x288 with 2 Axes>"
            ]
          },
          "metadata": {
            "needs_background": "light"
          },
          "output_type": "display_data"
        }
      ],
      "execution_count": 42
    },
    {
      "id": "df3d08ee",
      "cell_type": "code",
      "source": "data1 = pd.read_csv('/kaggle/input/titanic/test.csv')",
      "metadata": {
        "execution": {
          "iopub.execute_input": "2021-12-23T08:40:03.035233Z",
          "iopub.status.busy": "2021-12-23T08:40:03.034569Z",
          "iopub.status.idle": "2021-12-23T08:40:03.047021Z",
          "shell.execute_reply": "2021-12-23T08:40:03.047590Z",
          "shell.execute_reply.started": "2021-12-23T08:37:38.971509Z"
        },
        "papermill": {
          "duration": 0.07905,
          "end_time": "2021-12-23T08:40:03.047770",
          "exception": false,
          "start_time": "2021-12-23T08:40:02.968720",
          "status": "completed"
        },
        "tags": []
      },
      "outputs": [],
      "execution_count": 43
    },
    {
      "id": "43adeabb",
      "cell_type": "code",
      "source": "data1",
      "metadata": {
        "execution": {
          "iopub.execute_input": "2021-12-23T08:40:03.175960Z",
          "iopub.status.busy": "2021-12-23T08:40:03.175359Z",
          "iopub.status.idle": "2021-12-23T08:40:03.195566Z",
          "shell.execute_reply": "2021-12-23T08:40:03.196049Z",
          "shell.execute_reply.started": "2021-12-23T08:37:38.982197Z"
        },
        "papermill": {
          "duration": 0.08601,
          "end_time": "2021-12-23T08:40:03.196230",
          "exception": false,
          "start_time": "2021-12-23T08:40:03.110220",
          "status": "completed"
        },
        "tags": []
      },
      "outputs": [
        {
          "data": {
            "text/html": [
              "<div>\n",
              "<style scoped>\n",
              "    .dataframe tbody tr th:only-of-type {\n",
              "        vertical-align: middle;\n",
              "    }\n",
              "\n",
              "    .dataframe tbody tr th {\n",
              "        vertical-align: top;\n",
              "    }\n",
              "\n",
              "    .dataframe thead th {\n",
              "        text-align: right;\n",
              "    }\n",
              "</style>\n",
              "<table border=\"1\" class=\"dataframe\">\n",
              "  <thead>\n",
              "    <tr style=\"text-align: right;\">\n",
              "      <th></th>\n",
              "      <th>PassengerId</th>\n",
              "      <th>Pclass</th>\n",
              "      <th>Name</th>\n",
              "      <th>Sex</th>\n",
              "      <th>Age</th>\n",
              "      <th>SibSp</th>\n",
              "      <th>Parch</th>\n",
              "      <th>Ticket</th>\n",
              "      <th>Fare</th>\n",
              "      <th>Cabin</th>\n",
              "      <th>Embarked</th>\n",
              "    </tr>\n",
              "  </thead>\n",
              "  <tbody>\n",
              "    <tr>\n",
              "      <th>0</th>\n",
              "      <td>892</td>\n",
              "      <td>3</td>\n",
              "      <td>Kelly, Mr. James</td>\n",
              "      <td>male</td>\n",
              "      <td>34.5</td>\n",
              "      <td>0</td>\n",
              "      <td>0</td>\n",
              "      <td>330911</td>\n",
              "      <td>7.8292</td>\n",
              "      <td>NaN</td>\n",
              "      <td>Q</td>\n",
              "    </tr>\n",
              "    <tr>\n",
              "      <th>1</th>\n",
              "      <td>893</td>\n",
              "      <td>3</td>\n",
              "      <td>Wilkes, Mrs. James (Ellen Needs)</td>\n",
              "      <td>female</td>\n",
              "      <td>47.0</td>\n",
              "      <td>1</td>\n",
              "      <td>0</td>\n",
              "      <td>363272</td>\n",
              "      <td>7.0000</td>\n",
              "      <td>NaN</td>\n",
              "      <td>S</td>\n",
              "    </tr>\n",
              "    <tr>\n",
              "      <th>2</th>\n",
              "      <td>894</td>\n",
              "      <td>2</td>\n",
              "      <td>Myles, Mr. Thomas Francis</td>\n",
              "      <td>male</td>\n",
              "      <td>62.0</td>\n",
              "      <td>0</td>\n",
              "      <td>0</td>\n",
              "      <td>240276</td>\n",
              "      <td>9.6875</td>\n",
              "      <td>NaN</td>\n",
              "      <td>Q</td>\n",
              "    </tr>\n",
              "    <tr>\n",
              "      <th>3</th>\n",
              "      <td>895</td>\n",
              "      <td>3</td>\n",
              "      <td>Wirz, Mr. Albert</td>\n",
              "      <td>male</td>\n",
              "      <td>27.0</td>\n",
              "      <td>0</td>\n",
              "      <td>0</td>\n",
              "      <td>315154</td>\n",
              "      <td>8.6625</td>\n",
              "      <td>NaN</td>\n",
              "      <td>S</td>\n",
              "    </tr>\n",
              "    <tr>\n",
              "      <th>4</th>\n",
              "      <td>896</td>\n",
              "      <td>3</td>\n",
              "      <td>Hirvonen, Mrs. Alexander (Helga E Lindqvist)</td>\n",
              "      <td>female</td>\n",
              "      <td>22.0</td>\n",
              "      <td>1</td>\n",
              "      <td>1</td>\n",
              "      <td>3101298</td>\n",
              "      <td>12.2875</td>\n",
              "      <td>NaN</td>\n",
              "      <td>S</td>\n",
              "    </tr>\n",
              "    <tr>\n",
              "      <th>...</th>\n",
              "      <td>...</td>\n",
              "      <td>...</td>\n",
              "      <td>...</td>\n",
              "      <td>...</td>\n",
              "      <td>...</td>\n",
              "      <td>...</td>\n",
              "      <td>...</td>\n",
              "      <td>...</td>\n",
              "      <td>...</td>\n",
              "      <td>...</td>\n",
              "      <td>...</td>\n",
              "    </tr>\n",
              "    <tr>\n",
              "      <th>413</th>\n",
              "      <td>1305</td>\n",
              "      <td>3</td>\n",
              "      <td>Spector, Mr. Woolf</td>\n",
              "      <td>male</td>\n",
              "      <td>NaN</td>\n",
              "      <td>0</td>\n",
              "      <td>0</td>\n",
              "      <td>A.5. 3236</td>\n",
              "      <td>8.0500</td>\n",
              "      <td>NaN</td>\n",
              "      <td>S</td>\n",
              "    </tr>\n",
              "    <tr>\n",
              "      <th>414</th>\n",
              "      <td>1306</td>\n",
              "      <td>1</td>\n",
              "      <td>Oliva y Ocana, Dona. Fermina</td>\n",
              "      <td>female</td>\n",
              "      <td>39.0</td>\n",
              "      <td>0</td>\n",
              "      <td>0</td>\n",
              "      <td>PC 17758</td>\n",
              "      <td>108.9000</td>\n",
              "      <td>C105</td>\n",
              "      <td>C</td>\n",
              "    </tr>\n",
              "    <tr>\n",
              "      <th>415</th>\n",
              "      <td>1307</td>\n",
              "      <td>3</td>\n",
              "      <td>Saether, Mr. Simon Sivertsen</td>\n",
              "      <td>male</td>\n",
              "      <td>38.5</td>\n",
              "      <td>0</td>\n",
              "      <td>0</td>\n",
              "      <td>SOTON/O.Q. 3101262</td>\n",
              "      <td>7.2500</td>\n",
              "      <td>NaN</td>\n",
              "      <td>S</td>\n",
              "    </tr>\n",
              "    <tr>\n",
              "      <th>416</th>\n",
              "      <td>1308</td>\n",
              "      <td>3</td>\n",
              "      <td>Ware, Mr. Frederick</td>\n",
              "      <td>male</td>\n",
              "      <td>NaN</td>\n",
              "      <td>0</td>\n",
              "      <td>0</td>\n",
              "      <td>359309</td>\n",
              "      <td>8.0500</td>\n",
              "      <td>NaN</td>\n",
              "      <td>S</td>\n",
              "    </tr>\n",
              "    <tr>\n",
              "      <th>417</th>\n",
              "      <td>1309</td>\n",
              "      <td>3</td>\n",
              "      <td>Peter, Master. Michael J</td>\n",
              "      <td>male</td>\n",
              "      <td>NaN</td>\n",
              "      <td>1</td>\n",
              "      <td>1</td>\n",
              "      <td>2668</td>\n",
              "      <td>22.3583</td>\n",
              "      <td>NaN</td>\n",
              "      <td>C</td>\n",
              "    </tr>\n",
              "  </tbody>\n",
              "</table>\n",
              "<p>418 rows × 11 columns</p>\n",
              "</div>"
            ],
            "text/plain": [
              "     PassengerId  Pclass                                          Name  \\\n",
              "0            892       3                              Kelly, Mr. James   \n",
              "1            893       3              Wilkes, Mrs. James (Ellen Needs)   \n",
              "2            894       2                     Myles, Mr. Thomas Francis   \n",
              "3            895       3                              Wirz, Mr. Albert   \n",
              "4            896       3  Hirvonen, Mrs. Alexander (Helga E Lindqvist)   \n",
              "..           ...     ...                                           ...   \n",
              "413         1305       3                            Spector, Mr. Woolf   \n",
              "414         1306       1                  Oliva y Ocana, Dona. Fermina   \n",
              "415         1307       3                  Saether, Mr. Simon Sivertsen   \n",
              "416         1308       3                           Ware, Mr. Frederick   \n",
              "417         1309       3                      Peter, Master. Michael J   \n",
              "\n",
              "        Sex   Age  SibSp  Parch              Ticket      Fare Cabin Embarked  \n",
              "0      male  34.5      0      0              330911    7.8292   NaN        Q  \n",
              "1    female  47.0      1      0              363272    7.0000   NaN        S  \n",
              "2      male  62.0      0      0              240276    9.6875   NaN        Q  \n",
              "3      male  27.0      0      0              315154    8.6625   NaN        S  \n",
              "4    female  22.0      1      1             3101298   12.2875   NaN        S  \n",
              "..      ...   ...    ...    ...                 ...       ...   ...      ...  \n",
              "413    male   NaN      0      0           A.5. 3236    8.0500   NaN        S  \n",
              "414  female  39.0      0      0            PC 17758  108.9000  C105        C  \n",
              "415    male  38.5      0      0  SOTON/O.Q. 3101262    7.2500   NaN        S  \n",
              "416    male   NaN      0      0              359309    8.0500   NaN        S  \n",
              "417    male   NaN      1      1                2668   22.3583   NaN        C  \n",
              "\n",
              "[418 rows x 11 columns]"
            ]
          },
          "execution_count": 44,
          "metadata": {},
          "output_type": "execute_result"
        }
      ],
      "execution_count": 44
    },
    {
      "id": "14813d63",
      "cell_type": "code",
      "source": "data1.isnull().sum()",
      "metadata": {
        "execution": {
          "iopub.execute_input": "2021-12-23T08:40:03.325148Z",
          "iopub.status.busy": "2021-12-23T08:40:03.324504Z",
          "iopub.status.idle": "2021-12-23T08:40:03.331756Z",
          "shell.execute_reply": "2021-12-23T08:40:03.332380Z",
          "shell.execute_reply.started": "2021-12-23T08:37:39.009413Z"
        },
        "papermill": {
          "duration": 0.074193,
          "end_time": "2021-12-23T08:40:03.332554",
          "exception": false,
          "start_time": "2021-12-23T08:40:03.258361",
          "status": "completed"
        },
        "tags": []
      },
      "outputs": [
        {
          "data": {
            "text/plain": [
              "PassengerId      0\n",
              "Pclass           0\n",
              "Name             0\n",
              "Sex              0\n",
              "Age             86\n",
              "SibSp            0\n",
              "Parch            0\n",
              "Ticket           0\n",
              "Fare             1\n",
              "Cabin          327\n",
              "Embarked         0\n",
              "dtype: int64"
            ]
          },
          "execution_count": 45,
          "metadata": {},
          "output_type": "execute_result"
        }
      ],
      "execution_count": 45
    },
    {
      "id": "f94d7e6f",
      "cell_type": "code",
      "source": "data1.Fare = data1.Fare.fillna(0)\ndata1.Cabin = data1.Cabin.fillna(0)",
      "metadata": {
        "execution": {
          "iopub.execute_input": "2021-12-23T08:40:03.461607Z",
          "iopub.status.busy": "2021-12-23T08:40:03.460987Z",
          "iopub.status.idle": "2021-12-23T08:40:03.465812Z",
          "shell.execute_reply": "2021-12-23T08:40:03.466289Z",
          "shell.execute_reply.started": "2021-12-23T08:37:39.027534Z"
        },
        "papermill": {
          "duration": 0.070957,
          "end_time": "2021-12-23T08:40:03.466468",
          "exception": false,
          "start_time": "2021-12-23T08:40:03.395511",
          "status": "completed"
        },
        "tags": []
      },
      "outputs": [],
      "execution_count": 46
    },
    {
      "id": "ac94ddd1",
      "cell_type": "code",
      "source": "data1=data1[data1.Embarked!=0]\ndata1=data1[data1[(\"Embarked\")].map(data1[\"Embarked\"].value_counts())>0]\ndata1",
      "metadata": {
        "execution": {
          "iopub.execute_input": "2021-12-23T08:40:03.596070Z",
          "iopub.status.busy": "2021-12-23T08:40:03.595456Z",
          "iopub.status.idle": "2021-12-23T08:40:03.618904Z",
          "shell.execute_reply": "2021-12-23T08:40:03.619442Z",
          "shell.execute_reply.started": "2021-12-23T08:37:39.038720Z"
        },
        "papermill": {
          "duration": 0.090027,
          "end_time": "2021-12-23T08:40:03.619610",
          "exception": false,
          "start_time": "2021-12-23T08:40:03.529583",
          "status": "completed"
        },
        "tags": []
      },
      "outputs": [
        {
          "data": {
            "text/html": [
              "<div>\n",
              "<style scoped>\n",
              "    .dataframe tbody tr th:only-of-type {\n",
              "        vertical-align: middle;\n",
              "    }\n",
              "\n",
              "    .dataframe tbody tr th {\n",
              "        vertical-align: top;\n",
              "    }\n",
              "\n",
              "    .dataframe thead th {\n",
              "        text-align: right;\n",
              "    }\n",
              "</style>\n",
              "<table border=\"1\" class=\"dataframe\">\n",
              "  <thead>\n",
              "    <tr style=\"text-align: right;\">\n",
              "      <th></th>\n",
              "      <th>PassengerId</th>\n",
              "      <th>Pclass</th>\n",
              "      <th>Name</th>\n",
              "      <th>Sex</th>\n",
              "      <th>Age</th>\n",
              "      <th>SibSp</th>\n",
              "      <th>Parch</th>\n",
              "      <th>Ticket</th>\n",
              "      <th>Fare</th>\n",
              "      <th>Cabin</th>\n",
              "      <th>Embarked</th>\n",
              "    </tr>\n",
              "  </thead>\n",
              "  <tbody>\n",
              "    <tr>\n",
              "      <th>0</th>\n",
              "      <td>892</td>\n",
              "      <td>3</td>\n",
              "      <td>Kelly, Mr. James</td>\n",
              "      <td>male</td>\n",
              "      <td>34.5</td>\n",
              "      <td>0</td>\n",
              "      <td>0</td>\n",
              "      <td>330911</td>\n",
              "      <td>7.8292</td>\n",
              "      <td>0</td>\n",
              "      <td>Q</td>\n",
              "    </tr>\n",
              "    <tr>\n",
              "      <th>1</th>\n",
              "      <td>893</td>\n",
              "      <td>3</td>\n",
              "      <td>Wilkes, Mrs. James (Ellen Needs)</td>\n",
              "      <td>female</td>\n",
              "      <td>47.0</td>\n",
              "      <td>1</td>\n",
              "      <td>0</td>\n",
              "      <td>363272</td>\n",
              "      <td>7.0000</td>\n",
              "      <td>0</td>\n",
              "      <td>S</td>\n",
              "    </tr>\n",
              "    <tr>\n",
              "      <th>2</th>\n",
              "      <td>894</td>\n",
              "      <td>2</td>\n",
              "      <td>Myles, Mr. Thomas Francis</td>\n",
              "      <td>male</td>\n",
              "      <td>62.0</td>\n",
              "      <td>0</td>\n",
              "      <td>0</td>\n",
              "      <td>240276</td>\n",
              "      <td>9.6875</td>\n",
              "      <td>0</td>\n",
              "      <td>Q</td>\n",
              "    </tr>\n",
              "    <tr>\n",
              "      <th>3</th>\n",
              "      <td>895</td>\n",
              "      <td>3</td>\n",
              "      <td>Wirz, Mr. Albert</td>\n",
              "      <td>male</td>\n",
              "      <td>27.0</td>\n",
              "      <td>0</td>\n",
              "      <td>0</td>\n",
              "      <td>315154</td>\n",
              "      <td>8.6625</td>\n",
              "      <td>0</td>\n",
              "      <td>S</td>\n",
              "    </tr>\n",
              "    <tr>\n",
              "      <th>4</th>\n",
              "      <td>896</td>\n",
              "      <td>3</td>\n",
              "      <td>Hirvonen, Mrs. Alexander (Helga E Lindqvist)</td>\n",
              "      <td>female</td>\n",
              "      <td>22.0</td>\n",
              "      <td>1</td>\n",
              "      <td>1</td>\n",
              "      <td>3101298</td>\n",
              "      <td>12.2875</td>\n",
              "      <td>0</td>\n",
              "      <td>S</td>\n",
              "    </tr>\n",
              "    <tr>\n",
              "      <th>...</th>\n",
              "      <td>...</td>\n",
              "      <td>...</td>\n",
              "      <td>...</td>\n",
              "      <td>...</td>\n",
              "      <td>...</td>\n",
              "      <td>...</td>\n",
              "      <td>...</td>\n",
              "      <td>...</td>\n",
              "      <td>...</td>\n",
              "      <td>...</td>\n",
              "      <td>...</td>\n",
              "    </tr>\n",
              "    <tr>\n",
              "      <th>413</th>\n",
              "      <td>1305</td>\n",
              "      <td>3</td>\n",
              "      <td>Spector, Mr. Woolf</td>\n",
              "      <td>male</td>\n",
              "      <td>NaN</td>\n",
              "      <td>0</td>\n",
              "      <td>0</td>\n",
              "      <td>A.5. 3236</td>\n",
              "      <td>8.0500</td>\n",
              "      <td>0</td>\n",
              "      <td>S</td>\n",
              "    </tr>\n",
              "    <tr>\n",
              "      <th>414</th>\n",
              "      <td>1306</td>\n",
              "      <td>1</td>\n",
              "      <td>Oliva y Ocana, Dona. Fermina</td>\n",
              "      <td>female</td>\n",
              "      <td>39.0</td>\n",
              "      <td>0</td>\n",
              "      <td>0</td>\n",
              "      <td>PC 17758</td>\n",
              "      <td>108.9000</td>\n",
              "      <td>C105</td>\n",
              "      <td>C</td>\n",
              "    </tr>\n",
              "    <tr>\n",
              "      <th>415</th>\n",
              "      <td>1307</td>\n",
              "      <td>3</td>\n",
              "      <td>Saether, Mr. Simon Sivertsen</td>\n",
              "      <td>male</td>\n",
              "      <td>38.5</td>\n",
              "      <td>0</td>\n",
              "      <td>0</td>\n",
              "      <td>SOTON/O.Q. 3101262</td>\n",
              "      <td>7.2500</td>\n",
              "      <td>0</td>\n",
              "      <td>S</td>\n",
              "    </tr>\n",
              "    <tr>\n",
              "      <th>416</th>\n",
              "      <td>1308</td>\n",
              "      <td>3</td>\n",
              "      <td>Ware, Mr. Frederick</td>\n",
              "      <td>male</td>\n",
              "      <td>NaN</td>\n",
              "      <td>0</td>\n",
              "      <td>0</td>\n",
              "      <td>359309</td>\n",
              "      <td>8.0500</td>\n",
              "      <td>0</td>\n",
              "      <td>S</td>\n",
              "    </tr>\n",
              "    <tr>\n",
              "      <th>417</th>\n",
              "      <td>1309</td>\n",
              "      <td>3</td>\n",
              "      <td>Peter, Master. Michael J</td>\n",
              "      <td>male</td>\n",
              "      <td>NaN</td>\n",
              "      <td>1</td>\n",
              "      <td>1</td>\n",
              "      <td>2668</td>\n",
              "      <td>22.3583</td>\n",
              "      <td>0</td>\n",
              "      <td>C</td>\n",
              "    </tr>\n",
              "  </tbody>\n",
              "</table>\n",
              "<p>418 rows × 11 columns</p>\n",
              "</div>"
            ],
            "text/plain": [
              "     PassengerId  Pclass                                          Name  \\\n",
              "0            892       3                              Kelly, Mr. James   \n",
              "1            893       3              Wilkes, Mrs. James (Ellen Needs)   \n",
              "2            894       2                     Myles, Mr. Thomas Francis   \n",
              "3            895       3                              Wirz, Mr. Albert   \n",
              "4            896       3  Hirvonen, Mrs. Alexander (Helga E Lindqvist)   \n",
              "..           ...     ...                                           ...   \n",
              "413         1305       3                            Spector, Mr. Woolf   \n",
              "414         1306       1                  Oliva y Ocana, Dona. Fermina   \n",
              "415         1307       3                  Saether, Mr. Simon Sivertsen   \n",
              "416         1308       3                           Ware, Mr. Frederick   \n",
              "417         1309       3                      Peter, Master. Michael J   \n",
              "\n",
              "        Sex   Age  SibSp  Parch              Ticket      Fare Cabin Embarked  \n",
              "0      male  34.5      0      0              330911    7.8292     0        Q  \n",
              "1    female  47.0      1      0              363272    7.0000     0        S  \n",
              "2      male  62.0      0      0              240276    9.6875     0        Q  \n",
              "3      male  27.0      0      0              315154    8.6625     0        S  \n",
              "4    female  22.0      1      1             3101298   12.2875     0        S  \n",
              "..      ...   ...    ...    ...                 ...       ...   ...      ...  \n",
              "413    male   NaN      0      0           A.5. 3236    8.0500     0        S  \n",
              "414  female  39.0      0      0            PC 17758  108.9000  C105        C  \n",
              "415    male  38.5      0      0  SOTON/O.Q. 3101262    7.2500     0        S  \n",
              "416    male   NaN      0      0              359309    8.0500     0        S  \n",
              "417    male   NaN      1      1                2668   22.3583     0        C  \n",
              "\n",
              "[418 rows x 11 columns]"
            ]
          },
          "execution_count": 47,
          "metadata": {},
          "output_type": "execute_result"
        }
      ],
      "execution_count": 47
    },
    {
      "id": "fce8e22a",
      "cell_type": "code",
      "source": "t = data1.drop(columns = ['Ticket','Cabin','Name','PassengerId'])",
      "metadata": {
        "execution": {
          "iopub.execute_input": "2021-12-23T08:40:03.750634Z",
          "iopub.status.busy": "2021-12-23T08:40:03.750004Z",
          "iopub.status.idle": "2021-12-23T08:40:03.755062Z",
          "shell.execute_reply": "2021-12-23T08:40:03.755641Z",
          "shell.execute_reply.started": "2021-12-23T08:37:39.069794Z"
        },
        "papermill": {
          "duration": 0.072909,
          "end_time": "2021-12-23T08:40:03.755806",
          "exception": false,
          "start_time": "2021-12-23T08:40:03.682897",
          "status": "completed"
        },
        "tags": []
      },
      "outputs": [],
      "execution_count": 48
    },
    {
      "id": "1cc08092",
      "cell_type": "code",
      "source": "t",
      "metadata": {
        "execution": {
          "iopub.execute_input": "2021-12-23T08:40:03.885681Z",
          "iopub.status.busy": "2021-12-23T08:40:03.885037Z",
          "iopub.status.idle": "2021-12-23T08:40:03.901757Z",
          "shell.execute_reply": "2021-12-23T08:40:03.902270Z",
          "shell.execute_reply.started": "2021-12-23T08:37:39.076613Z"
        },
        "papermill": {
          "duration": 0.083648,
          "end_time": "2021-12-23T08:40:03.902465",
          "exception": false,
          "start_time": "2021-12-23T08:40:03.818817",
          "status": "completed"
        },
        "tags": []
      },
      "outputs": [
        {
          "data": {
            "text/html": [
              "<div>\n",
              "<style scoped>\n",
              "    .dataframe tbody tr th:only-of-type {\n",
              "        vertical-align: middle;\n",
              "    }\n",
              "\n",
              "    .dataframe tbody tr th {\n",
              "        vertical-align: top;\n",
              "    }\n",
              "\n",
              "    .dataframe thead th {\n",
              "        text-align: right;\n",
              "    }\n",
              "</style>\n",
              "<table border=\"1\" class=\"dataframe\">\n",
              "  <thead>\n",
              "    <tr style=\"text-align: right;\">\n",
              "      <th></th>\n",
              "      <th>Pclass</th>\n",
              "      <th>Sex</th>\n",
              "      <th>Age</th>\n",
              "      <th>SibSp</th>\n",
              "      <th>Parch</th>\n",
              "      <th>Fare</th>\n",
              "      <th>Embarked</th>\n",
              "    </tr>\n",
              "  </thead>\n",
              "  <tbody>\n",
              "    <tr>\n",
              "      <th>0</th>\n",
              "      <td>3</td>\n",
              "      <td>male</td>\n",
              "      <td>34.5</td>\n",
              "      <td>0</td>\n",
              "      <td>0</td>\n",
              "      <td>7.8292</td>\n",
              "      <td>Q</td>\n",
              "    </tr>\n",
              "    <tr>\n",
              "      <th>1</th>\n",
              "      <td>3</td>\n",
              "      <td>female</td>\n",
              "      <td>47.0</td>\n",
              "      <td>1</td>\n",
              "      <td>0</td>\n",
              "      <td>7.0000</td>\n",
              "      <td>S</td>\n",
              "    </tr>\n",
              "    <tr>\n",
              "      <th>2</th>\n",
              "      <td>2</td>\n",
              "      <td>male</td>\n",
              "      <td>62.0</td>\n",
              "      <td>0</td>\n",
              "      <td>0</td>\n",
              "      <td>9.6875</td>\n",
              "      <td>Q</td>\n",
              "    </tr>\n",
              "    <tr>\n",
              "      <th>3</th>\n",
              "      <td>3</td>\n",
              "      <td>male</td>\n",
              "      <td>27.0</td>\n",
              "      <td>0</td>\n",
              "      <td>0</td>\n",
              "      <td>8.6625</td>\n",
              "      <td>S</td>\n",
              "    </tr>\n",
              "    <tr>\n",
              "      <th>4</th>\n",
              "      <td>3</td>\n",
              "      <td>female</td>\n",
              "      <td>22.0</td>\n",
              "      <td>1</td>\n",
              "      <td>1</td>\n",
              "      <td>12.2875</td>\n",
              "      <td>S</td>\n",
              "    </tr>\n",
              "    <tr>\n",
              "      <th>...</th>\n",
              "      <td>...</td>\n",
              "      <td>...</td>\n",
              "      <td>...</td>\n",
              "      <td>...</td>\n",
              "      <td>...</td>\n",
              "      <td>...</td>\n",
              "      <td>...</td>\n",
              "    </tr>\n",
              "    <tr>\n",
              "      <th>413</th>\n",
              "      <td>3</td>\n",
              "      <td>male</td>\n",
              "      <td>NaN</td>\n",
              "      <td>0</td>\n",
              "      <td>0</td>\n",
              "      <td>8.0500</td>\n",
              "      <td>S</td>\n",
              "    </tr>\n",
              "    <tr>\n",
              "      <th>414</th>\n",
              "      <td>1</td>\n",
              "      <td>female</td>\n",
              "      <td>39.0</td>\n",
              "      <td>0</td>\n",
              "      <td>0</td>\n",
              "      <td>108.9000</td>\n",
              "      <td>C</td>\n",
              "    </tr>\n",
              "    <tr>\n",
              "      <th>415</th>\n",
              "      <td>3</td>\n",
              "      <td>male</td>\n",
              "      <td>38.5</td>\n",
              "      <td>0</td>\n",
              "      <td>0</td>\n",
              "      <td>7.2500</td>\n",
              "      <td>S</td>\n",
              "    </tr>\n",
              "    <tr>\n",
              "      <th>416</th>\n",
              "      <td>3</td>\n",
              "      <td>male</td>\n",
              "      <td>NaN</td>\n",
              "      <td>0</td>\n",
              "      <td>0</td>\n",
              "      <td>8.0500</td>\n",
              "      <td>S</td>\n",
              "    </tr>\n",
              "    <tr>\n",
              "      <th>417</th>\n",
              "      <td>3</td>\n",
              "      <td>male</td>\n",
              "      <td>NaN</td>\n",
              "      <td>1</td>\n",
              "      <td>1</td>\n",
              "      <td>22.3583</td>\n",
              "      <td>C</td>\n",
              "    </tr>\n",
              "  </tbody>\n",
              "</table>\n",
              "<p>418 rows × 7 columns</p>\n",
              "</div>"
            ],
            "text/plain": [
              "     Pclass     Sex   Age  SibSp  Parch      Fare Embarked\n",
              "0         3    male  34.5      0      0    7.8292        Q\n",
              "1         3  female  47.0      1      0    7.0000        S\n",
              "2         2    male  62.0      0      0    9.6875        Q\n",
              "3         3    male  27.0      0      0    8.6625        S\n",
              "4         3  female  22.0      1      1   12.2875        S\n",
              "..      ...     ...   ...    ...    ...       ...      ...\n",
              "413       3    male   NaN      0      0    8.0500        S\n",
              "414       1  female  39.0      0      0  108.9000        C\n",
              "415       3    male  38.5      0      0    7.2500        S\n",
              "416       3    male   NaN      0      0    8.0500        S\n",
              "417       3    male   NaN      1      1   22.3583        C\n",
              "\n",
              "[418 rows x 7 columns]"
            ]
          },
          "execution_count": 49,
          "metadata": {},
          "output_type": "execute_result"
        }
      ],
      "execution_count": 49
    },
    {
      "id": "e443b25e",
      "cell_type": "code",
      "source": "from sklearn.preprocessing import OneHotEncoder, OrdinalEncoder,StandardScaler#,KBinsDiscretizer\nfrom sklearn.impute import SimpleImputer\nfrom sklearn.compose import make_column_transformer\nfrom sklearn import set_config\ntrans = make_column_transformer((OneHotEncoder(sparse=False),nom_col),\n                                (OrdinalEncoder(),ordi_col),(StandardScaler(),num_col),(SimpleImputer(strategy='mean'),null_col),remainder='passthrough')\nset_config(display='diagram')\ntrans",
      "metadata": {
        "execution": {
          "iopub.execute_input": "2021-12-23T08:40:04.033702Z",
          "iopub.status.busy": "2021-12-23T08:40:04.033021Z",
          "iopub.status.idle": "2021-12-23T08:40:04.050880Z",
          "shell.execute_reply": "2021-12-23T08:40:04.051477Z",
          "shell.execute_reply.started": "2021-12-23T08:37:39.100917Z"
        },
        "papermill": {
          "duration": 0.085057,
          "end_time": "2021-12-23T08:40:04.051657",
          "exception": false,
          "start_time": "2021-12-23T08:40:03.966600",
          "status": "completed"
        },
        "tags": []
      },
      "outputs": [
        {
          "data": {
            "text/html": [
              "<style>div.sk-top-container {color: black;background-color: white;}div.sk-toggleable {background-color: white;}label.sk-toggleable__label {cursor: pointer;display: block;width: 100%;margin-bottom: 0;padding: 0.2em 0.3em;box-sizing: border-box;text-align: center;}div.sk-toggleable__content {max-height: 0;max-width: 0;overflow: hidden;text-align: left;background-color: #f0f8ff;}div.sk-toggleable__content pre {margin: 0.2em;color: black;border-radius: 0.25em;background-color: #f0f8ff;}input.sk-toggleable__control:checked~div.sk-toggleable__content {max-height: 200px;max-width: 100%;overflow: auto;}div.sk-estimator input.sk-toggleable__control:checked~label.sk-toggleable__label {background-color: #d4ebff;}div.sk-label input.sk-toggleable__control:checked~label.sk-toggleable__label {background-color: #d4ebff;}input.sk-hidden--visually {border: 0;clip: rect(1px 1px 1px 1px);clip: rect(1px, 1px, 1px, 1px);height: 1px;margin: -1px;overflow: hidden;padding: 0;position: absolute;width: 1px;}div.sk-estimator {font-family: monospace;background-color: #f0f8ff;margin: 0.25em 0.25em;border: 1px dotted black;border-radius: 0.25em;box-sizing: border-box;}div.sk-estimator:hover {background-color: #d4ebff;}div.sk-parallel-item::after {content: \"\";width: 100%;border-bottom: 1px solid gray;flex-grow: 1;}div.sk-label:hover label.sk-toggleable__label {background-color: #d4ebff;}div.sk-serial::before {content: \"\";position: absolute;border-left: 1px solid gray;box-sizing: border-box;top: 2em;bottom: 0;left: 50%;}div.sk-serial {display: flex;flex-direction: column;align-items: center;background-color: white;}div.sk-item {z-index: 1;}div.sk-parallel {display: flex;align-items: stretch;justify-content: center;background-color: white;}div.sk-parallel-item {display: flex;flex-direction: column;position: relative;background-color: white;}div.sk-parallel-item:first-child::after {align-self: flex-end;width: 50%;}div.sk-parallel-item:last-child::after {align-self: flex-start;width: 50%;}div.sk-parallel-item:only-child::after {width: 0;}div.sk-dashed-wrapped {border: 1px dashed gray;margin: 0.2em;box-sizing: border-box;padding-bottom: 0.1em;background-color: white;position: relative;}div.sk-label label {font-family: monospace;font-weight: bold;background-color: white;display: inline-block;line-height: 1.2em;}div.sk-label-container {position: relative;z-index: 2;text-align: center;}div.sk-container {display: inline-block;position: relative;}</style><div class=\"sk-top-container\"><div class=\"sk-container\"><div class=\"sk-item sk-dashed-wrapped\"><div class=\"sk-label-container\"><div class=\"sk-label sk-toggleable\"><input class=\"sk-toggleable__control sk-hidden--visually\" id=\"068a00be-caf1-48e6-88db-0ef957fdea96\" type=\"checkbox\" ><label class=\"sk-toggleable__label\" for=\"068a00be-caf1-48e6-88db-0ef957fdea96\">ColumnTransformer</label><div class=\"sk-toggleable__content\"><pre>ColumnTransformer(remainder='passthrough',\n",
              "                  transformers=[('onehotencoder', OneHotEncoder(sparse=False),\n",
              "                                 [1]),\n",
              "                                ('ordinalencoder', OrdinalEncoder(), [6]),\n",
              "                                ('standardscaler', StandardScaler(),\n",
              "                                 [0, 3, 4, 5]),\n",
              "                                ('simpleimputer', SimpleImputer(), [2])])</pre></div></div></div><div class=\"sk-parallel\"><div class=\"sk-parallel-item\"><div class=\"sk-item\"><div class=\"sk-label-container\"><div class=\"sk-label sk-toggleable\"><input class=\"sk-toggleable__control sk-hidden--visually\" id=\"3ab37ec9-348b-478f-8ff7-831a0b17784a\" type=\"checkbox\" ><label class=\"sk-toggleable__label\" for=\"3ab37ec9-348b-478f-8ff7-831a0b17784a\">onehotencoder</label><div class=\"sk-toggleable__content\"><pre>[1]</pre></div></div></div><div class=\"sk-serial\"><div class=\"sk-item\"><div class=\"sk-estimator sk-toggleable\"><input class=\"sk-toggleable__control sk-hidden--visually\" id=\"f99e5f28-26d7-4ae8-95b5-64195bcb3f04\" type=\"checkbox\" ><label class=\"sk-toggleable__label\" for=\"f99e5f28-26d7-4ae8-95b5-64195bcb3f04\">OneHotEncoder</label><div class=\"sk-toggleable__content\"><pre>OneHotEncoder(sparse=False)</pre></div></div></div></div></div></div><div class=\"sk-parallel-item\"><div class=\"sk-item\"><div class=\"sk-label-container\"><div class=\"sk-label sk-toggleable\"><input class=\"sk-toggleable__control sk-hidden--visually\" id=\"97e8603c-b098-4a94-b614-5a7e33617b80\" type=\"checkbox\" ><label class=\"sk-toggleable__label\" for=\"97e8603c-b098-4a94-b614-5a7e33617b80\">ordinalencoder</label><div class=\"sk-toggleable__content\"><pre>[6]</pre></div></div></div><div class=\"sk-serial\"><div class=\"sk-item\"><div class=\"sk-estimator sk-toggleable\"><input class=\"sk-toggleable__control sk-hidden--visually\" id=\"e07813e8-0fdc-436d-9652-444bb67f0406\" type=\"checkbox\" ><label class=\"sk-toggleable__label\" for=\"e07813e8-0fdc-436d-9652-444bb67f0406\">OrdinalEncoder</label><div class=\"sk-toggleable__content\"><pre>OrdinalEncoder()</pre></div></div></div></div></div></div><div class=\"sk-parallel-item\"><div class=\"sk-item\"><div class=\"sk-label-container\"><div class=\"sk-label sk-toggleable\"><input class=\"sk-toggleable__control sk-hidden--visually\" id=\"cb90f064-c355-439e-b831-294022af18b8\" type=\"checkbox\" ><label class=\"sk-toggleable__label\" for=\"cb90f064-c355-439e-b831-294022af18b8\">standardscaler</label><div class=\"sk-toggleable__content\"><pre>[0, 3, 4, 5]</pre></div></div></div><div class=\"sk-serial\"><div class=\"sk-item\"><div class=\"sk-estimator sk-toggleable\"><input class=\"sk-toggleable__control sk-hidden--visually\" id=\"616b9e79-27f9-4e20-9ad2-b3911e9ea9f1\" type=\"checkbox\" ><label class=\"sk-toggleable__label\" for=\"616b9e79-27f9-4e20-9ad2-b3911e9ea9f1\">StandardScaler</label><div class=\"sk-toggleable__content\"><pre>StandardScaler()</pre></div></div></div></div></div></div><div class=\"sk-parallel-item\"><div class=\"sk-item\"><div class=\"sk-label-container\"><div class=\"sk-label sk-toggleable\"><input class=\"sk-toggleable__control sk-hidden--visually\" id=\"ce1139b7-ec38-4c14-b184-aa1d94ecabcf\" type=\"checkbox\" ><label class=\"sk-toggleable__label\" for=\"ce1139b7-ec38-4c14-b184-aa1d94ecabcf\">simpleimputer</label><div class=\"sk-toggleable__content\"><pre>[2]</pre></div></div></div><div class=\"sk-serial\"><div class=\"sk-item\"><div class=\"sk-estimator sk-toggleable\"><input class=\"sk-toggleable__control sk-hidden--visually\" id=\"488114e7-066c-4561-a372-8e471810993c\" type=\"checkbox\" ><label class=\"sk-toggleable__label\" for=\"488114e7-066c-4561-a372-8e471810993c\">SimpleImputer</label><div class=\"sk-toggleable__content\"><pre>SimpleImputer()</pre></div></div></div></div></div></div></div></div></div></div>"
            ],
            "text/plain": [
              "ColumnTransformer(remainder='passthrough',\n",
              "                  transformers=[('onehotencoder', OneHotEncoder(sparse=False),\n",
              "                                 [1]),\n",
              "                                ('ordinalencoder', OrdinalEncoder(), [6]),\n",
              "                                ('standardscaler', StandardScaler(),\n",
              "                                 [0, 3, 4, 5]),\n",
              "                                ('simpleimputer', SimpleImputer(), [2])])"
            ]
          },
          "execution_count": 50,
          "metadata": {},
          "output_type": "execute_result"
        }
      ],
      "execution_count": 50
    },
    {
      "id": "d9fc791f",
      "cell_type": "code",
      "source": "pred1 = pipe.predict(t)\npred1",
      "metadata": {
        "execution": {
          "iopub.execute_input": "2021-12-23T08:40:04.185494Z",
          "iopub.status.busy": "2021-12-23T08:40:04.184820Z",
          "iopub.status.idle": "2021-12-23T08:40:04.218098Z",
          "shell.execute_reply": "2021-12-23T08:40:04.218591Z",
          "shell.execute_reply.started": "2021-12-23T08:37:39.117672Z"
        },
        "papermill": {
          "duration": 0.101571,
          "end_time": "2021-12-23T08:40:04.218773",
          "exception": false,
          "start_time": "2021-12-23T08:40:04.117202",
          "status": "completed"
        },
        "tags": []
      },
      "outputs": [
        {
          "data": {
            "text/plain": [
              "array([0, 0, 0, 0, 0, 0, 1, 0, 0, 0, 0, 0, 1, 0, 0, 1, 0, 0, 0, 0, 1, 1,\n",
              "       0, 0, 1, 0, 1, 0, 0, 0, 0, 0, 1, 0, 0, 0, 1, 0, 0, 0, 0, 0, 0, 1,\n",
              "       0, 0, 0, 0, 0, 0, 0, 0, 0, 1, 0, 0, 0, 0, 0, 1, 0, 0, 0, 0, 1, 1,\n",
              "       0, 0, 0, 0, 0, 0, 1, 0, 1, 1, 0, 0, 0, 0, 1, 0, 1, 0, 0, 0, 0, 0,\n",
              "       1, 1, 0, 0, 1, 0, 1, 0, 0, 0, 0, 0, 0, 0, 0, 0, 0, 0, 0, 0, 0, 0,\n",
              "       0, 1, 1, 0, 0, 0, 0, 1, 1, 1, 1, 0, 1, 0, 0, 0, 0, 1, 0, 0, 0, 0,\n",
              "       0, 0, 0, 0, 0, 0, 0, 0, 0, 1, 0, 0, 0, 0, 0, 0, 0, 0, 1, 0, 0, 0,\n",
              "       0, 0, 1, 0, 0, 1, 1, 1, 0, 0, 0, 0, 0, 0, 1, 0, 0, 0, 0, 0, 0, 1,\n",
              "       0, 0, 1, 0, 0, 1, 1, 0, 1, 0, 0, 0, 0, 0, 0, 0, 0, 0, 1, 0, 1, 0,\n",
              "       0, 1, 1, 1, 1, 1, 0, 0, 0, 0, 1, 0, 0, 0, 0, 0, 0, 0, 1, 0, 1, 0,\n",
              "       1, 0, 0, 0, 1, 1, 0, 1, 0, 0, 1, 0, 0, 0, 1, 0, 0, 0, 0, 1, 0, 0,\n",
              "       0, 0, 0, 0, 0, 0, 1, 1, 1, 0, 1, 0, 0, 0, 0, 0, 0, 0, 0, 0, 1, 1,\n",
              "       0, 0, 0, 0, 1, 0, 0, 0, 1, 1, 0, 0, 0, 0, 0, 0, 0, 1, 1, 1, 1, 0,\n",
              "       0, 0, 0, 0, 0, 1, 0, 1, 0, 0, 1, 0, 0, 0, 0, 0, 0, 0, 1, 0, 1, 1,\n",
              "       0, 0, 0, 0, 0, 0, 1, 0, 0, 0, 0, 0, 0, 0, 0, 0, 1, 0, 1, 0, 0, 0,\n",
              "       0, 1, 0, 0, 0, 0, 0, 0, 0, 0, 0, 0, 0, 0, 0, 0, 0, 0, 0, 0, 0, 0,\n",
              "       0, 0, 1, 0, 1, 0, 0, 1, 0, 1, 0, 0, 1, 0, 0, 0, 0, 0, 0, 1, 1, 0,\n",
              "       1, 1, 0, 0, 0, 0, 0, 0, 1, 0, 0, 0, 0, 0, 0, 1, 0, 1, 0, 0, 0, 1,\n",
              "       0, 1, 0, 0, 1, 0, 1, 0, 0, 0, 0, 1, 1, 1, 1, 1, 0, 0, 1, 0, 0, 0])"
            ]
          },
          "execution_count": 51,
          "metadata": {},
          "output_type": "execute_result"
        }
      ],
      "execution_count": 51
    },
    {
      "id": "4ecbea39",
      "cell_type": "code",
      "source": "submit=pd.read_csv('/kaggle/input/titanic/gender_submission.csv')",
      "metadata": {
        "execution": {
          "iopub.execute_input": "2021-12-23T08:40:04.352780Z",
          "iopub.status.busy": "2021-12-23T08:40:04.352127Z",
          "iopub.status.idle": "2021-12-23T08:40:04.362512Z",
          "shell.execute_reply": "2021-12-23T08:40:04.363025Z",
          "shell.execute_reply.started": "2021-12-23T08:39:02.399647Z"
        },
        "papermill": {
          "duration": 0.079339,
          "end_time": "2021-12-23T08:40:04.363190",
          "exception": false,
          "start_time": "2021-12-23T08:40:04.283851",
          "status": "completed"
        },
        "tags": []
      },
      "outputs": [],
      "execution_count": 52
    },
    {
      "id": "d73139e1",
      "cell_type": "code",
      "source": "submit['Survived']=pred1\nsubmit.to_csv('submission.csv',index=False)",
      "metadata": {
        "execution": {
          "iopub.execute_input": "2021-12-23T08:40:04.497418Z",
          "iopub.status.busy": "2021-12-23T08:40:04.496793Z",
          "iopub.status.idle": "2021-12-23T08:40:04.504662Z",
          "shell.execute_reply": "2021-12-23T08:40:04.505161Z",
          "shell.execute_reply.started": "2021-12-23T08:39:02.797735Z"
        },
        "papermill": {
          "duration": 0.076092,
          "end_time": "2021-12-23T08:40:04.505353",
          "exception": false,
          "start_time": "2021-12-23T08:40:04.429261",
          "status": "completed"
        },
        "tags": []
      },
      "outputs": [],
      "execution_count": 53
    },
    {
      "id": "742fbccc",
      "cell_type": "code",
      "source": "submit.Survived.value_counts()",
      "metadata": {
        "execution": {
          "iopub.execute_input": "2021-12-23T08:40:04.641829Z",
          "iopub.status.busy": "2021-12-23T08:40:04.639876Z",
          "iopub.status.idle": "2021-12-23T08:40:04.646251Z",
          "shell.execute_reply": "2021-12-23T08:40:04.646855Z",
          "shell.execute_reply.started": "2021-12-23T08:39:05.041944Z"
        },
        "papermill": {
          "duration": 0.076073,
          "end_time": "2021-12-23T08:40:04.647018",
          "exception": false,
          "start_time": "2021-12-23T08:40:04.570945",
          "status": "completed"
        },
        "tags": []
      },
      "outputs": [
        {
          "data": {
            "text/plain": [
              "0    313\n",
              "1    105\n",
              "Name: Survived, dtype: int64"
            ]
          },
          "execution_count": 54,
          "metadata": {},
          "output_type": "execute_result"
        }
      ],
      "execution_count": 54
    },
    {
      "id": "481c073b",
      "cell_type": "code",
      "source": "",
      "metadata": {
        "papermill": {
          "duration": 0.065097,
          "end_time": "2021-12-23T08:40:04.777283",
          "exception": false,
          "start_time": "2021-12-23T08:40:04.712186",
          "status": "completed"
        },
        "tags": []
      },
      "outputs": [],
      "execution_count": null
    },
    {
      "id": "00e37745",
      "cell_type": "code",
      "source": "",
      "metadata": {
        "papermill": {
          "duration": 0.06493,
          "end_time": "2021-12-23T08:40:04.907208",
          "exception": false,
          "start_time": "2021-12-23T08:40:04.842278",
          "status": "completed"
        },
        "tags": []
      },
      "outputs": [],
      "execution_count": null
    }
  ]
}